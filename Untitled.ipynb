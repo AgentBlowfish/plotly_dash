{
 "cells": [
  {
   "cell_type": "code",
   "execution_count": 2,
   "id": "ac64e00c-c52b-42c0-a890-25427b213f29",
   "metadata": {},
   "outputs": [],
   "source": [
    "import plotly\n",
    "import dash\n",
    "import sys\n"
   ]
  },
  {
   "cell_type": "code",
   "execution_count": 3,
   "id": "3f734cf6-59a1-440a-b227-3fbcfc050744",
   "metadata": {},
   "outputs": [
    {
     "data": {
      "text/plain": [
       "<dash.dash.Dash at 0x21b2ebf6090>"
      ]
     },
     "execution_count": 3,
     "metadata": {},
     "output_type": "execute_result"
    }
   ],
   "source": [
    "app = dash.Dash(__name__)\n",
    "\n",
    "app"
   ]
  },
  {
   "cell_type": "code",
   "execution_count": 4,
   "id": "fcce9ebe-25e9-46dc-b918-a2258786455c",
   "metadata": {},
   "outputs": [
    {
     "data": {
      "text/html": [
       "\n",
       "        <iframe\n",
       "            width=\"100%\"\n",
       "            height=\"650\"\n",
       "            src=\"http://127.0.0.1:8050/\"\n",
       "            frameborder=\"0\"\n",
       "            allowfullscreen\n",
       "            \n",
       "        ></iframe>\n",
       "        "
      ],
      "text/plain": [
       "<IPython.lib.display.IFrame at 0x21b2eeec990>"
      ]
     },
     "metadata": {},
     "output_type": "display_data"
    }
   ],
   "source": [
    "from dash import Dash, html\n",
    "app = Dash(__name__)\n",
    "app.layout = html.Div('Hola Grupo')\n",
    "if __name__==\"__main__\":\n",
    "    app.run_server()"
   ]
  },
  {
   "cell_type": "code",
   "execution_count": 5,
   "id": "aa91a667-8426-43a5-a42a-6244d3572da3",
   "metadata": {},
   "outputs": [],
   "source": [
    "from dash import Dash, html, dcc\n",
    "from dash.dependencies import Output, Input\n",
    "from jupyter_dash import JupyterDash\n",
    "import plotly.express as px\n",
    "import pandas as pd"
   ]
  },
  {
   "cell_type": "code",
   "execution_count": 6,
   "id": "6fb53ec2-0cd1-45a6-9f92-0e90d5fc620a",
   "metadata": {},
   "outputs": [
    {
     "data": {
      "text/html": [
       "\n",
       "        <iframe\n",
       "            width=\"100%\"\n",
       "            height=\"650\"\n",
       "            src=\"http://127.0.0.1:8050/\"\n",
       "            frameborder=\"0\"\n",
       "            allowfullscreen\n",
       "            \n",
       "        ></iframe>\n",
       "        "
      ],
      "text/plain": [
       "<IPython.lib.display.IFrame at 0x21b31e7ac90>"
      ]
     },
     "metadata": {},
     "output_type": "display_data"
    }
   ],
   "source": [
    "app.layout = html.Div(['Selecciona un color: ', \n",
    "                       dcc.Dropdown(\n",
    "                           options = ['Rojo', 'Amarillo', 'Verde', 'Azul'],\n",
    "                           id='color_input',\n",
    "                       value='Rojo')])\n",
    "\n",
    "if __name__==\"__main__\":\n",
    "    app.run_server()"
   ]
  },
  {
   "cell_type": "code",
   "execution_count": 13,
   "id": "a6fba349-793c-4a5c-bd5a-44a1c802dd95",
   "metadata": {},
   "outputs": [
    {
     "data": {
      "text/html": [
       "\n",
       "        <iframe\n",
       "            width=\"100%\"\n",
       "            height=\"650\"\n",
       "            src=\"http://127.0.0.1:8051/\"\n",
       "            frameborder=\"0\"\n",
       "            allowfullscreen\n",
       "            \n",
       "        ></iframe>\n",
       "        "
      ],
      "text/plain": [
       "<IPython.lib.display.IFrame at 0x21b2e9af950>"
      ]
     },
     "metadata": {},
     "output_type": "display_data"
    }
   ],
   "source": [
    "from dash import Dash, html, dcc\n",
    "from dash.dependencies import Output, Input\n",
    "from jupyter_dash import JupyterDash\n",
    "import plotly.express as px\n",
    "import pandas as pd\n",
    "\n",
    "app = Dash(__name__)\n",
    "app.layout = html.Div(\n",
    "    [dcc.Dropdown(\n",
    "        options=[\"Red\", \"Green\", \"Blue\"],\n",
    "        id = \"color-input\"),\n",
    "     html.Div(id=\"color-output\")])\n",
    "\n",
    "@app.callback(Output(\"color-output\", \"children\"),\n",
    "              Input(\"color-input\", \"value\"))\n",
    "def update_output_div(color):\n",
    "    return f\"Color Selected: {color}\"\n",
    "\n",
    "def color_output_div(color):\n",
    "    if not color:\n",
    "        raise PreventUpdate\n",
    "    return f\"Color Seleccionado: {color}\"\n",
    "\n",
    "if __name__==\"__main__\":\n",
    "    app.run_server(mode=\"inline\", debug=True, port=\"8051\")"
   ]
  },
  {
   "cell_type": "code",
   "execution_count": 17,
   "id": "e16cd8fd-21ec-4cb2-8274-1690d3f778b6",
   "metadata": {},
   "outputs": [],
   "source": [
    "import seaborn as sns\n",
    "\n",
    "df = sns.load_dataset('anscombe')\n",
    "\n",
    "app = Dash(__name__)\n",
    "\n",
    "app.layout = html.Div([html.H3(\"Anscombe's Quartet\"), \n",
    "                       dcc.Dropdown(id=\"dropdown\", options=df[\"dataset\"].unique()), dcc.Graph(id=\"visual\")])\n",
    "\n",
    "@app.callback(Output(\"visual\", \"figure\"), Input(\"dropdow\", \"value\"))\n",
    "\n",
    "def anscombes_scatter(dataset): \n",
    "    figure = px.scatter( df.query(f\"dataset == '{dataset}'\"), x=\"x\", y=\"y\" ) \n",
    "    return figure\n",
    "\n",
    "if __name__==\"main\": \n",
    "    app.run_server(mode=\"inline\", debug=True, port=\"8051\")"
   ]
  }
 ],
 "metadata": {
  "kernelspec": {
   "display_name": "Python 3 (ipykernel)",
   "language": "python",
   "name": "python3"
  },
  "language_info": {
   "codemirror_mode": {
    "name": "ipython",
    "version": 3
   },
   "file_extension": ".py",
   "mimetype": "text/x-python",
   "name": "python",
   "nbconvert_exporter": "python",
   "pygments_lexer": "ipython3",
   "version": "3.11.7"
  }
 },
 "nbformat": 4,
 "nbformat_minor": 5
}
