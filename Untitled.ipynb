{
 "cells": [
  {
   "cell_type": "code",
   "execution_count": 2,
   "id": "ac64e00c-c52b-42c0-a890-25427b213f29",
   "metadata": {},
   "outputs": [],
   "source": [
    "import plotly\n",
    "import dash\n",
    "import sys\n"
   ]
  },
  {
   "cell_type": "code",
   "execution_count": 3,
   "id": "3f734cf6-59a1-440a-b227-3fbcfc050744",
   "metadata": {},
   "outputs": [
    {
     "data": {
      "text/plain": [
       "<dash.dash.Dash at 0x21b2ebf6090>"
      ]
     },
     "execution_count": 3,
     "metadata": {},
     "output_type": "execute_result"
    }
   ],
   "source": [
    "app = dash.Dash(__name__)\n",
    "\n",
    "app"
   ]
  },
  {
   "cell_type": "code",
   "execution_count": 4,
   "id": "fcce9ebe-25e9-46dc-b918-a2258786455c",
   "metadata": {},
   "outputs": [
    {
     "data": {
      "text/html": [
       "\n",
       "        <iframe\n",
       "            width=\"100%\"\n",
       "            height=\"650\"\n",
       "            src=\"http://127.0.0.1:8050/\"\n",
       "            frameborder=\"0\"\n",
       "            allowfullscreen\n",
       "            \n",
       "        ></iframe>\n",
       "        "
      ],
      "text/plain": [
       "<IPython.lib.display.IFrame at 0x21b2eeec990>"
      ]
     },
     "metadata": {},
     "output_type": "display_data"
    }
   ],
   "source": [
    "from dash import Dash, html\n",
    "app = Dash(__name__)\n",
    "app.layout = html.Div('Hola Grupo')\n",
    "if __name__==\"__main__\":\n",
    "    app.run_server()"
   ]
  },
  {
   "cell_type": "code",
   "execution_count": 5,
   "id": "aa91a667-8426-43a5-a42a-6244d3572da3",
   "metadata": {},
   "outputs": [],
   "source": [
    "from dash import Dash, html, dcc\n",
    "from dash.dependencies import Output, Input\n",
    "from jupyter_dash import JupyterDash\n",
    "import plotly.express as px\n",
    "import pandas as pd"
   ]
  },
  {
   "cell_type": "code",
   "execution_count": 6,
   "id": "6fb53ec2-0cd1-45a6-9f92-0e90d5fc620a",
   "metadata": {},
   "outputs": [
    {
     "data": {
      "text/html": [
       "\n",
       "        <iframe\n",
       "            width=\"100%\"\n",
       "            height=\"650\"\n",
       "            src=\"http://127.0.0.1:8050/\"\n",
       "            frameborder=\"0\"\n",
       "            allowfullscreen\n",
       "            \n",
       "        ></iframe>\n",
       "        "
      ],
      "text/plain": [
       "<IPython.lib.display.IFrame at 0x21b31e7ac90>"
      ]
     },
     "metadata": {},
     "output_type": "display_data"
    }
   ],
   "source": [
    "app.layout = html.Div(['Selecciona un color: ', \n",
    "                       dcc.Dropdown(\n",
    "                           options = ['Rojo', 'Amarillo', 'Verde', 'Azul'],\n",
    "                           id='color_input',\n",
    "                       value='Rojo')])\n",
    "\n",
    "if __name__==\"__main__\":\n",
    "    app.run_server()"
   ]
  },
  {
   "cell_type": "code",
   "execution_count": 13,
   "id": "a6fba349-793c-4a5c-bd5a-44a1c802dd95",
   "metadata": {},
   "outputs": [
    {
     "data": {
      "text/html": [
       "\n",
       "        <iframe\n",
       "            width=\"100%\"\n",
       "            height=\"650\"\n",
       "            src=\"http://127.0.0.1:8051/\"\n",
       "            frameborder=\"0\"\n",
       "            allowfullscreen\n",
       "            \n",
       "        ></iframe>\n",
       "        "
      ],
      "text/plain": [
       "<IPython.lib.display.IFrame at 0x21b2e9af950>"
      ]
     },
     "metadata": {},
     "output_type": "display_data"
    }
   ],
   "source": [
    "from dash import Dash, html, dcc\n",
    "from dash.dependencies import Output, Input\n",
    "from jupyter_dash import JupyterDash\n",
    "import plotly.express as px\n",
    "import pandas as pd\n",
    "\n",
    "app = Dash(__name__)\n",
    "app.layout = html.Div(\n",
    "    [dcc.Dropdown(\n",
    "        options=[\"Red\", \"Green\", \"Blue\"],\n",
    "        id = \"color-input\"),\n",
    "     html.Div(id=\"color-output\")])\n",
    "\n",
    "@app.callback(Output(\"color-output\", \"children\"),\n",
    "              Input(\"color-input\", \"value\"))\n",
    "def update_output_div(color):\n",
    "    return f\"Color Selected: {color}\"\n",
    "\n",
    "def color_output_div(color):\n",
    "    if not color:\n",
    "        raise PreventUpdate\n",
    "    return f\"Color Seleccionado: {color}\"\n",
    "\n",
    "if __name__==\"__main__\":\n",
    "    app.run_server(mode=\"inline\", debug=True, port=\"8051\")"
   ]
  },
  {
   "cell_type": "code",
   "execution_count": 17,
   "id": "e16cd8fd-21ec-4cb2-8274-1690d3f778b6",
   "metadata": {},
   "outputs": [],
   "source": [
    "import seaborn as sns\n",
    "\n",
    "df = sns.load_dataset('anscombe')\n",
    "\n",
    "app = Dash(__name__)\n",
    "\n",
    "app.layout = html.Div([html.H3(\"Anscombe's Quartet\"), \n",
    "                       dcc.Dropdown(id=\"dropdown\", options=df[\"dataset\"].unique()), dcc.Graph(id=\"visual\")])\n",
    "\n",
    "@app.callback(Output(\"visual\", \"figure\"), Input(\"dropdow\", \"value\"))\n",
    "\n",
    "def anscombes_scatter(dataset): \n",
    "    figure = px.scatter( df.query(f\"dataset == '{dataset}'\"), x=\"x\", y=\"y\" ) \n",
    "    return figure\n",
    "\n",
    "if __name__==\"main\": \n",
    "    app.run_server(mode=\"inline\", debug=True, port=\"8051\")"
   ]
  },
  {
   "cell_type": "code",
   "execution_count": 30,
   "id": "3cbf31eb-ec89-412e-aaef-76e040d19397",
   "metadata": {},
   "outputs": [
    {
     "data": {
      "application/vnd.plotly.v1+json": {
       "config": {
        "plotlyServerURL": "https://plot.ly"
       },
       "data": [
        {
         "hovertemplate": "STATE=NEVADA<br>LOCAL_REVENUE=%{x}<br>STATE_REVENUE=%{y}<extra></extra>",
         "legendgroup": "NEVADA",
         "marker": {
          "color": "#636efa",
          "symbol": "circle"
         },
         "mode": "markers",
         "name": "NEVADA",
         "orientation": "v",
         "showlegend": true,
         "type": "scatter",
         "x": [
          328026,
          342115,
          392669,
          441880,
          486491,
          544037,
          628542,
          672547,
          763528,
          825173,
          856546,
          923699,
          997388,
          1133230,
          1295463,
          1461481,
          1564062,
          1744553,
          1562084,
          1339904,
          1249362,
          1183319,
          1169805,
          1205183,
          1264652,
          null,
          null,
          null,
          null,
          null,
          null,
          null,
          null
         ],
         "xaxis": "x",
         "y": [
          724032,
          753277,
          817216,
          860823,
          997400,
          1089122,
          1193619,
          1324474,
          1378678,
          1438406,
          1582993,
          1663026,
          1850655,
          1996995,
          2137351,
          2266751,
          2493641,
          2272415,
          2341891,
          2359671,
          2401035,
          2556472,
          2651854,
          2744606,
          2816911,
          null,
          null,
          null,
          null,
          null,
          null,
          null,
          null
         ],
         "yaxis": "y"
        },
        {
         "hovertemplate": "<b>OLS trendline</b><br>STATE_REVENUE = 1.49197 * LOCAL_REVENUE + 333819<br>R<sup>2</sup>=0.821296<br><br>STATE=NEVADA<br>LOCAL_REVENUE=%{x}<br>STATE_REVENUE=%{y} <b>(trend)</b><extra></extra>",
         "legendgroup": "NEVADA",
         "marker": {
          "color": "#636efa",
          "symbol": "circle"
         },
         "mode": "lines",
         "name": "NEVADA",
         "showlegend": false,
         "type": "scatter",
         "x": [
          328026,
          342115,
          392669,
          441880,
          486491,
          544037,
          628542,
          672547,
          763528,
          825173,
          856546,
          923699,
          997388,
          1133230,
          1169805,
          1183319,
          1205183,
          1249362,
          1264652,
          1295463,
          1339904,
          1461481,
          1562084,
          1564062,
          1744553
         ],
         "xaxis": "x",
         "y": [
          823223.8415128489,
          844244.1810837246,
          919669.1400351088,
          993090.3857319196,
          1059648.5778389773,
          1145505.378246786,
          1271584.1485950616,
          1337238.207990078,
          1472978.964218188,
          1564951.3421617355,
          1611758.8596120216,
          1711948.9982452122,
          1821890.6408485384,
          2024562.5812266278,
          2079131.3171060216,
          2099293.774978178,
          2131914.167083908,
          2197827.8289407976,
          2220640.022285868,
          2266609.053623667,
          2332913.6111415382,
          2514302.6255505355,
          2664399.099526603,
          2667350.2125701965,
          2936637.039845868
         ],
         "yaxis": "y"
        },
        {
         "hovertemplate": "STATE=NEW_MEXICO<br>LOCAL_REVENUE=%{x}<br>STATE_REVENUE=%{y}<extra></extra>",
         "legendgroup": "NEW_MEXICO",
         "marker": {
          "color": "#EF553B",
          "symbol": "circle"
         },
         "mode": "markers",
         "name": "NEW_MEXICO",
         "orientation": "v",
         "showlegend": true,
         "type": "scatter",
         "x": [
          177918,
          165451,
          196530,
          225026,
          253427,
          249714,
          276580,
          281173,
          324385,
          354289,
          351878,
          337330,
          374227,
          399433,
          449998,
          467945,
          559180,
          568184,
          576947,
          599684,
          605995,
          597419,
          629575,
          694180,
          666630,
          null,
          null,
          null,
          null,
          null,
          null,
          null,
          null
         ],
         "xaxis": "x",
         "y": [
          990653,
          897725,
          982237,
          1215392,
          1281567,
          1287163,
          1383314,
          1509815,
          1571088,
          1691663,
          1832491,
          1905419,
          1989564,
          2102670,
          2197044,
          2360542,
          2542639,
          2615320,
          2307843,
          2355210,
          2380982,
          2401884,
          2505492,
          2595682,
          2591444,
          null,
          null,
          null,
          null,
          null,
          null,
          null,
          null
         ],
         "yaxis": "y"
        },
        {
         "hovertemplate": "<b>OLS trendline</b><br>STATE_REVENUE = 3.26752 * LOCAL_REVENUE + 542712<br>R<sup>2</sup>=0.917983<br><br>STATE=NEW_MEXICO<br>LOCAL_REVENUE=%{x}<br>STATE_REVENUE=%{y} <b>(trend)</b><extra></extra>",
         "legendgroup": "NEW_MEXICO",
         "marker": {
          "color": "#EF553B",
          "symbol": "circle"
         },
         "mode": "lines",
         "name": "NEW_MEXICO",
         "showlegend": false,
         "type": "scatter",
         "x": [
          165451,
          177918,
          196530,
          225026,
          249714,
          253427,
          276580,
          281173,
          324385,
          337330,
          351878,
          354289,
          374227,
          399433,
          449998,
          467945,
          559180,
          568184,
          576947,
          597419,
          599684,
          605995,
          629575,
          666630,
          694180
         ],
         "xaxis": "x",
         "y": [
          1083327.7469144657,
          1124063.9791018406,
          1184879.1514345128,
          1277990.5392913697,
          1358659.1925553395,
          1370791.5122883725,
          1446444.5149220687,
          1461452.2565148026,
          1602648.5399254742,
          1644946.6489866413,
          1692482.6003672404,
          1700360.6027578525,
          1765508.5130291192,
          1847869.7441605038,
          2013092.1377238801,
          2071734.4060375735,
          2369847.034866895,
          2399267.828531379,
          2427901.148709286,
          2494793.917245417,
          2502194.8610093053,
          2522816.210278137,
          2599864.4460187564,
          2720942.578986044,
          2810962.888343723
         ],
         "yaxis": "y"
        },
        {
         "hovertemplate": "STATE=WYOMING<br>LOCAL_REVENUE=%{x}<br>STATE_REVENUE=%{y}<extra></extra>",
         "legendgroup": "WYOMING",
         "marker": {
          "color": "#00cc96",
          "symbol": "circle"
         },
         "mode": "markers",
         "name": "WYOMING",
         "orientation": "v",
         "showlegend": true,
         "type": "scatter",
         "x": [
          283818,
          271010,
          284600,
          287868,
          283421,
          296342,
          325875,
          314621,
          312882,
          332104,
          389696,
          388733,
          371738,
          439887,
          527230,
          644476,
          656068,
          621663,
          713747,
          616687,
          668359,
          701352,
          694711,
          725667,
          745758,
          null,
          null,
          null,
          null,
          null,
          null,
          null,
          null
         ],
         "xaxis": "x",
         "y": [
          314216,
          308683,
          351472,
          303913,
          339629,
          320566,
          330204,
          408271,
          408356,
          403021,
          443525,
          489199,
          507155,
          585789,
          507178,
          722364,
          846239,
          945765,
          880916,
          878979,
          851896,
          881114,
          965213,
          1116917,
          1175899,
          null,
          null,
          null,
          null,
          null,
          null,
          null,
          null
         ],
         "yaxis": "y"
        },
        {
         "hovertemplate": "<b>OLS trendline</b><br>STATE_REVENUE = 1.51629 * LOCAL_REVENUE + -110194<br>R<sup>2</sup>=0.926087<br><br>STATE=WYOMING<br>LOCAL_REVENUE=%{x}<br>STATE_REVENUE=%{y} <b>(trend)</b><extra></extra>",
         "legendgroup": "WYOMING",
         "marker": {
          "color": "#00cc96",
          "symbol": "circle"
         },
         "mode": "lines",
         "name": "WYOMING",
         "showlegend": false,
         "type": "scatter",
         "x": [
          271010,
          283421,
          283818,
          284600,
          287868,
          296342,
          312882,
          314621,
          325875,
          332104,
          371738,
          388733,
          389696,
          439887,
          527230,
          616687,
          621663,
          644476,
          656068,
          668359,
          694711,
          701352,
          713747,
          725667,
          745758
         ],
         "xaxis": "x",
         "y": [
          300736.7717852695,
          319555.47243433935,
          320157.4403787177,
          321343.1807628586,
          326298.4231866086,
          339147.48202958796,
          364226.9525586037,
          366863.7844358685,
          383928.1351815482,
          393373.11836928944,
          453469.83753174474,
          479239.2209441161,
          480699.4101895479,
          556803.6245379053,
          689241.1211773142,
          824884.059213237,
          832429.1284606605,
          867020.299027676,
          884597.1564867056,
          903233.9020896157,
          943191.2302262919,
          953260.9257391813,
          972055.36571543,
          990129.5669672963,
          1020593.3905705885
         ],
         "yaxis": "y"
        }
       ],
       "layout": {
        "autosize": true,
        "legend": {
         "title": {
          "text": "STATE"
         },
         "tracegroupgap": 0
        },
        "template": {
         "data": {
          "bar": [
           {
            "error_x": {
             "color": "#2a3f5f"
            },
            "error_y": {
             "color": "#2a3f5f"
            },
            "marker": {
             "line": {
              "color": "#E5ECF6",
              "width": 0.5
             },
             "pattern": {
              "fillmode": "overlay",
              "size": 10,
              "solidity": 0.2
             }
            },
            "type": "bar"
           }
          ],
          "barpolar": [
           {
            "marker": {
             "line": {
              "color": "#E5ECF6",
              "width": 0.5
             },
             "pattern": {
              "fillmode": "overlay",
              "size": 10,
              "solidity": 0.2
             }
            },
            "type": "barpolar"
           }
          ],
          "carpet": [
           {
            "aaxis": {
             "endlinecolor": "#2a3f5f",
             "gridcolor": "white",
             "linecolor": "white",
             "minorgridcolor": "white",
             "startlinecolor": "#2a3f5f"
            },
            "baxis": {
             "endlinecolor": "#2a3f5f",
             "gridcolor": "white",
             "linecolor": "white",
             "minorgridcolor": "white",
             "startlinecolor": "#2a3f5f"
            },
            "type": "carpet"
           }
          ],
          "choropleth": [
           {
            "colorbar": {
             "outlinewidth": 0,
             "ticks": ""
            },
            "type": "choropleth"
           }
          ],
          "contour": [
           {
            "colorbar": {
             "outlinewidth": 0,
             "ticks": ""
            },
            "colorscale": [
             [
              0,
              "#0d0887"
             ],
             [
              0.1111111111111111,
              "#46039f"
             ],
             [
              0.2222222222222222,
              "#7201a8"
             ],
             [
              0.3333333333333333,
              "#9c179e"
             ],
             [
              0.4444444444444444,
              "#bd3786"
             ],
             [
              0.5555555555555556,
              "#d8576b"
             ],
             [
              0.6666666666666666,
              "#ed7953"
             ],
             [
              0.7777777777777778,
              "#fb9f3a"
             ],
             [
              0.8888888888888888,
              "#fdca26"
             ],
             [
              1,
              "#f0f921"
             ]
            ],
            "type": "contour"
           }
          ],
          "contourcarpet": [
           {
            "colorbar": {
             "outlinewidth": 0,
             "ticks": ""
            },
            "type": "contourcarpet"
           }
          ],
          "heatmap": [
           {
            "colorbar": {
             "outlinewidth": 0,
             "ticks": ""
            },
            "colorscale": [
             [
              0,
              "#0d0887"
             ],
             [
              0.1111111111111111,
              "#46039f"
             ],
             [
              0.2222222222222222,
              "#7201a8"
             ],
             [
              0.3333333333333333,
              "#9c179e"
             ],
             [
              0.4444444444444444,
              "#bd3786"
             ],
             [
              0.5555555555555556,
              "#d8576b"
             ],
             [
              0.6666666666666666,
              "#ed7953"
             ],
             [
              0.7777777777777778,
              "#fb9f3a"
             ],
             [
              0.8888888888888888,
              "#fdca26"
             ],
             [
              1,
              "#f0f921"
             ]
            ],
            "type": "heatmap"
           }
          ],
          "heatmapgl": [
           {
            "colorbar": {
             "outlinewidth": 0,
             "ticks": ""
            },
            "colorscale": [
             [
              0,
              "#0d0887"
             ],
             [
              0.1111111111111111,
              "#46039f"
             ],
             [
              0.2222222222222222,
              "#7201a8"
             ],
             [
              0.3333333333333333,
              "#9c179e"
             ],
             [
              0.4444444444444444,
              "#bd3786"
             ],
             [
              0.5555555555555556,
              "#d8576b"
             ],
             [
              0.6666666666666666,
              "#ed7953"
             ],
             [
              0.7777777777777778,
              "#fb9f3a"
             ],
             [
              0.8888888888888888,
              "#fdca26"
             ],
             [
              1,
              "#f0f921"
             ]
            ],
            "type": "heatmapgl"
           }
          ],
          "histogram": [
           {
            "marker": {
             "pattern": {
              "fillmode": "overlay",
              "size": 10,
              "solidity": 0.2
             }
            },
            "type": "histogram"
           }
          ],
          "histogram2d": [
           {
            "colorbar": {
             "outlinewidth": 0,
             "ticks": ""
            },
            "colorscale": [
             [
              0,
              "#0d0887"
             ],
             [
              0.1111111111111111,
              "#46039f"
             ],
             [
              0.2222222222222222,
              "#7201a8"
             ],
             [
              0.3333333333333333,
              "#9c179e"
             ],
             [
              0.4444444444444444,
              "#bd3786"
             ],
             [
              0.5555555555555556,
              "#d8576b"
             ],
             [
              0.6666666666666666,
              "#ed7953"
             ],
             [
              0.7777777777777778,
              "#fb9f3a"
             ],
             [
              0.8888888888888888,
              "#fdca26"
             ],
             [
              1,
              "#f0f921"
             ]
            ],
            "type": "histogram2d"
           }
          ],
          "histogram2dcontour": [
           {
            "colorbar": {
             "outlinewidth": 0,
             "ticks": ""
            },
            "colorscale": [
             [
              0,
              "#0d0887"
             ],
             [
              0.1111111111111111,
              "#46039f"
             ],
             [
              0.2222222222222222,
              "#7201a8"
             ],
             [
              0.3333333333333333,
              "#9c179e"
             ],
             [
              0.4444444444444444,
              "#bd3786"
             ],
             [
              0.5555555555555556,
              "#d8576b"
             ],
             [
              0.6666666666666666,
              "#ed7953"
             ],
             [
              0.7777777777777778,
              "#fb9f3a"
             ],
             [
              0.8888888888888888,
              "#fdca26"
             ],
             [
              1,
              "#f0f921"
             ]
            ],
            "type": "histogram2dcontour"
           }
          ],
          "mesh3d": [
           {
            "colorbar": {
             "outlinewidth": 0,
             "ticks": ""
            },
            "type": "mesh3d"
           }
          ],
          "parcoords": [
           {
            "line": {
             "colorbar": {
              "outlinewidth": 0,
              "ticks": ""
             }
            },
            "type": "parcoords"
           }
          ],
          "pie": [
           {
            "automargin": true,
            "type": "pie"
           }
          ],
          "scatter": [
           {
            "fillpattern": {
             "fillmode": "overlay",
             "size": 10,
             "solidity": 0.2
            },
            "type": "scatter"
           }
          ],
          "scatter3d": [
           {
            "line": {
             "colorbar": {
              "outlinewidth": 0,
              "ticks": ""
             }
            },
            "marker": {
             "colorbar": {
              "outlinewidth": 0,
              "ticks": ""
             }
            },
            "type": "scatter3d"
           }
          ],
          "scattercarpet": [
           {
            "marker": {
             "colorbar": {
              "outlinewidth": 0,
              "ticks": ""
             }
            },
            "type": "scattercarpet"
           }
          ],
          "scattergeo": [
           {
            "marker": {
             "colorbar": {
              "outlinewidth": 0,
              "ticks": ""
             }
            },
            "type": "scattergeo"
           }
          ],
          "scattergl": [
           {
            "marker": {
             "colorbar": {
              "outlinewidth": 0,
              "ticks": ""
             }
            },
            "type": "scattergl"
           }
          ],
          "scattermapbox": [
           {
            "marker": {
             "colorbar": {
              "outlinewidth": 0,
              "ticks": ""
             }
            },
            "type": "scattermapbox"
           }
          ],
          "scatterpolar": [
           {
            "marker": {
             "colorbar": {
              "outlinewidth": 0,
              "ticks": ""
             }
            },
            "type": "scatterpolar"
           }
          ],
          "scatterpolargl": [
           {
            "marker": {
             "colorbar": {
              "outlinewidth": 0,
              "ticks": ""
             }
            },
            "type": "scatterpolargl"
           }
          ],
          "scatterternary": [
           {
            "marker": {
             "colorbar": {
              "outlinewidth": 0,
              "ticks": ""
             }
            },
            "type": "scatterternary"
           }
          ],
          "surface": [
           {
            "colorbar": {
             "outlinewidth": 0,
             "ticks": ""
            },
            "colorscale": [
             [
              0,
              "#0d0887"
             ],
             [
              0.1111111111111111,
              "#46039f"
             ],
             [
              0.2222222222222222,
              "#7201a8"
             ],
             [
              0.3333333333333333,
              "#9c179e"
             ],
             [
              0.4444444444444444,
              "#bd3786"
             ],
             [
              0.5555555555555556,
              "#d8576b"
             ],
             [
              0.6666666666666666,
              "#ed7953"
             ],
             [
              0.7777777777777778,
              "#fb9f3a"
             ],
             [
              0.8888888888888888,
              "#fdca26"
             ],
             [
              1,
              "#f0f921"
             ]
            ],
            "type": "surface"
           }
          ],
          "table": [
           {
            "cells": {
             "fill": {
              "color": "#EBF0F8"
             },
             "line": {
              "color": "white"
             }
            },
            "header": {
             "fill": {
              "color": "#C8D4E3"
             },
             "line": {
              "color": "white"
             }
            },
            "type": "table"
           }
          ]
         },
         "layout": {
          "annotationdefaults": {
           "arrowcolor": "#2a3f5f",
           "arrowhead": 0,
           "arrowwidth": 1
          },
          "autotypenumbers": "strict",
          "coloraxis": {
           "colorbar": {
            "outlinewidth": 0,
            "ticks": ""
           }
          },
          "colorscale": {
           "diverging": [
            [
             0,
             "#8e0152"
            ],
            [
             0.1,
             "#c51b7d"
            ],
            [
             0.2,
             "#de77ae"
            ],
            [
             0.3,
             "#f1b6da"
            ],
            [
             0.4,
             "#fde0ef"
            ],
            [
             0.5,
             "#f7f7f7"
            ],
            [
             0.6,
             "#e6f5d0"
            ],
            [
             0.7,
             "#b8e186"
            ],
            [
             0.8,
             "#7fbc41"
            ],
            [
             0.9,
             "#4d9221"
            ],
            [
             1,
             "#276419"
            ]
           ],
           "sequential": [
            [
             0,
             "#0d0887"
            ],
            [
             0.1111111111111111,
             "#46039f"
            ],
            [
             0.2222222222222222,
             "#7201a8"
            ],
            [
             0.3333333333333333,
             "#9c179e"
            ],
            [
             0.4444444444444444,
             "#bd3786"
            ],
            [
             0.5555555555555556,
             "#d8576b"
            ],
            [
             0.6666666666666666,
             "#ed7953"
            ],
            [
             0.7777777777777778,
             "#fb9f3a"
            ],
            [
             0.8888888888888888,
             "#fdca26"
            ],
            [
             1,
             "#f0f921"
            ]
           ],
           "sequentialminus": [
            [
             0,
             "#0d0887"
            ],
            [
             0.1111111111111111,
             "#46039f"
            ],
            [
             0.2222222222222222,
             "#7201a8"
            ],
            [
             0.3333333333333333,
             "#9c179e"
            ],
            [
             0.4444444444444444,
             "#bd3786"
            ],
            [
             0.5555555555555556,
             "#d8576b"
            ],
            [
             0.6666666666666666,
             "#ed7953"
            ],
            [
             0.7777777777777778,
             "#fb9f3a"
            ],
            [
             0.8888888888888888,
             "#fdca26"
            ],
            [
             1,
             "#f0f921"
            ]
           ]
          },
          "colorway": [
           "#636efa",
           "#EF553B",
           "#00cc96",
           "#ab63fa",
           "#FFA15A",
           "#19d3f3",
           "#FF6692",
           "#B6E880",
           "#FF97FF",
           "#FECB52"
          ],
          "font": {
           "color": "#2a3f5f"
          },
          "geo": {
           "bgcolor": "white",
           "lakecolor": "white",
           "landcolor": "#E5ECF6",
           "showlakes": true,
           "showland": true,
           "subunitcolor": "white"
          },
          "hoverlabel": {
           "align": "left"
          },
          "hovermode": "closest",
          "mapbox": {
           "style": "light"
          },
          "paper_bgcolor": "white",
          "plot_bgcolor": "#E5ECF6",
          "polar": {
           "angularaxis": {
            "gridcolor": "white",
            "linecolor": "white",
            "ticks": ""
           },
           "bgcolor": "#E5ECF6",
           "radialaxis": {
            "gridcolor": "white",
            "linecolor": "white",
            "ticks": ""
           }
          },
          "scene": {
           "xaxis": {
            "backgroundcolor": "#E5ECF6",
            "gridcolor": "white",
            "gridwidth": 2,
            "linecolor": "white",
            "showbackground": true,
            "ticks": "",
            "zerolinecolor": "white"
           },
           "yaxis": {
            "backgroundcolor": "#E5ECF6",
            "gridcolor": "white",
            "gridwidth": 2,
            "linecolor": "white",
            "showbackground": true,
            "ticks": "",
            "zerolinecolor": "white"
           },
           "zaxis": {
            "backgroundcolor": "#E5ECF6",
            "gridcolor": "white",
            "gridwidth": 2,
            "linecolor": "white",
            "showbackground": true,
            "ticks": "",
            "zerolinecolor": "white"
           }
          },
          "shapedefaults": {
           "line": {
            "color": "#2a3f5f"
           }
          },
          "ternary": {
           "aaxis": {
            "gridcolor": "white",
            "linecolor": "white",
            "ticks": ""
           },
           "baxis": {
            "gridcolor": "white",
            "linecolor": "white",
            "ticks": ""
           },
           "bgcolor": "#E5ECF6",
           "caxis": {
            "gridcolor": "white",
            "linecolor": "white",
            "ticks": ""
           }
          },
          "title": {
           "x": 0.05
          },
          "xaxis": {
           "automargin": true,
           "gridcolor": "white",
           "linecolor": "white",
           "ticks": "",
           "title": {
            "standoff": 15
           },
           "zerolinecolor": "white",
           "zerolinewidth": 2
          },
          "yaxis": {
           "automargin": true,
           "gridcolor": "white",
           "linecolor": "white",
           "ticks": "",
           "title": {
            "standoff": 15
           },
           "zerolinecolor": "white",
           "zerolinewidth": 2
          }
         }
        },
        "title": {
         "text": "Ingresos locales vs estatales"
        },
        "xaxis": {
         "anchor": "y",
         "autorange": true,
         "domain": [
          0,
          1
         ],
         "range": [
          69149.23612197029,
          1840854.7638780298
         ],
         "title": {
          "text": "LOCAL_REVENUE"
         },
         "type": "linear"
        },
        "yaxis": {
         "anchor": "x",
         "autorange": true,
         "domain": [
          0,
          1
         ],
         "range": [
          91797.7929982002,
          3086365.421258903
         ],
         "title": {
          "text": "STATE_REVENUE"
         },
         "type": "linear"
        }
       }
      },
      "image/png": "[encoded data removed]",
      "text/html": [
       "<div>                            <div id=\"917ccc87-8dd4-4a40-a1f5-921e2ff7dbd7\" class=\"plotly-graph-div\" style=\"height:525px; width:100%;\"></div>            <script type=\"text/javascript\">                require([\"plotly\"], function(Plotly) {                    window.PLOTLYENV=window.PLOTLYENV || {};                                    if (document.getElementById(\"917ccc87-8dd4-4a40-a1f5-921e2ff7dbd7\")) {                    Plotly.newPlot(                        \"917ccc87-8dd4-4a40-a1f5-921e2ff7dbd7\",                        [{\"hovertemplate\":\"STATE=NEVADA<br>LOCAL_REVENUE=%{x}<br>STATE_REVENUE=%{y}<extra></extra>\",\"legendgroup\":\"NEVADA\",\"marker\":{\"color\":\"#636efa\",\"symbol\":\"circle\"},\"mode\":\"markers\",\"name\":\"NEVADA\",\"orientation\":\"v\",\"showlegend\":true,\"x\":[328026.0,342115.0,392669.0,441880.0,486491.0,544037.0,628542.0,672547.0,763528.0,825173.0,856546.0,923699.0,997388.0,1133230.0,1295463.0,1461481.0,1564062.0,1744553.0,1562084.0,1339904.0,1249362.0,1183319.0,1169805.0,1205183.0,1264652.0,null,null,null,null,null,null,null,null],\"xaxis\":\"x\",\"y\":[724032.0,753277.0,817216.0,860823.0,997400.0,1089122.0,1193619.0,1324474.0,1378678.0,1438406.0,1582993.0,1663026.0,1850655.0,1996995.0,2137351.0,2266751.0,2493641.0,2272415.0,2341891.0,2359671.0,2401035.0,2556472.0,2651854.0,2744606.0,2816911.0,null,null,null,null,null,null,null,null],\"yaxis\":\"y\",\"type\":\"scatter\"},{\"hovertemplate\":\"<b>OLS trendline</b><br>STATE_REVENUE = 1.49197 * LOCAL_REVENUE + 333819<br>R<sup>2</sup>=0.821296<br><br>STATE=NEVADA<br>LOCAL_REVENUE=%{x}<br>STATE_REVENUE=%{y} <b>(trend)</b><extra></extra>\",\"legendgroup\":\"NEVADA\",\"marker\":{\"color\":\"#636efa\",\"symbol\":\"circle\"},\"mode\":\"lines\",\"name\":\"NEVADA\",\"showlegend\":false,\"x\":[328026.0,342115.0,392669.0,441880.0,486491.0,544037.0,628542.0,672547.0,763528.0,825173.0,856546.0,923699.0,997388.0,1133230.0,1169805.0,1183319.0,1205183.0,1249362.0,1264652.0,1295463.0,1339904.0,1461481.0,1562084.0,1564062.0,1744553.0],\"xaxis\":\"x\",\"y\":[823223.8415128489,844244.1810837246,919669.1400351088,993090.3857319196,1059648.5778389773,1145505.378246786,1271584.1485950616,1337238.207990078,1472978.964218188,1564951.3421617355,1611758.8596120216,1711948.9982452122,1821890.6408485384,2024562.5812266278,2079131.3171060216,2099293.774978178,2131914.167083908,2197827.8289407976,2220640.022285868,2266609.053623667,2332913.6111415382,2514302.6255505355,2664399.099526603,2667350.2125701965,2936637.039845868],\"yaxis\":\"y\",\"type\":\"scatter\"},{\"hovertemplate\":\"STATE=NEW_MEXICO<br>LOCAL_REVENUE=%{x}<br>STATE_REVENUE=%{y}<extra></extra>\",\"legendgroup\":\"NEW_MEXICO\",\"marker\":{\"color\":\"#EF553B\",\"symbol\":\"circle\"},\"mode\":\"markers\",\"name\":\"NEW_MEXICO\",\"orientation\":\"v\",\"showlegend\":true,\"x\":[177918.0,165451.0,196530.0,225026.0,253427.0,249714.0,276580.0,281173.0,324385.0,354289.0,351878.0,337330.0,374227.0,399433.0,449998.0,467945.0,559180.0,568184.0,576947.0,599684.0,605995.0,597419.0,629575.0,694180.0,666630.0,null,null,null,null,null,null,null,null],\"xaxis\":\"x\",\"y\":[990653.0,897725.0,982237.0,1215392.0,1281567.0,1287163.0,1383314.0,1509815.0,1571088.0,1691663.0,1832491.0,1905419.0,1989564.0,2102670.0,2197044.0,2360542.0,2542639.0,2615320.0,2307843.0,2355210.0,2380982.0,2401884.0,2505492.0,2595682.0,2591444.0,null,null,null,null,null,null,null,null],\"yaxis\":\"y\",\"type\":\"scatter\"},{\"hovertemplate\":\"<b>OLS trendline</b><br>STATE_REVENUE = 3.26752 * LOCAL_REVENUE + 542712<br>R<sup>2</sup>=0.917983<br><br>STATE=NEW_MEXICO<br>LOCAL_REVENUE=%{x}<br>STATE_REVENUE=%{y} <b>(trend)</b><extra></extra>\",\"legendgroup\":\"NEW_MEXICO\",\"marker\":{\"color\":\"#EF553B\",\"symbol\":\"circle\"},\"mode\":\"lines\",\"name\":\"NEW_MEXICO\",\"showlegend\":false,\"x\":[165451.0,177918.0,196530.0,225026.0,249714.0,253427.0,276580.0,281173.0,324385.0,337330.0,351878.0,354289.0,374227.0,399433.0,449998.0,467945.0,559180.0,568184.0,576947.0,597419.0,599684.0,605995.0,629575.0,666630.0,694180.0],\"xaxis\":\"x\",\"y\":[1083327.7469144657,1124063.9791018406,1184879.1514345128,1277990.5392913697,1358659.1925553395,1370791.5122883725,1446444.5149220687,1461452.2565148026,1602648.5399254742,1644946.6489866413,1692482.6003672404,1700360.6027578525,1765508.5130291192,1847869.7441605038,2013092.1377238801,2071734.4060375735,2369847.034866895,2399267.828531379,2427901.148709286,2494793.917245417,2502194.8610093053,2522816.210278137,2599864.4460187564,2720942.578986044,2810962.888343723],\"yaxis\":\"y\",\"type\":\"scatter\"},{\"hovertemplate\":\"STATE=WYOMING<br>LOCAL_REVENUE=%{x}<br>STATE_REVENUE=%{y}<extra></extra>\",\"legendgroup\":\"WYOMING\",\"marker\":{\"color\":\"#00cc96\",\"symbol\":\"circle\"},\"mode\":\"markers\",\"name\":\"WYOMING\",\"orientation\":\"v\",\"showlegend\":true,\"x\":[283818.0,271010.0,284600.0,287868.0,283421.0,296342.0,325875.0,314621.0,312882.0,332104.0,389696.0,388733.0,371738.0,439887.0,527230.0,644476.0,656068.0,621663.0,713747.0,616687.0,668359.0,701352.0,694711.0,725667.0,745758.0,null,null,null,null,null,null,null,null],\"xaxis\":\"x\",\"y\":[314216.0,308683.0,351472.0,303913.0,339629.0,320566.0,330204.0,408271.0,408356.0,403021.0,443525.0,489199.0,507155.0,585789.0,507178.0,722364.0,846239.0,945765.0,880916.0,878979.0,851896.0,881114.0,965213.0,1116917.0,1175899.0,null,null,null,null,null,null,null,null],\"yaxis\":\"y\",\"type\":\"scatter\"},{\"hovertemplate\":\"<b>OLS trendline</b><br>STATE_REVENUE = 1.51629 * LOCAL_REVENUE + -110194<br>R<sup>2</sup>=0.926087<br><br>STATE=WYOMING<br>LOCAL_REVENUE=%{x}<br>STATE_REVENUE=%{y} <b>(trend)</b><extra></extra>\",\"legendgroup\":\"WYOMING\",\"marker\":{\"color\":\"#00cc96\",\"symbol\":\"circle\"},\"mode\":\"lines\",\"name\":\"WYOMING\",\"showlegend\":false,\"x\":[271010.0,283421.0,283818.0,284600.0,287868.0,296342.0,312882.0,314621.0,325875.0,332104.0,371738.0,388733.0,389696.0,439887.0,527230.0,616687.0,621663.0,644476.0,656068.0,668359.0,694711.0,701352.0,713747.0,725667.0,745758.0],\"xaxis\":\"x\",\"y\":[300736.7717852695,319555.47243433935,320157.4403787177,321343.1807628586,326298.4231866086,339147.48202958796,364226.9525586037,366863.7844358685,383928.1351815482,393373.11836928944,453469.83753174474,479239.2209441161,480699.4101895479,556803.6245379053,689241.1211773142,824884.059213237,832429.1284606605,867020.299027676,884597.1564867056,903233.9020896157,943191.2302262919,953260.9257391813,972055.36571543,990129.5669672963,1020593.3905705885],\"yaxis\":\"y\",\"type\":\"scatter\"}],                        {\"template\":{\"data\":{\"histogram2dcontour\":[{\"type\":\"histogram2dcontour\",\"colorbar\":{\"outlinewidth\":0,\"ticks\":\"\"},\"colorscale\":[[0.0,\"#0d0887\"],[0.1111111111111111,\"#46039f\"],[0.2222222222222222,\"#7201a8\"],[0.3333333333333333,\"#9c179e\"],[0.4444444444444444,\"#bd3786\"],[0.5555555555555556,\"#d8576b\"],[0.6666666666666666,\"#ed7953\"],[0.7777777777777778,\"#fb9f3a\"],[0.8888888888888888,\"#fdca26\"],[1.0,\"#f0f921\"]]}],\"choropleth\":[{\"type\":\"choropleth\",\"colorbar\":{\"outlinewidth\":0,\"ticks\":\"\"}}],\"histogram2d\":[{\"type\":\"histogram2d\",\"colorbar\":{\"outlinewidth\":0,\"ticks\":\"\"},\"colorscale\":[[0.0,\"#0d0887\"],[0.1111111111111111,\"#46039f\"],[0.2222222222222222,\"#7201a8\"],[0.3333333333333333,\"#9c179e\"],[0.4444444444444444,\"#bd3786\"],[0.5555555555555556,\"#d8576b\"],[0.6666666666666666,\"#ed7953\"],[0.7777777777777778,\"#fb9f3a\"],[0.8888888888888888,\"#fdca26\"],[1.0,\"#f0f921\"]]}],\"heatmap\":[{\"type\":\"heatmap\",\"colorbar\":{\"outlinewidth\":0,\"ticks\":\"\"},\"colorscale\":[[0.0,\"#0d0887\"],[0.1111111111111111,\"#46039f\"],[0.2222222222222222,\"#7201a8\"],[0.3333333333333333,\"#9c179e\"],[0.4444444444444444,\"#bd3786\"],[0.5555555555555556,\"#d8576b\"],[0.6666666666666666,\"#ed7953\"],[0.7777777777777778,\"#fb9f3a\"],[0.8888888888888888,\"#fdca26\"],[1.0,\"#f0f921\"]]}],\"heatmapgl\":[{\"type\":\"heatmapgl\",\"colorbar\":{\"outlinewidth\":0,\"ticks\":\"\"},\"colorscale\":[[0.0,\"#0d0887\"],[0.1111111111111111,\"#46039f\"],[0.2222222222222222,\"#7201a8\"],[0.3333333333333333,\"#9c179e\"],[0.4444444444444444,\"#bd3786\"],[0.5555555555555556,\"#d8576b\"],[0.6666666666666666,\"#ed7953\"],[0.7777777777777778,\"#fb9f3a\"],[0.8888888888888888,\"#fdca26\"],[1.0,\"#f0f921\"]]}],\"contourcarpet\":[{\"type\":\"contourcarpet\",\"colorbar\":{\"outlinewidth\":0,\"ticks\":\"\"}}],\"contour\":[{\"type\":\"contour\",\"colorbar\":{\"outlinewidth\":0,\"ticks\":\"\"},\"colorscale\":[[0.0,\"#0d0887\"],[0.1111111111111111,\"#46039f\"],[0.2222222222222222,\"#7201a8\"],[0.3333333333333333,\"#9c179e\"],[0.4444444444444444,\"#bd3786\"],[0.5555555555555556,\"#d8576b\"],[0.6666666666666666,\"#ed7953\"],[0.7777777777777778,\"#fb9f3a\"],[0.8888888888888888,\"#fdca26\"],[1.0,\"#f0f921\"]]}],\"surface\":[{\"type\":\"surface\",\"colorbar\":{\"outlinewidth\":0,\"ticks\":\"\"},\"colorscale\":[[0.0,\"#0d0887\"],[0.1111111111111111,\"#46039f\"],[0.2222222222222222,\"#7201a8\"],[0.3333333333333333,\"#9c179e\"],[0.4444444444444444,\"#bd3786\"],[0.5555555555555556,\"#d8576b\"],[0.6666666666666666,\"#ed7953\"],[0.7777777777777778,\"#fb9f3a\"],[0.8888888888888888,\"#fdca26\"],[1.0,\"#f0f921\"]]}],\"mesh3d\":[{\"type\":\"mesh3d\",\"colorbar\":{\"outlinewidth\":0,\"ticks\":\"\"}}],\"scatter\":[{\"fillpattern\":{\"fillmode\":\"overlay\",\"size\":10,\"solidity\":0.2},\"type\":\"scatter\"}],\"parcoords\":[{\"type\":\"parcoords\",\"line\":{\"colorbar\":{\"outlinewidth\":0,\"ticks\":\"\"}}}],\"scatterpolargl\":[{\"type\":\"scatterpolargl\",\"marker\":{\"colorbar\":{\"outlinewidth\":0,\"ticks\":\"\"}}}],\"bar\":[{\"error_x\":{\"color\":\"#2a3f5f\"},\"error_y\":{\"color\":\"#2a3f5f\"},\"marker\":{\"line\":{\"color\":\"#E5ECF6\",\"width\":0.5},\"pattern\":{\"fillmode\":\"overlay\",\"size\":10,\"solidity\":0.2}},\"type\":\"bar\"}],\"scattergeo\":[{\"type\":\"scattergeo\",\"marker\":{\"colorbar\":{\"outlinewidth\":0,\"ticks\":\"\"}}}],\"scatterpolar\":[{\"type\":\"scatterpolar\",\"marker\":{\"colorbar\":{\"outlinewidth\":0,\"ticks\":\"\"}}}],\"histogram\":[{\"marker\":{\"pattern\":{\"fillmode\":\"overlay\",\"size\":10,\"solidity\":0.2}},\"type\":\"histogram\"}],\"scattergl\":[{\"type\":\"scattergl\",\"marker\":{\"colorbar\":{\"outlinewidth\":0,\"ticks\":\"\"}}}],\"scatter3d\":[{\"type\":\"scatter3d\",\"line\":{\"colorbar\":{\"outlinewidth\":0,\"ticks\":\"\"}},\"marker\":{\"colorbar\":{\"outlinewidth\":0,\"ticks\":\"\"}}}],\"scattermapbox\":[{\"type\":\"scattermapbox\",\"marker\":{\"colorbar\":{\"outlinewidth\":0,\"ticks\":\"\"}}}],\"scatterternary\":[{\"type\":\"scatterternary\",\"marker\":{\"colorbar\":{\"outlinewidth\":0,\"ticks\":\"\"}}}],\"scattercarpet\":[{\"type\":\"scattercarpet\",\"marker\":{\"colorbar\":{\"outlinewidth\":0,\"ticks\":\"\"}}}],\"carpet\":[{\"aaxis\":{\"endlinecolor\":\"#2a3f5f\",\"gridcolor\":\"white\",\"linecolor\":\"white\",\"minorgridcolor\":\"white\",\"startlinecolor\":\"#2a3f5f\"},\"baxis\":{\"endlinecolor\":\"#2a3f5f\",\"gridcolor\":\"white\",\"linecolor\":\"white\",\"minorgridcolor\":\"white\",\"startlinecolor\":\"#2a3f5f\"},\"type\":\"carpet\"}],\"table\":[{\"cells\":{\"fill\":{\"color\":\"#EBF0F8\"},\"line\":{\"color\":\"white\"}},\"header\":{\"fill\":{\"color\":\"#C8D4E3\"},\"line\":{\"color\":\"white\"}},\"type\":\"table\"}],\"barpolar\":[{\"marker\":{\"line\":{\"color\":\"#E5ECF6\",\"width\":0.5},\"pattern\":{\"fillmode\":\"overlay\",\"size\":10,\"solidity\":0.2}},\"type\":\"barpolar\"}],\"pie\":[{\"automargin\":true,\"type\":\"pie\"}]},\"layout\":{\"autotypenumbers\":\"strict\",\"colorway\":[\"#636efa\",\"#EF553B\",\"#00cc96\",\"#ab63fa\",\"#FFA15A\",\"#19d3f3\",\"#FF6692\",\"#B6E880\",\"#FF97FF\",\"#FECB52\"],\"font\":{\"color\":\"#2a3f5f\"},\"hovermode\":\"closest\",\"hoverlabel\":{\"align\":\"left\"},\"paper_bgcolor\":\"white\",\"plot_bgcolor\":\"#E5ECF6\",\"polar\":{\"bgcolor\":\"#E5ECF6\",\"angularaxis\":{\"gridcolor\":\"white\",\"linecolor\":\"white\",\"ticks\":\"\"},\"radialaxis\":{\"gridcolor\":\"white\",\"linecolor\":\"white\",\"ticks\":\"\"}},\"ternary\":{\"bgcolor\":\"#E5ECF6\",\"aaxis\":{\"gridcolor\":\"white\",\"linecolor\":\"white\",\"ticks\":\"\"},\"baxis\":{\"gridcolor\":\"white\",\"linecolor\":\"white\",\"ticks\":\"\"},\"caxis\":{\"gridcolor\":\"white\",\"linecolor\":\"white\",\"ticks\":\"\"}},\"coloraxis\":{\"colorbar\":{\"outlinewidth\":0,\"ticks\":\"\"}},\"colorscale\":{\"sequential\":[[0.0,\"#0d0887\"],[0.1111111111111111,\"#46039f\"],[0.2222222222222222,\"#7201a8\"],[0.3333333333333333,\"#9c179e\"],[0.4444444444444444,\"#bd3786\"],[0.5555555555555556,\"#d8576b\"],[0.6666666666666666,\"#ed7953\"],[0.7777777777777778,\"#fb9f3a\"],[0.8888888888888888,\"#fdca26\"],[1.0,\"#f0f921\"]],\"sequentialminus\":[[0.0,\"#0d0887\"],[0.1111111111111111,\"#46039f\"],[0.2222222222222222,\"#7201a8\"],[0.3333333333333333,\"#9c179e\"],[0.4444444444444444,\"#bd3786\"],[0.5555555555555556,\"#d8576b\"],[0.6666666666666666,\"#ed7953\"],[0.7777777777777778,\"#fb9f3a\"],[0.8888888888888888,\"#fdca26\"],[1.0,\"#f0f921\"]],\"diverging\":[[0,\"#8e0152\"],[0.1,\"#c51b7d\"],[0.2,\"#de77ae\"],[0.3,\"#f1b6da\"],[0.4,\"#fde0ef\"],[0.5,\"#f7f7f7\"],[0.6,\"#e6f5d0\"],[0.7,\"#b8e186\"],[0.8,\"#7fbc41\"],[0.9,\"#4d9221\"],[1,\"#276419\"]]},\"xaxis\":{\"gridcolor\":\"white\",\"linecolor\":\"white\",\"ticks\":\"\",\"title\":{\"standoff\":15},\"zerolinecolor\":\"white\",\"automargin\":true,\"zerolinewidth\":2},\"yaxis\":{\"gridcolor\":\"white\",\"linecolor\":\"white\",\"ticks\":\"\",\"title\":{\"standoff\":15},\"zerolinecolor\":\"white\",\"automargin\":true,\"zerolinewidth\":2},\"scene\":{\"xaxis\":{\"backgroundcolor\":\"#E5ECF6\",\"gridcolor\":\"white\",\"linecolor\":\"white\",\"showbackground\":true,\"ticks\":\"\",\"zerolinecolor\":\"white\",\"gridwidth\":2},\"yaxis\":{\"backgroundcolor\":\"#E5ECF6\",\"gridcolor\":\"white\",\"linecolor\":\"white\",\"showbackground\":true,\"ticks\":\"\",\"zerolinecolor\":\"white\",\"gridwidth\":2},\"zaxis\":{\"backgroundcolor\":\"#E5ECF6\",\"gridcolor\":\"white\",\"linecolor\":\"white\",\"showbackground\":true,\"ticks\":\"\",\"zerolinecolor\":\"white\",\"gridwidth\":2}},\"shapedefaults\":{\"line\":{\"color\":\"#2a3f5f\"}},\"annotationdefaults\":{\"arrowcolor\":\"#2a3f5f\",\"arrowhead\":0,\"arrowwidth\":1},\"geo\":{\"bgcolor\":\"white\",\"landcolor\":\"#E5ECF6\",\"subunitcolor\":\"white\",\"showland\":true,\"showlakes\":true,\"lakecolor\":\"white\"},\"title\":{\"x\":0.05},\"mapbox\":{\"style\":\"light\"}}},\"xaxis\":{\"anchor\":\"y\",\"domain\":[0.0,1.0],\"title\":{\"text\":\"LOCAL_REVENUE\"}},\"yaxis\":{\"anchor\":\"x\",\"domain\":[0.0,1.0],\"title\":{\"text\":\"STATE_REVENUE\"}},\"legend\":{\"title\":{\"text\":\"STATE\"},\"tracegroupgap\":0},\"title\":{\"text\":\"Ingresos locales vs estatales\"}},                        {\"responsive\": true}                    ).then(function(){\n",
       "                            \n",
       "var gd = document.getElementById('917ccc87-8dd4-4a40-a1f5-921e2ff7dbd7');\n",
       "var x = new MutationObserver(function (mutations, observer) {{\n",
       "        var display = window.getComputedStyle(gd).display;\n",
       "        if (!display || display === 'none') {{\n",
       "            console.log([gd, 'removed!']);\n",
       "            Plotly.purge(gd);\n",
       "            observer.disconnect();\n",
       "        }}\n",
       "}});\n",
       "\n",
       "// Listen for the removal of the full notebook cells\n",
       "var notebookContainer = gd.closest('#notebook-container');\n",
       "if (notebookContainer) {{\n",
       "    x.observe(notebookContainer, {childList: true});\n",
       "}}\n",
       "\n",
       "// Listen for the clearing of the current output cell\n",
       "var outputEl = gd.closest('.output');\n",
       "if (outputEl) {{\n",
       "    x.observe(outputEl, {childList: true});\n",
       "}}\n",
       "\n",
       "                        })                };                });            </script>        </div>"
      ]
     },
     "metadata": {},
     "output_type": "display_data"
    }
   ],
   "source": [
    "import plotly.express as px\n",
    "\n",
    "educacion = pd.read_csv('states_all.csv', usecols=['STATE','LOCAL_REVENUE','STATE_REVENUE'])\n",
    "\n",
    "px.scatter(\n",
    "    (educacion.query(\"STATE in ['WYOMING', 'NEVADA', 'NEW_MEXICO']\")),\n",
    "    x='LOCAL_REVENUE',\n",
    "    y='STATE_REVENUE',\n",
    "    title='Ingresos locales vs estatales',\n",
    "    color='STATE',\n",
    "    #animation_frame='STATE',\n",
    "    trendline='ols'\n",
    "    #text='STATE',\n",
    "    #marginal_x='box',\n",
    "    #marginal_y='box'\n",
    ")\n"
   ]
  },
  {
   "cell_type": "code",
   "execution_count": 33,
   "id": "7102a211-e354-4f5e-ae04-91426fda3819",
   "metadata": {},
   "outputs": [
    {
     "data": {
      "application/vnd.plotly.v1+json": {
       "config": {
        "plotlyServerURL": "https://plot.ly"
       },
       "data": [
        {
         "hovertemplate": "YEAR=%{x}<br>TOTAL_REVENUE=%{y}<extra></extra>",
         "legendgroup": "",
         "line": {
          "color": "#636efa",
          "dash": "solid"
         },
         "marker": {
          "symbol": "circle"
         },
         "mode": "lines",
         "name": "",
         "showlegend": false,
         "type": "scattergl",
         "x": [
          1993,
          1993,
          1993,
          1993,
          1993,
          1993,
          1993,
          1993,
          1993,
          1993,
          1993,
          1993,
          1993,
          1993,
          1993,
          1993,
          1993,
          1993,
          1993,
          1993,
          1993,
          1993,
          1993,
          1993,
          1993,
          1993,
          1993,
          1993,
          1993,
          1993,
          1993,
          1993,
          1993,
          1993,
          1993,
          1993,
          1993,
          1993,
          1993,
          1993,
          1993,
          1993,
          1993,
          1993,
          1993,
          1993,
          1993,
          1993,
          1993,
          1993,
          1993,
          1994,
          1994,
          1994,
          1994,
          1994,
          1994,
          1994,
          1994,
          1994,
          1994,
          1994,
          1994,
          1994,
          1994,
          1994,
          1994,
          1994,
          1994,
          1994,
          1994,
          1994,
          1994,
          1994,
          1994,
          1994,
          1994,
          1994,
          1994,
          1994,
          1994,
          1994,
          1994,
          1994,
          1994,
          1994,
          1994,
          1994,
          1994,
          1994,
          1994,
          1994,
          1994,
          1994,
          1994,
          1994,
          1994,
          1994,
          1994,
          1994,
          1994,
          1994,
          1995,
          1995,
          1995,
          1995,
          1995,
          1995,
          1995,
          1995,
          1995,
          1995,
          1995,
          1995,
          1995,
          1995,
          1995,
          1995,
          1995,
          1995,
          1995,
          1995,
          1995,
          1995,
          1995,
          1995,
          1995,
          1995,
          1995,
          1995,
          1995,
          1995,
          1995,
          1995,
          1995,
          1995,
          1995,
          1995,
          1995,
          1995,
          1995,
          1995,
          1995,
          1995,
          1995,
          1995,
          1995,
          1995,
          1995,
          1995,
          1995,
          1995,
          1995,
          1996,
          1996,
          1996,
          1996,
          1996,
          1996,
          1996,
          1996,
          1996,
          1996,
          1996,
          1996,
          1996,
          1996,
          1996,
          1996,
          1996,
          1996,
          1996,
          1996,
          1996,
          1996,
          1996,
          1996,
          1996,
          1996,
          1996,
          1996,
          1996,
          1996,
          1996,
          1996,
          1996,
          1996,
          1996,
          1996,
          1996,
          1996,
          1996,
          1996,
          1996,
          1996,
          1996,
          1996,
          1996,
          1996,
          1996,
          1996,
          1996,
          1996,
          1996,
          1997,
          1997,
          1997,
          1997,
          1997,
          1997,
          1997,
          1997,
          1997,
          1997,
          1997,
          1997,
          1997,
          1997,
          1997,
          1997,
          1997,
          1997,
          1997,
          1997,
          1997,
          1997,
          1997,
          1997,
          1997,
          1997,
          1997,
          1997,
          1997,
          1997,
          1997,
          1997,
          1997,
          1997,
          1997,
          1997,
          1997,
          1997,
          1997,
          1997,
          1997,
          1997,
          1997,
          1997,
          1997,
          1997,
          1997,
          1997,
          1997,
          1997,
          1997,
          1998,
          1998,
          1998,
          1998,
          1998,
          1998,
          1998,
          1998,
          1998,
          1998,
          1998,
          1998,
          1998,
          1998,
          1998,
          1998,
          1998,
          1998,
          1998,
          1998,
          1998,
          1998,
          1998,
          1998,
          1998,
          1998,
          1998,
          1998,
          1998,
          1998,
          1998,
          1998,
          1998,
          1998,
          1998,
          1998,
          1998,
          1998,
          1998,
          1998,
          1998,
          1998,
          1998,
          1998,
          1998,
          1998,
          1998,
          1998,
          1998,
          1998,
          1998,
          1999,
          1999,
          1999,
          1999,
          1999,
          1999,
          1999,
          1999,
          1999,
          1999,
          1999,
          1999,
          1999,
          1999,
          1999,
          1999,
          1999,
          1999,
          1999,
          1999,
          1999,
          1999,
          1999,
          1999,
          1999,
          1999,
          1999,
          1999,
          1999,
          1999,
          1999,
          1999,
          1999,
          1999,
          1999,
          1999,
          1999,
          1999,
          1999,
          1999,
          1999,
          1999,
          1999,
          1999,
          1999,
          1999,
          1999,
          1999,
          1999,
          1999,
          1999,
          2000,
          2000,
          2000,
          2000,
          2000,
          2000,
          2000,
          2000,
          2000,
          2000,
          2000,
          2000,
          2000,
          2000,
          2000,
          2000,
          2000,
          2000,
          2000,
          2000,
          2000,
          2000,
          2000,
          2000,
          2000,
          2000,
          2000,
          2000,
          2000,
          2000,
          2000,
          2000,
          2000,
          2000,
          2000,
          2000,
          2000,
          2000,
          2000,
          2000,
          2000,
          2000,
          2000,
          2000,
          2000,
          2000,
          2000,
          2000,
          2000,
          2000,
          2000,
          2001,
          2001,
          2001,
          2001,
          2001,
          2001,
          2001,
          2001,
          2001,
          2001,
          2001,
          2001,
          2001,
          2001,
          2001,
          2001,
          2001,
          2001,
          2001,
          2001,
          2001,
          2001,
          2001,
          2001,
          2001,
          2001,
          2001,
          2001,
          2001,
          2001,
          2001,
          2001,
          2001,
          2001,
          2001,
          2001,
          2001,
          2001,
          2001,
          2001,
          2001,
          2001,
          2001,
          2001,
          2001,
          2001,
          2001,
          2001,
          2001,
          2001,
          2001,
          2002,
          2002,
          2002,
          2002,
          2002,
          2002,
          2002,
          2002,
          2002,
          2002,
          2002,
          2002,
          2002,
          2002,
          2002,
          2002,
          2002,
          2002,
          2002,
          2002,
          2002,
          2002,
          2002,
          2002,
          2002,
          2002,
          2002,
          2002,
          2002,
          2002,
          2002,
          2002,
          2002,
          2002,
          2002,
          2002,
          2002,
          2002,
          2002,
          2002,
          2002,
          2002,
          2002,
          2002,
          2002,
          2002,
          2002,
          2002,
          2002,
          2002,
          2002,
          2003,
          2003,
          2003,
          2003,
          2003,
          2003,
          2003,
          2003,
          2003,
          2003,
          2003,
          2003,
          2003,
          2003,
          2003,
          2003,
          2003,
          2003,
          2003,
          2003,
          2003,
          2003,
          2003,
          2003,
          2003,
          2003,
          2003,
          2003,
          2003,
          2003,
          2003,
          2003,
          2003,
          2003,
          2003,
          2003,
          2003,
          2003,
          2003,
          2003,
          2003,
          2003,
          2003,
          2003,
          2003,
          2003,
          2003,
          2003,
          2003,
          2003,
          2003,
          2004,
          2004,
          2004,
          2004,
          2004,
          2004,
          2004,
          2004,
          2004,
          2004,
          2004,
          2004,
          2004,
          2004,
          2004,
          2004,
          2004,
          2004,
          2004,
          2004,
          2004,
          2004,
          2004,
          2004,
          2004,
          2004,
          2004,
          2004,
          2004,
          2004,
          2004,
          2004,
          2004,
          2004,
          2004,
          2004,
          2004,
          2004,
          2004,
          2004,
          2004,
          2004,
          2004,
          2004,
          2004,
          2004,
          2004,
          2004,
          2004,
          2004,
          2004,
          2005,
          2005,
          2005,
          2005,
          2005,
          2005,
          2005,
          2005,
          2005,
          2005,
          2005,
          2005,
          2005,
          2005,
          2005,
          2005,
          2005,
          2005,
          2005,
          2005,
          2005,
          2005,
          2005,
          2005,
          2005,
          2005,
          2005,
          2005,
          2005,
          2005,
          2005,
          2005,
          2005,
          2005,
          2005,
          2005,
          2005,
          2005,
          2005,
          2005,
          2005,
          2005,
          2005,
          2005,
          2005,
          2005,
          2005,
          2005,
          2005,
          2005,
          2005,
          2006,
          2006,
          2006,
          2006,
          2006,
          2006,
          2006,
          2006,
          2006,
          2006,
          2006,
          2006,
          2006,
          2006,
          2006,
          2006,
          2006,
          2006,
          2006,
          2006,
          2006,
          2006,
          2006,
          2006,
          2006,
          2006,
          2006,
          2006,
          2006,
          2006,
          2006,
          2006,
          2006,
          2006,
          2006,
          2006,
          2006,
          2006,
          2006,
          2006,
          2006,
          2006,
          2006,
          2006,
          2006,
          2006,
          2006,
          2006,
          2006,
          2006,
          2006,
          2007,
          2007,
          2007,
          2007,
          2007,
          2007,
          2007,
          2007,
          2007,
          2007,
          2007,
          2007,
          2007,
          2007,
          2007,
          2007,
          2007,
          2007,
          2007,
          2007,
          2007,
          2007,
          2007,
          2007,
          2007,
          2007,
          2007,
          2007,
          2007,
          2007,
          2007,
          2007,
          2007,
          2007,
          2007,
          2007,
          2007,
          2007,
          2007,
          2007,
          2007,
          2007,
          2007,
          2007,
          2007,
          2007,
          2007,
          2007,
          2007,
          2007,
          2007,
          2008,
          2008,
          2008,
          2008,
          2008,
          2008,
          2008,
          2008,
          2008,
          2008,
          2008,
          2008,
          2008,
          2008,
          2008,
          2008,
          2008,
          2008,
          2008,
          2008,
          2008,
          2008,
          2008,
          2008,
          2008,
          2008,
          2008,
          2008,
          2008,
          2008,
          2008,
          2008,
          2008,
          2008,
          2008,
          2008,
          2008,
          2008,
          2008,
          2008,
          2008,
          2008,
          2008,
          2008,
          2008,
          2008,
          2008,
          2008,
          2008,
          2008,
          2008,
          2009,
          2009,
          2009,
          2009,
          2009,
          2009,
          2009,
          2009,
          2009,
          2009,
          2009,
          2009,
          2009,
          2009,
          2009,
          2009,
          2009,
          2009,
          2009,
          2009,
          2009,
          2009,
          2009,
          2009,
          2009,
          2009,
          2009,
          2009,
          2009,
          2009,
          2009,
          2009,
          2009,
          2009,
          2009,
          2009,
          2009,
          2009,
          2009,
          2009,
          2009,
          2009,
          2009,
          2009,
          2009,
          2009,
          2009,
          2009,
          2009,
          2009,
          2009,
          2010,
          2010,
          2010,
          2010,
          2010,
          2010,
          2010,
          2010,
          2010,
          2010,
          2010,
          2010,
          2010,
          2010,
          2010,
          2010,
          2010,
          2010,
          2010,
          2010,
          2010,
          2010,
          2010,
          2010,
          2010,
          2010,
          2010,
          2010,
          2010,
          2010,
          2010,
          2010,
          2010,
          2010,
          2010,
          2010,
          2010,
          2010,
          2010,
          2010,
          2010,
          2010,
          2010,
          2010,
          2010,
          2010,
          2010,
          2010,
          2010,
          2010,
          2010,
          2011,
          2011,
          2011,
          2011,
          2011,
          2011,
          2011,
          2011,
          2011,
          2011,
          2011,
          2011,
          2011,
          2011,
          2011,
          2011,
          2011,
          2011,
          2011,
          2011,
          2011,
          2011,
          2011,
          2011,
          2011,
          2011,
          2011,
          2011,
          2011,
          2011,
          2011,
          2011,
          2011,
          2011,
          2011,
          2011,
          2011,
          2011,
          2011,
          2011,
          2011,
          2011,
          2011,
          2011,
          2011,
          2011,
          2011,
          2011,
          2011,
          2011,
          2011,
          2012,
          2012,
          2012,
          2012,
          2012,
          2012,
          2012,
          2012,
          2012,
          2012,
          2012,
          2012,
          2012,
          2012,
          2012,
          2012,
          2012,
          2012,
          2012,
          2012,
          2012,
          2012,
          2012,
          2012,
          2012,
          2012,
          2012,
          2012,
          2012,
          2012,
          2012,
          2012,
          2012,
          2012,
          2012,
          2012,
          2012,
          2012,
          2012,
          2012,
          2012,
          2012,
          2012,
          2012,
          2012,
          2012,
          2012,
          2012,
          2012,
          2012,
          2012,
          2013,
          2013,
          2013,
          2013,
          2013,
          2013,
          2013,
          2013,
          2013,
          2013,
          2013,
          2013,
          2013,
          2013,
          2013,
          2013,
          2013,
          2013,
          2013,
          2013,
          2013,
          2013,
          2013,
          2013,
          2013,
          2013,
          2013,
          2013,
          2013,
          2013,
          2013,
          2013,
          2013,
          2013,
          2013,
          2013,
          2013,
          2013,
          2013,
          2013,
          2013,
          2013,
          2013,
          2013,
          2013,
          2013,
          2013,
          2013,
          2013,
          2013,
          2013,
          2014,
          2014,
          2014,
          2014,
          2014,
          2014,
          2014,
          2014,
          2014,
          2014,
          2014,
          2014,
          2014,
          2014,
          2014,
          2014,
          2014,
          2014,
          2014,
          2014,
          2014,
          2014,
          2014,
          2014,
          2014,
          2014,
          2014,
          2014,
          2014,
          2014,
          2014,
          2014,
          2014,
          2014,
          2014,
          2014,
          2014,
          2014,
          2014,
          2014,
          2014,
          2014,
          2014,
          2014,
          2014,
          2014,
          2014,
          2014,
          2014,
          2014,
          2014,
          2015,
          2015,
          2015,
          2015,
          2015,
          2015,
          2015,
          2015,
          2015,
          2015,
          2015,
          2015,
          2015,
          2015,
          2015,
          2015,
          2015,
          2015,
          2015,
          2015,
          2015,
          2015,
          2015,
          2015,
          2015,
          2015,
          2015,
          2015,
          2015,
          2015,
          2015,
          2015,
          2015,
          2015,
          2015,
          2015,
          2015,
          2015,
          2015,
          2015,
          2015,
          2015,
          2015,
          2015,
          2015,
          2015,
          2015,
          2015,
          2015,
          2015,
          2015,
          2016,
          2016,
          2016,
          2016,
          2016,
          2016,
          2016,
          2016,
          2016,
          2016,
          2016,
          2016,
          2016,
          2016,
          2016,
          2016,
          2016,
          2016,
          2016,
          2016,
          2016,
          2016,
          2016,
          2016,
          2016,
          2016,
          2016,
          2016,
          2016,
          2016,
          2016,
          2016,
          2016,
          2016,
          2016,
          2016,
          2016,
          2016,
          2016,
          2016,
          2016,
          2016,
          2016,
          2016,
          2016,
          2016,
          2016,
          2016,
          2016,
          2016,
          2016,
          1994,
          1994,
          1996,
          1996,
          1998,
          1998,
          2000,
          2000,
          2002,
          2002,
          2003,
          2003,
          2005,
          2005,
          2007,
          2007,
          2009,
          2009,
          2011,
          2011,
          2013,
          2013,
          2015,
          2015
         ],
         "xaxis": "x",
         "y": [
          2827391,
          1191398,
          3427976,
          1346909,
          28043338,
          3058326,
          4064158,
          683954,
          721151,
          11370156,
          4716559,
          1062475,
          890835,
          10584624,
          5833420,
          2880731,
          2386945,
          2381148,
          3438321,
          1368095,
          4918010,
          6121612,
          11034174,
          4862635,
          1170109,
          4196601,
          813998,
          1625242,
          1148268,
          1109743,
          6747567,
          1217194,
          22688753,
          5583166,
          580148,
          10841606,
          1436505,
          3141217,
          12269422,
          919594,
          3031112,
          465650,
          3268642,
          20267205,
          1638305,
          837540,
          5918536,
          5270961,
          1832154,
          5357945,
          615130,
          2970223,
          1052282,
          3566586,
          1393287,
          23440845,
          3061865,
          4268860,
          705798,
          735720,
          12315950,
          6824191,
          1133949,
          949999,
          11309803,
          6121754,
          2987394,
          2700587,
          2491948,
          3571864,
          1357116,
          5141505,
          6410757,
          11762546,
          5262482,
          1911579,
          4488359,
          878986,
          1710913,
          1266549,
          1145147,
          6957898,
          1342868,
          23933662,
          5648390,
          603902,
          10735756,
          1518540,
          3088542,
          13271564,
          1012987,
          3179542,
          507927,
          3535898,
          19713604,
          1792011,
          892124,
          6125739,
          5739012,
          1854403,
          5682439,
          674921,
          3367437,
          1117068,
          3815218,
          2057550,
          29512214,
          3709875,
          4420632,
          802018,
          700111,
          13242710,
          7052825,
          1173579,
          1083215,
          12236673,
          6514934,
          3076971,
          2826943,
          3508673,
          3791795,
          1446745,
          5580123,
          7326904,
          12500208,
          5744447,
          2118973,
          4852467,
          911284,
          1832463,
          1367710,
          1197945,
          11870183,
          1646265,
          25063999,
          6076939,
          642234,
          11368650,
          3156526,
          3302062,
          13957035,
          1089859,
          3389646,
          684882,
          3870164,
          20483376,
          1953833,
          934916,
          6354418,
          5985425,
          1916605,
          6006745,
          634237,
          3365113,
          1120346,
          4143304,
          2183384,
          31282981,
          3891203,
          4686025,
          860410,
          678874,
          13684457,
          7764687,
          1199019,
          1134052,
          12732129,
          6422662,
          3258040,
          2914544,
          3622788,
          3879633,
          1485138,
          5688918,
          7129757,
          13012080,
          6101416,
          2241561,
          5251014,
          944623,
          1909834,
          1551169,
          1269380,
          12389781,
          1750519,
          26026366,
          6516400,
          655971,
          12172778,
          3185234,
          3375710,
          14671368,
          1135192,
          3594408,
          710728,
          4123018,
          22241369,
          2035726,
          965238,
          6674519,
          6354593,
          1958647,
          6342623,
          664057,
          3981788,
          1131950,
          4343262,
          2355859,
          35614934,
          4133275,
          4788489,
          898926,
          711625,
          14363709,
          8248199,
          1213792,
          1200186,
          13929105,
          7885141,
          3406582,
          3029537,
          3842885,
          4106095,
          1537085,
          6040883,
          7585624,
          13759710,
          6304977,
          2274700,
          5550134,
          989991,
          1994021,
          1701290,
          1339186,
          12910890,
          1768148,
          26775074,
          6827952,
          683331,
          12630491,
          3413742,
          3477420,
          15184431,
          1185534,
          3874045,
          747462,
          4390879,
          23091567,
          2187279,
          1022546,
          7345090,
          6667626,
          2053981,
          6724752,
          660079,
          4140537,
          1206195,
          4675296,
          2567380,
          39183018,
          4359021,
          5024673,
          934530,
          706938,
          15595671,
          9207163,
          1279125,
          1310960,
          14688777,
          7656749,
          3589705,
          3207670,
          3938009,
          4443468,
          1611926,
          6521269,
          7726497,
          14712250,
          6672384,
          2400660,
          5990499,
          1035636,
          2062836,
          1906860,
          1420100,
          13786951,
          1913783,
          27900803,
          7516979,
          731384,
          13577343,
          3559980,
          3892091,
          15671363,
          1255280,
          4109130,
          793101,
          4757639,
          24485263,
          2295870,
          1089658,
          7723744,
          6928738,
          2178936,
          7083655,
          703280,
          4471546,
          1243227,
          5085826,
          2684966,
          41393435,
          4740254,
          5460213,
          1004472,
          758072,
          17093036,
          10380164,
          1328572,
          1405250,
          16208970,
          8167164,
          3740509,
          3390596,
          4188131,
          4641847,
          1708133,
          6850334,
          8388120,
          15248112,
          6949149,
          2532681,
          6238901,
          1049369,
          2212104,
          2089048,
          1498286,
          14977501,
          2068337,
          30215370,
          8476795,
          770094,
          14507056,
          3788901,
          4080653,
          16361921,
          1358566,
          4365352,
          825851,
          5059587,
          26096023,
          2425600,
          1147600,
          8331336,
          7288143,
          2190420,
          7415243,
          780875,
          4885917,
          1313510,
          5479168,
          2844855,
          46628207,
          5073266,
          5884078,
          1098555,
          881423,
          17558787,
          11197766,
          1404895,
          1452222,
          17595047,
          8489991,
          3822452,
          3518271,
          4330089,
          4785331,
          1792390,
          7419047,
          9464271,
          15939477,
          7344747,
          2743284,
          6675260,
          1104935,
          2263952,
          2252416,
          1586869,
          15651060,
          2191695,
          31906526,
          9064700,
          812982,
          15327834,
          3906833,
          4369400,
          17090654,
          1464820,
          4690418,
          868161,
          5338531,
          28918934,
          2546642,
          1211370,
          8911426,
          7620930,
          2243151,
          7848352,
          787323,
          4832946,
          1325498,
          5916342,
          2974588,
          53288943,
          5372784,
          6331569,
          1153831,
          1042261,
          18467090,
          12271962,
          1682332,
          1571348,
          18534372,
          9124748,
          4068110,
          3681845,
          4536133,
          4982369,
          1914551,
          7864290,
          10613329,
          16772419,
          7836617,
          2823151,
          7081783,
          1139959,
          2355374,
          2381897,
          1757828,
          16854895,
          2373143,
          34373567,
          9670620,
          818139,
          16693845,
          4257128,
          4561948,
          17792997,
          1592622,
          5437615,
          886661,
          5560822,
          30868844,
          2741771,
          1300273,
          9493862,
          7936037,
          2321731,
          8363904,
          804297,
          5128559,
          1377767,
          6192222,
          3147921,
          54727056,
          5849588,
          6644334,
          1180255,
          1138126,
          18541689,
          13042229,
          1889600,
          1625444,
          19084554,
          9273957,
          4191217,
          3823261,
          4621025,
          5229238,
          2041986,
          8430663,
          11217085,
          18055855,
          8065042,
          3029559,
          7455539,
          1168799,
          2528312,
          2592064,
          1887115,
          18071365,
          2537261,
          35748163,
          9701231,
          846759,
          17589983,
          4370415,
          4772603,
          18586743,
          1633707,
          5627004,
          930874,
          5785857,
          32802734,
          2865058,
          1387074,
          9914221,
          8250593,
          2413744,
          8624767,
          908719,
          5196054,
          1425948,
          6529894,
          3241275,
          59815855,
          6297242,
          6959891,
          1242436,
          1114061,
          19549835,
          13524807,
          2078877,
          1685984,
          19627346,
          8246076,
          4374803,
          4068800,
          4872025,
          5478321,
          2162605,
          8700979,
          11591832,
          18488359,
          8484497,
          3260771,
          7622601,
          1205602,
          2600831,
          2778564,
          2028602,
          19785039,
          2626262,
          38033080,
          9907235,
          882913,
          18018740,
          4426835,
          4592019,
          19811545,
          1728055,
          5709707,
          965778,
          5994756,
          35143236,
          2875622,
          1451171,
          10504167,
          8565636,
          2497707,
          8931497,
          962240,
          5356113,
          1477152,
          7117923,
          3385818,
          60162326,
          6527456,
          7276945,
          1334523,
          1081501,
          21623923,
          14136215,
          2138137,
          1733838,
          21082441,
          10423578,
          4396136,
          4377709,
          5135262,
          5713792,
          2228749,
          9123493,
          11979937,
          18663799,
          8688315,
          3481643,
          7893957,
          1270790,
          2734724,
          3069531,
          2194562,
          21398391,
          2855893,
          40820776,
          10569600,
          925393,
          18878773,
          4622080,
          5086083,
          21104028,
          1836758,
          5961494,
          1007135,
          6349101,
          36055119,
          2997200,
          1525776,
          11151172,
          8790531,
          2585084,
          9183588,
          974888,
          5889966,
          1599739,
          7550109,
          3978240,
          62171797,
          6910296,
          7898694,
          1431710,
          1109605,
          23216404,
          14724731,
          2274166,
          1796035,
          21611180,
          11653165,
          4638125,
          4223632,
          5444309,
          5975074,
          2324789,
          9906219,
          12976279,
          19106382,
          8777363,
          3639643,
          8340865,
          1293070,
          2895640,
          3381646,
          2332695,
          23026334,
          2982991,
          43936450,
          11098165,
          969520,
          19746239,
          4892548,
          5022050,
          22657782,
          1903472,
          6337711,
          1053504,
          6806262,
          37783715,
          3181279,
          1628681,
          12182657,
          9141383,
          2701056,
          9584108,
          1132160,
          6364028,
          1625138,
          8084068,
          4247664,
          66302860,
          7295561,
          8436197,
          1544615,
          1092863,
          25423686,
          16165924,
          2705532,
          1875346,
          22724326,
          11578988,
          4898509,
          4648920,
          6002056,
          6780668,
          2381908,
          10697117,
          14160242,
          19714584,
          9314477,
          4279581,
          8846493,
          1375638,
          3107061,
          3691628,
          2459051,
          23915685,
          3094036,
          47018793,
          11709885,
          1008339,
          20957714,
          5120286,
          5429145,
          23950553,
          2004709,
          6752813,
          1086433,
          7195519,
          41142403,
          3381146,
          1725093,
          13153845,
          9679682,
          2814536,
          9855692,
          1150345,
          7069040,
          1800616,
          8724434,
          4415981,
          72516936,
          7689014,
          8913149,
          1694929,
          1148358,
          28898362,
          17755989,
          2985593,
          2011951,
          23897153,
          10458932,
          5194536,
          5038100,
          6226696,
          7048732,
          2538161,
          11674965,
          14407777,
          20576110,
          9693509,
          4220926,
          8908844,
          1474306,
          3234014,
          4006081,
          2600123,
          25293076,
          3272953,
          50762544,
          13063307,
          1045678,
          22142424,
          5491931,
          5648586,
          25334577,
          2100679,
          7130274,
          1136570,
          7617488,
          44355326,
          3656090,
          1836316,
          14176385,
          10350748,
          2905489,
          10154985,
          1477891,
          7726213,
          2188587,
          9272152,
          4608356,
          74626928,
          8070129,
          9322225,
          1694998,
          1224312,
          30001821,
          18683630,
          2541703,
          2151476,
          25431714,
          11340157,
          5496908,
          5378095,
          6637062,
          7751886,
          2594335,
          13098112,
          14633578,
          20441973,
          10118118,
          4449009,
          9335599,
          1562815,
          3383157,
          4338601,
          2715463,
          25916004,
          3569311,
          53147343,
          13610326,
          1104803,
          22746589,
          5780151,
          6107684,
          26357235,
          2173888,
          7743317,
          1190917,
          8086152,
          46245975,
          4198001,
          1888635,
          14768120,
          11195224,
          2965828,
          10619354,
          1602514,
          7186390,
          2158970,
          8802515,
          4753142,
          73958896,
          8310673,
          9681268,
          1718993,
          801008,
          26494500,
          17972839,
          2689758,
          2182273,
          26987426,
          12999357,
          5732319,
          5615208,
          6706922,
          7984550,
          2623127,
          13147931,
          15298022,
          19616665,
          10353784,
          4392101,
          9472520,
          1607935,
          3522481,
          4442101,
          2816162,
          26510413,
          3703477,
          55885116,
          15410564,
          1150142,
          22779344,
          6029807,
          6158756,
          26755585,
          2179714,
          7669733,
          1258876,
          8112895,
          48087531,
          4238943,
          1683034,
          15251481,
          12025012,
          3097212,
          10991081,
          1675761,
          7281058,
          2230338,
          8828122,
          5069272,
          67356719,
          8793676,
          9726922,
          1733458,
          1195934,
          26231141,
          17839851,
          2564856,
          2177999,
          28253620,
          14023240,
          5744872,
          5454128,
          6881951,
          8091029,
          2721365,
          13327770,
          14919763,
          19393461,
          10383935,
          4466377,
          9587703,
          1623971,
          3720560,
          4262471,
          2906573,
          26676217,
          3638606,
          55453300,
          16621268,
          1308214,
          23247907,
          5778507,
          6219779,
          27883991,
          2207123,
          7755419,
          1292742,
          8405025,
          50559500,
          4250259,
          1749898,
          14937195,
          11919090,
          3176874,
          11289720,
          1718605,
          7376725,
          2357828,
          8429186,
          5176362,
          70953331,
          8747471,
          9783168,
          1759170,
          1283071,
          26453693,
          18030043,
          2499513,
          2089982,
          29507584,
          12125155,
          6098470,
          5538869,
          7104589,
          8022917,
          2654366,
          13443940,
          15396681,
          19374026,
          10912368,
          4516742,
          9915356,
          1631810,
          3879388,
          4146577,
          2947007,
          26242376,
          3591330,
          57753776,
          14409515,
          1309044,
          23488657,
          5835133,
          6112484,
          28492510,
          2212352,
          7772777,
          1297661,
          8679893,
          51023159,
          4141253,
          1686499,
          14655345,
          11905941,
          3475642,
          11664303,
          1650621,
          7136949,
          2383402,
          7934798,
          5169926,
          69016392,
          8616009,
          10070907,
          1855867,
          1331006,
          24139266,
          17559894,
          2535038,
          1981482,
          29900021,
          12395432,
          6262807,
          5613619,
          7192430,
          8477993,
          2611056,
          13752912,
          15763456,
          18622316,
          10681609,
          4477828,
          10022622,
          1628318,
          3764056,
          4053945,
          2963221,
          27574528,
          3478709,
          58981073,
          12788659,
          1345371,
          22799205,
          5824963,
          6124872,
          27881568,
          2208278,
          7889771,
          1298723,
          8983224,
          49979753,
          4217360,
          1754161,
          14940479,
          11955582,
          3970941,
          11139967,
          1664983,
          7197439,
          2545117,
          8164324,
          5067546,
          68868516,
          8826868,
          10319361,
          1930466,
          1300036,
          24681548,
          17459504,
          2331770,
          2015534,
          30057886,
          12236713,
          6281345,
          5667223,
          7216175,
          8121179,
          2650346,
          13814727,
          16114783,
          18270327,
          10848720,
          4444064,
          10103589,
          1671053,
          3870164,
          4131800,
          2976317,
          28070096,
          3518621,
          59623918,
          12729402,
          1405349,
          22536516,
          5878111,
          6077498,
          28484645,
          2282659,
          8254462,
          1316613,
          9008032,
          49734537,
          4300793,
          1817307,
          15322318,
          12242231,
          3486366,
          11097447,
          1695967,
          7357267,
          2663647,
          8361708,
          5193218,
          72389126,
          9162406,
          10743919,
          1954374,
          1342220,
          26077462,
          17821620,
          2696766,
          2084970,
          31085621,
          12399402,
          6455928,
          5813985,
          7229857,
          8352703,
          2675648,
          13982544,
          16609204,
          18457253,
          11168633,
          4480105,
          10256615,
          1729712,
          4005091,
          4203255,
          3042994,
          28454548,
          3601387,
          61337112,
          13462754,
          1568997,
          23297509,
          6034336,
          6621363,
          29068069,
          2313010,
          8417698,
          1345549,
          9237782,
          52776853,
          4405929,
          1895044,
          15347862,
          13040197,
          3514889,
          11330253,
          1772633,
          7360222,
          2920986,
          8230507,
          5308625,
          78248042,
          9648297,
          11099837,
          2017075,
          1382282,
          26971491,
          18584666,
          2703683,
          2167967,
          32096832,
          12456571,
          6714410,
          5991731,
          7548871,
          8448743,
          2739589,
          14491642,
          16985185,
          19025996,
          11684249,
          4592343,
          10623391,
          1804339,
          4248695,
          4345419,
          3093061,
          29335237,
          3789651,
          63712218,
          13146934,
          1644533,
          24378660,
          6121188,
          7111710,
          29967185,
          2367068,
          8759944,
          1415149,
          9455920,
          55582029,
          4705084,
          1996795,
          15857524,
          13709442,
          3478401,
          11637376,
          1962874,
          7498567,
          2494691,
          8503034,
          5401016,
          89217262,
          10123271,
          11419673,
          2043577,
          1329719,
          28125598,
          19403453,
          3030519,
          2266490,
          32908958,
          12732161,
          6919477,
          6069563,
          7745928,
          8397136,
          2845391,
          14409321,
          17484704,
          19416061,
          12186135,
          4755399,
          10893231,
          1800909,
          4398811,
          4482886,
          3150473,
          30012666,
          3765069,
          66912661,
          13448045,
          1788749,
          23766529,
          6103728,
          7418055,
          31077289,
          2401541,
          9161667,
          1455737,
          9585331,
          58284155,
          4952923,
          2112365,
          16259274,
          14964364,
          3391579,
          11697466,
          2044669,
          null,
          null,
          null,
          null,
          null,
          null,
          null,
          null,
          null,
          null,
          null,
          null,
          null,
          null,
          null,
          null,
          null,
          null,
          null,
          null,
          null,
          null,
          null,
          null
         ],
         "yaxis": "y"
        }
       ],
       "layout": {
        "autosize": true,
        "legend": {
         "tracegroupgap": 0
        },
        "template": {
         "data": {
          "bar": [
           {
            "error_x": {
             "color": "#2a3f5f"
            },
            "error_y": {
             "color": "#2a3f5f"
            },
            "marker": {
             "line": {
              "color": "#E5ECF6",
              "width": 0.5
             },
             "pattern": {
              "fillmode": "overlay",
              "size": 10,
              "solidity": 0.2
             }
            },
            "type": "bar"
           }
          ],
          "barpolar": [
           {
            "marker": {
             "line": {
              "color": "#E5ECF6",
              "width": 0.5
             },
             "pattern": {
              "fillmode": "overlay",
              "size": 10,
              "solidity": 0.2
             }
            },
            "type": "barpolar"
           }
          ],
          "carpet": [
           {
            "aaxis": {
             "endlinecolor": "#2a3f5f",
             "gridcolor": "white",
             "linecolor": "white",
             "minorgridcolor": "white",
             "startlinecolor": "#2a3f5f"
            },
            "baxis": {
             "endlinecolor": "#2a3f5f",
             "gridcolor": "white",
             "linecolor": "white",
             "minorgridcolor": "white",
             "startlinecolor": "#2a3f5f"
            },
            "type": "carpet"
           }
          ],
          "choropleth": [
           {
            "colorbar": {
             "outlinewidth": 0,
             "ticks": ""
            },
            "type": "choropleth"
           }
          ],
          "contour": [
           {
            "colorbar": {
             "outlinewidth": 0,
             "ticks": ""
            },
            "colorscale": [
             [
              0,
              "#0d0887"
             ],
             [
              0.1111111111111111,
              "#46039f"
             ],
             [
              0.2222222222222222,
              "#7201a8"
             ],
             [
              0.3333333333333333,
              "#9c179e"
             ],
             [
              0.4444444444444444,
              "#bd3786"
             ],
             [
              0.5555555555555556,
              "#d8576b"
             ],
             [
              0.6666666666666666,
              "#ed7953"
             ],
             [
              0.7777777777777778,
              "#fb9f3a"
             ],
             [
              0.8888888888888888,
              "#fdca26"
             ],
             [
              1,
              "#f0f921"
             ]
            ],
            "type": "contour"
           }
          ],
          "contourcarpet": [
           {
            "colorbar": {
             "outlinewidth": 0,
             "ticks": ""
            },
            "type": "contourcarpet"
           }
          ],
          "heatmap": [
           {
            "colorbar": {
             "outlinewidth": 0,
             "ticks": ""
            },
            "colorscale": [
             [
              0,
              "#0d0887"
             ],
             [
              0.1111111111111111,
              "#46039f"
             ],
             [
              0.2222222222222222,
              "#7201a8"
             ],
             [
              0.3333333333333333,
              "#9c179e"
             ],
             [
              0.4444444444444444,
              "#bd3786"
             ],
             [
              0.5555555555555556,
              "#d8576b"
             ],
             [
              0.6666666666666666,
              "#ed7953"
             ],
             [
              0.7777777777777778,
              "#fb9f3a"
             ],
             [
              0.8888888888888888,
              "#fdca26"
             ],
             [
              1,
              "#f0f921"
             ]
            ],
            "type": "heatmap"
           }
          ],
          "heatmapgl": [
           {
            "colorbar": {
             "outlinewidth": 0,
             "ticks": ""
            },
            "colorscale": [
             [
              0,
              "#0d0887"
             ],
             [
              0.1111111111111111,
              "#46039f"
             ],
             [
              0.2222222222222222,
              "#7201a8"
             ],
             [
              0.3333333333333333,
              "#9c179e"
             ],
             [
              0.4444444444444444,
              "#bd3786"
             ],
             [
              0.5555555555555556,
              "#d8576b"
             ],
             [
              0.6666666666666666,
              "#ed7953"
             ],
             [
              0.7777777777777778,
              "#fb9f3a"
             ],
             [
              0.8888888888888888,
              "#fdca26"
             ],
             [
              1,
              "#f0f921"
             ]
            ],
            "type": "heatmapgl"
           }
          ],
          "histogram": [
           {
            "marker": {
             "pattern": {
              "fillmode": "overlay",
              "size": 10,
              "solidity": 0.2
             }
            },
            "type": "histogram"
           }
          ],
          "histogram2d": [
           {
            "colorbar": {
             "outlinewidth": 0,
             "ticks": ""
            },
            "colorscale": [
             [
              0,
              "#0d0887"
             ],
             [
              0.1111111111111111,
              "#46039f"
             ],
             [
              0.2222222222222222,
              "#7201a8"
             ],
             [
              0.3333333333333333,
              "#9c179e"
             ],
             [
              0.4444444444444444,
              "#bd3786"
             ],
             [
              0.5555555555555556,
              "#d8576b"
             ],
             [
              0.6666666666666666,
              "#ed7953"
             ],
             [
              0.7777777777777778,
              "#fb9f3a"
             ],
             [
              0.8888888888888888,
              "#fdca26"
             ],
             [
              1,
              "#f0f921"
             ]
            ],
            "type": "histogram2d"
           }
          ],
          "histogram2dcontour": [
           {
            "colorbar": {
             "outlinewidth": 0,
             "ticks": ""
            },
            "colorscale": [
             [
              0,
              "#0d0887"
             ],
             [
              0.1111111111111111,
              "#46039f"
             ],
             [
              0.2222222222222222,
              "#7201a8"
             ],
             [
              0.3333333333333333,
              "#9c179e"
             ],
             [
              0.4444444444444444,
              "#bd3786"
             ],
             [
              0.5555555555555556,
              "#d8576b"
             ],
             [
              0.6666666666666666,
              "#ed7953"
             ],
             [
              0.7777777777777778,
              "#fb9f3a"
             ],
             [
              0.8888888888888888,
              "#fdca26"
             ],
             [
              1,
              "#f0f921"
             ]
            ],
            "type": "histogram2dcontour"
           }
          ],
          "mesh3d": [
           {
            "colorbar": {
             "outlinewidth": 0,
             "ticks": ""
            },
            "type": "mesh3d"
           }
          ],
          "parcoords": [
           {
            "line": {
             "colorbar": {
              "outlinewidth": 0,
              "ticks": ""
             }
            },
            "type": "parcoords"
           }
          ],
          "pie": [
           {
            "automargin": true,
            "type": "pie"
           }
          ],
          "scatter": [
           {
            "fillpattern": {
             "fillmode": "overlay",
             "size": 10,
             "solidity": 0.2
            },
            "type": "scatter"
           }
          ],
          "scatter3d": [
           {
            "line": {
             "colorbar": {
              "outlinewidth": 0,
              "ticks": ""
             }
            },
            "marker": {
             "colorbar": {
              "outlinewidth": 0,
              "ticks": ""
             }
            },
            "type": "scatter3d"
           }
          ],
          "scattercarpet": [
           {
            "marker": {
             "colorbar": {
              "outlinewidth": 0,
              "ticks": ""
             }
            },
            "type": "scattercarpet"
           }
          ],
          "scattergeo": [
           {
            "marker": {
             "colorbar": {
              "outlinewidth": 0,
              "ticks": ""
             }
            },
            "type": "scattergeo"
           }
          ],
          "scattergl": [
           {
            "marker": {
             "colorbar": {
              "outlinewidth": 0,
              "ticks": ""
             }
            },
            "type": "scattergl"
           }
          ],
          "scattermapbox": [
           {
            "marker": {
             "colorbar": {
              "outlinewidth": 0,
              "ticks": ""
             }
            },
            "type": "scattermapbox"
           }
          ],
          "scatterpolar": [
           {
            "marker": {
             "colorbar": {
              "outlinewidth": 0,
              "ticks": ""
             }
            },
            "type": "scatterpolar"
           }
          ],
          "scatterpolargl": [
           {
            "marker": {
             "colorbar": {
              "outlinewidth": 0,
              "ticks": ""
             }
            },
            "type": "scatterpolargl"
           }
          ],
          "scatterternary": [
           {
            "marker": {
             "colorbar": {
              "outlinewidth": 0,
              "ticks": ""
             }
            },
            "type": "scatterternary"
           }
          ],
          "surface": [
           {
            "colorbar": {
             "outlinewidth": 0,
             "ticks": ""
            },
            "colorscale": [
             [
              0,
              "#0d0887"
             ],
             [
              0.1111111111111111,
              "#46039f"
             ],
             [
              0.2222222222222222,
              "#7201a8"
             ],
             [
              0.3333333333333333,
              "#9c179e"
             ],
             [
              0.4444444444444444,
              "#bd3786"
             ],
             [
              0.5555555555555556,
              "#d8576b"
             ],
             [
              0.6666666666666666,
              "#ed7953"
             ],
             [
              0.7777777777777778,
              "#fb9f3a"
             ],
             [
              0.8888888888888888,
              "#fdca26"
             ],
             [
              1,
              "#f0f921"
             ]
            ],
            "type": "surface"
           }
          ],
          "table": [
           {
            "cells": {
             "fill": {
              "color": "#EBF0F8"
             },
             "line": {
              "color": "white"
             }
            },
            "header": {
             "fill": {
              "color": "#C8D4E3"
             },
             "line": {
              "color": "white"
             }
            },
            "type": "table"
           }
          ]
         },
         "layout": {
          "annotationdefaults": {
           "arrowcolor": "#2a3f5f",
           "arrowhead": 0,
           "arrowwidth": 1
          },
          "autotypenumbers": "strict",
          "coloraxis": {
           "colorbar": {
            "outlinewidth": 0,
            "ticks": ""
           }
          },
          "colorscale": {
           "diverging": [
            [
             0,
             "#8e0152"
            ],
            [
             0.1,
             "#c51b7d"
            ],
            [
             0.2,
             "#de77ae"
            ],
            [
             0.3,
             "#f1b6da"
            ],
            [
             0.4,
             "#fde0ef"
            ],
            [
             0.5,
             "#f7f7f7"
            ],
            [
             0.6,
             "#e6f5d0"
            ],
            [
             0.7,
             "#b8e186"
            ],
            [
             0.8,
             "#7fbc41"
            ],
            [
             0.9,
             "#4d9221"
            ],
            [
             1,
             "#276419"
            ]
           ],
           "sequential": [
            [
             0,
             "#0d0887"
            ],
            [
             0.1111111111111111,
             "#46039f"
            ],
            [
             0.2222222222222222,
             "#7201a8"
            ],
            [
             0.3333333333333333,
             "#9c179e"
            ],
            [
             0.4444444444444444,
             "#bd3786"
            ],
            [
             0.5555555555555556,
             "#d8576b"
            ],
            [
             0.6666666666666666,
             "#ed7953"
            ],
            [
             0.7777777777777778,
             "#fb9f3a"
            ],
            [
             0.8888888888888888,
             "#fdca26"
            ],
            [
             1,
             "#f0f921"
            ]
           ],
           "sequentialminus": [
            [
             0,
             "#0d0887"
            ],
            [
             0.1111111111111111,
             "#46039f"
            ],
            [
             0.2222222222222222,
             "#7201a8"
            ],
            [
             0.3333333333333333,
             "#9c179e"
            ],
            [
             0.4444444444444444,
             "#bd3786"
            ],
            [
             0.5555555555555556,
             "#d8576b"
            ],
            [
             0.6666666666666666,
             "#ed7953"
            ],
            [
             0.7777777777777778,
             "#fb9f3a"
            ],
            [
             0.8888888888888888,
             "#fdca26"
            ],
            [
             1,
             "#f0f921"
            ]
           ]
          },
          "colorway": [
           "#636efa",
           "#EF553B",
           "#00cc96",
           "#ab63fa",
           "#FFA15A",
           "#19d3f3",
           "#FF6692",
           "#B6E880",
           "#FF97FF",
           "#FECB52"
          ],
          "font": {
           "color": "#2a3f5f"
          },
          "geo": {
           "bgcolor": "white",
           "lakecolor": "white",
           "landcolor": "#E5ECF6",
           "showlakes": true,
           "showland": true,
           "subunitcolor": "white"
          },
          "hoverlabel": {
           "align": "left"
          },
          "hovermode": "closest",
          "mapbox": {
           "style": "light"
          },
          "paper_bgcolor": "white",
          "plot_bgcolor": "#E5ECF6",
          "polar": {
           "angularaxis": {
            "gridcolor": "white",
            "linecolor": "white",
            "ticks": ""
           },
           "bgcolor": "#E5ECF6",
           "radialaxis": {
            "gridcolor": "white",
            "linecolor": "white",
            "ticks": ""
           }
          },
          "scene": {
           "xaxis": {
            "backgroundcolor": "#E5ECF6",
            "gridcolor": "white",
            "gridwidth": 2,
            "linecolor": "white",
            "showbackground": true,
            "ticks": "",
            "zerolinecolor": "white"
           },
           "yaxis": {
            "backgroundcolor": "#E5ECF6",
            "gridcolor": "white",
            "gridwidth": 2,
            "linecolor": "white",
            "showbackground": true,
            "ticks": "",
            "zerolinecolor": "white"
           },
           "zaxis": {
            "backgroundcolor": "#E5ECF6",
            "gridcolor": "white",
            "gridwidth": 2,
            "linecolor": "white",
            "showbackground": true,
            "ticks": "",
            "zerolinecolor": "white"
           }
          },
          "shapedefaults": {
           "line": {
            "color": "#2a3f5f"
           }
          },
          "ternary": {
           "aaxis": {
            "gridcolor": "white",
            "linecolor": "white",
            "ticks": ""
           },
           "baxis": {
            "gridcolor": "white",
            "linecolor": "white",
            "ticks": ""
           },
           "bgcolor": "#E5ECF6",
           "caxis": {
            "gridcolor": "white",
            "linecolor": "white",
            "ticks": ""
           }
          },
          "title": {
           "x": 0.05
          },
          "xaxis": {
           "automargin": true,
           "gridcolor": "white",
           "linecolor": "white",
           "ticks": "",
           "title": {
            "standoff": 15
           },
           "zerolinecolor": "white",
           "zerolinewidth": 2
          },
          "yaxis": {
           "automargin": true,
           "gridcolor": "white",
           "linecolor": "white",
           "ticks": "",
           "title": {
            "standoff": 15
           },
           "zerolinecolor": "white",
           "zerolinewidth": 2
          }
         }
        },
        "title": {
         "text": "GANANCIA EN EDUCACION A TRAVES DEL TIEMPO"
        },
        "xaxis": {
         "anchor": "y",
         "autorange": true,
         "domain": [
          0,
          1
         ],
         "range": [
          1993,
          2016
         ],
         "title": {
          "text": "YEAR"
         },
         "type": "linear"
        },
        "yaxis": {
         "anchor": "x",
         "autorange": true,
         "domain": [
          0,
          1
         ],
         "range": [
          -4464995.111111111,
          94147907.1111111
         ],
         "title": {
          "text": "TOTAL_REVENUE"
         },
         "type": "linear"
        }
       }
      },
      "image/png": "[encoded data removed]",
      "text/html": [
       "<div>                            <div id=\"711d35c2-c8e7-4037-a9d5-9f990c31bfd2\" class=\"plotly-graph-div\" style=\"height:525px; width:100%;\"></div>            <script type=\"text/javascript\">                require([\"plotly\"], function(Plotly) {                    window.PLOTLYENV=window.PLOTLYENV || {};                                    if (document.getElementById(\"711d35c2-c8e7-4037-a9d5-9f990c31bfd2\")) {                    Plotly.newPlot(                        \"711d35c2-c8e7-4037-a9d5-9f990c31bfd2\",                        [{\"hovertemplate\":\"YEAR=%{x}<br>TOTAL_REVENUE=%{y}<extra></extra>\",\"legendgroup\":\"\",\"line\":{\"color\":\"#636efa\",\"dash\":\"solid\"},\"marker\":{\"symbol\":\"circle\"},\"mode\":\"lines\",\"name\":\"\",\"showlegend\":false,\"x\":[1993,1993,1993,1993,1993,1993,1993,1993,1993,1993,1993,1993,1993,1993,1993,1993,1993,1993,1993,1993,1993,1993,1993,1993,1993,1993,1993,1993,1993,1993,1993,1993,1993,1993,1993,1993,1993,1993,1993,1993,1993,1993,1993,1993,1993,1993,1993,1993,1993,1993,1993,1994,1994,1994,1994,1994,1994,1994,1994,1994,1994,1994,1994,1994,1994,1994,1994,1994,1994,1994,1994,1994,1994,1994,1994,1994,1994,1994,1994,1994,1994,1994,1994,1994,1994,1994,1994,1994,1994,1994,1994,1994,1994,1994,1994,1994,1994,1994,1994,1994,1994,1994,1995,1995,1995,1995,1995,1995,1995,1995,1995,1995,1995,1995,1995,1995,1995,1995,1995,1995,1995,1995,1995,1995,1995,1995,1995,1995,1995,1995,1995,1995,1995,1995,1995,1995,1995,1995,1995,1995,1995,1995,1995,1995,1995,1995,1995,1995,1995,1995,1995,1995,1995,1996,1996,1996,1996,1996,1996,1996,1996,1996,1996,1996,1996,1996,1996,1996,1996,1996,1996,1996,1996,1996,1996,1996,1996,1996,1996,1996,1996,1996,1996,1996,1996,1996,1996,1996,1996,1996,1996,1996,1996,1996,1996,1996,1996,1996,1996,1996,1996,1996,1996,1996,1997,1997,1997,1997,1997,1997,1997,1997,1997,1997,1997,1997,1997,1997,1997,1997,1997,1997,1997,1997,1997,1997,1997,1997,1997,1997,1997,1997,1997,1997,1997,1997,1997,1997,1997,1997,1997,1997,1997,1997,1997,1997,1997,1997,1997,1997,1997,1997,1997,1997,1997,1998,1998,1998,1998,1998,1998,1998,1998,1998,1998,1998,1998,1998,1998,1998,1998,1998,1998,1998,1998,1998,1998,1998,1998,1998,1998,1998,1998,1998,1998,1998,1998,1998,1998,1998,1998,1998,1998,1998,1998,1998,1998,1998,1998,1998,1998,1998,1998,1998,1998,1998,1999,1999,1999,1999,1999,1999,1999,1999,1999,1999,1999,1999,1999,1999,1999,1999,1999,1999,1999,1999,1999,1999,1999,1999,1999,1999,1999,1999,1999,1999,1999,1999,1999,1999,1999,1999,1999,1999,1999,1999,1999,1999,1999,1999,1999,1999,1999,1999,1999,1999,1999,2000,2000,2000,2000,2000,2000,2000,2000,2000,2000,2000,2000,2000,2000,2000,2000,2000,2000,2000,2000,2000,2000,2000,2000,2000,2000,2000,2000,2000,2000,2000,2000,2000,2000,2000,2000,2000,2000,2000,2000,2000,2000,2000,2000,2000,2000,2000,2000,2000,2000,2000,2001,2001,2001,2001,2001,2001,2001,2001,2001,2001,2001,2001,2001,2001,2001,2001,2001,2001,2001,2001,2001,2001,2001,2001,2001,2001,2001,2001,2001,2001,2001,2001,2001,2001,2001,2001,2001,2001,2001,2001,2001,2001,2001,2001,2001,2001,2001,2001,2001,2001,2001,2002,2002,2002,2002,2002,2002,2002,2002,2002,2002,2002,2002,2002,2002,2002,2002,2002,2002,2002,2002,2002,2002,2002,2002,2002,2002,2002,2002,2002,2002,2002,2002,2002,2002,2002,2002,2002,2002,2002,2002,2002,2002,2002,2002,2002,2002,2002,2002,2002,2002,2002,2003,2003,2003,2003,2003,2003,2003,2003,2003,2003,2003,2003,2003,2003,2003,2003,2003,2003,2003,2003,2003,2003,2003,2003,2003,2003,2003,2003,2003,2003,2003,2003,2003,2003,2003,2003,2003,2003,2003,2003,2003,2003,2003,2003,2003,2003,2003,2003,2003,2003,2003,2004,2004,2004,2004,2004,2004,2004,2004,2004,2004,2004,2004,2004,2004,2004,2004,2004,2004,2004,2004,2004,2004,2004,2004,2004,2004,2004,2004,2004,2004,2004,2004,2004,2004,2004,2004,2004,2004,2004,2004,2004,2004,2004,2004,2004,2004,2004,2004,2004,2004,2004,2005,2005,2005,2005,2005,2005,2005,2005,2005,2005,2005,2005,2005,2005,2005,2005,2005,2005,2005,2005,2005,2005,2005,2005,2005,2005,2005,2005,2005,2005,2005,2005,2005,2005,2005,2005,2005,2005,2005,2005,2005,2005,2005,2005,2005,2005,2005,2005,2005,2005,2005,2006,2006,2006,2006,2006,2006,2006,2006,2006,2006,2006,2006,2006,2006,2006,2006,2006,2006,2006,2006,2006,2006,2006,2006,2006,2006,2006,2006,2006,2006,2006,2006,2006,2006,2006,2006,2006,2006,2006,2006,2006,2006,2006,2006,2006,2006,2006,2006,2006,2006,2006,2007,2007,2007,2007,2007,2007,2007,2007,2007,2007,2007,2007,2007,2007,2007,2007,2007,2007,2007,2007,2007,2007,2007,2007,2007,2007,2007,2007,2007,2007,2007,2007,2007,2007,2007,2007,2007,2007,2007,2007,2007,2007,2007,2007,2007,2007,2007,2007,2007,2007,2007,2008,2008,2008,2008,2008,2008,2008,2008,2008,2008,2008,2008,2008,2008,2008,2008,2008,2008,2008,2008,2008,2008,2008,2008,2008,2008,2008,2008,2008,2008,2008,2008,2008,2008,2008,2008,2008,2008,2008,2008,2008,2008,2008,2008,2008,2008,2008,2008,2008,2008,2008,2009,2009,2009,2009,2009,2009,2009,2009,2009,2009,2009,2009,2009,2009,2009,2009,2009,2009,2009,2009,2009,2009,2009,2009,2009,2009,2009,2009,2009,2009,2009,2009,2009,2009,2009,2009,2009,2009,2009,2009,2009,2009,2009,2009,2009,2009,2009,2009,2009,2009,2009,2010,2010,2010,2010,2010,2010,2010,2010,2010,2010,2010,2010,2010,2010,2010,2010,2010,2010,2010,2010,2010,2010,2010,2010,2010,2010,2010,2010,2010,2010,2010,2010,2010,2010,2010,2010,2010,2010,2010,2010,2010,2010,2010,2010,2010,2010,2010,2010,2010,2010,2010,2011,2011,2011,2011,2011,2011,2011,2011,2011,2011,2011,2011,2011,2011,2011,2011,2011,2011,2011,2011,2011,2011,2011,2011,2011,2011,2011,2011,2011,2011,2011,2011,2011,2011,2011,2011,2011,2011,2011,2011,2011,2011,2011,2011,2011,2011,2011,2011,2011,2011,2011,2012,2012,2012,2012,2012,2012,2012,2012,2012,2012,2012,2012,2012,2012,2012,2012,2012,2012,2012,2012,2012,2012,2012,2012,2012,2012,2012,2012,2012,2012,2012,2012,2012,2012,2012,2012,2012,2012,2012,2012,2012,2012,2012,2012,2012,2012,2012,2012,2012,2012,2012,2013,2013,2013,2013,2013,2013,2013,2013,2013,2013,2013,2013,2013,2013,2013,2013,2013,2013,2013,2013,2013,2013,2013,2013,2013,2013,2013,2013,2013,2013,2013,2013,2013,2013,2013,2013,2013,2013,2013,2013,2013,2013,2013,2013,2013,2013,2013,2013,2013,2013,2013,2014,2014,2014,2014,2014,2014,2014,2014,2014,2014,2014,2014,2014,2014,2014,2014,2014,2014,2014,2014,2014,2014,2014,2014,2014,2014,2014,2014,2014,2014,2014,2014,2014,2014,2014,2014,2014,2014,2014,2014,2014,2014,2014,2014,2014,2014,2014,2014,2014,2014,2014,2015,2015,2015,2015,2015,2015,2015,2015,2015,2015,2015,2015,2015,2015,2015,2015,2015,2015,2015,2015,2015,2015,2015,2015,2015,2015,2015,2015,2015,2015,2015,2015,2015,2015,2015,2015,2015,2015,2015,2015,2015,2015,2015,2015,2015,2015,2015,2015,2015,2015,2015,2016,2016,2016,2016,2016,2016,2016,2016,2016,2016,2016,2016,2016,2016,2016,2016,2016,2016,2016,2016,2016,2016,2016,2016,2016,2016,2016,2016,2016,2016,2016,2016,2016,2016,2016,2016,2016,2016,2016,2016,2016,2016,2016,2016,2016,2016,2016,2016,2016,2016,2016,1994,1994,1996,1996,1998,1998,2000,2000,2002,2002,2003,2003,2005,2005,2007,2007,2009,2009,2011,2011,2013,2013,2015,2015],\"xaxis\":\"x\",\"y\":[2827391.0,1191398.0,3427976.0,1346909.0,28043338.0,3058326.0,4064158.0,683954.0,721151.0,11370156.0,4716559.0,1062475.0,890835.0,10584624.0,5833420.0,2880731.0,2386945.0,2381148.0,3438321.0,1368095.0,4918010.0,6121612.0,11034174.0,4862635.0,1170109.0,4196601.0,813998.0,1625242.0,1148268.0,1109743.0,6747567.0,1217194.0,22688753.0,5583166.0,580148.0,10841606.0,1436505.0,3141217.0,12269422.0,919594.0,3031112.0,465650.0,3268642.0,20267205.0,1638305.0,837540.0,5918536.0,5270961.0,1832154.0,5357945.0,615130.0,2970223.0,1052282.0,3566586.0,1393287.0,23440845.0,3061865.0,4268860.0,705798.0,735720.0,12315950.0,6824191.0,1133949.0,949999.0,11309803.0,6121754.0,2987394.0,2700587.0,2491948.0,3571864.0,1357116.0,5141505.0,6410757.0,11762546.0,5262482.0,1911579.0,4488359.0,878986.0,1710913.0,1266549.0,1145147.0,6957898.0,1342868.0,23933662.0,5648390.0,603902.0,10735756.0,1518540.0,3088542.0,13271564.0,1012987.0,3179542.0,507927.0,3535898.0,19713604.0,1792011.0,892124.0,6125739.0,5739012.0,1854403.0,5682439.0,674921.0,3367437.0,1117068.0,3815218.0,2057550.0,29512214.0,3709875.0,4420632.0,802018.0,700111.0,13242710.0,7052825.0,1173579.0,1083215.0,12236673.0,6514934.0,3076971.0,2826943.0,3508673.0,3791795.0,1446745.0,5580123.0,7326904.0,12500208.0,5744447.0,2118973.0,4852467.0,911284.0,1832463.0,1367710.0,1197945.0,11870183.0,1646265.0,25063999.0,6076939.0,642234.0,11368650.0,3156526.0,3302062.0,13957035.0,1089859.0,3389646.0,684882.0,3870164.0,20483376.0,1953833.0,934916.0,6354418.0,5985425.0,1916605.0,6006745.0,634237.0,3365113.0,1120346.0,4143304.0,2183384.0,31282981.0,3891203.0,4686025.0,860410.0,678874.0,13684457.0,7764687.0,1199019.0,1134052.0,12732129.0,6422662.0,3258040.0,2914544.0,3622788.0,3879633.0,1485138.0,5688918.0,7129757.0,13012080.0,6101416.0,2241561.0,5251014.0,944623.0,1909834.0,1551169.0,1269380.0,12389781.0,1750519.0,26026366.0,6516400.0,655971.0,12172778.0,3185234.0,3375710.0,14671368.0,1135192.0,3594408.0,710728.0,4123018.0,22241369.0,2035726.0,965238.0,6674519.0,6354593.0,1958647.0,6342623.0,664057.0,3981788.0,1131950.0,4343262.0,2355859.0,35614934.0,4133275.0,4788489.0,898926.0,711625.0,14363709.0,8248199.0,1213792.0,1200186.0,13929105.0,7885141.0,3406582.0,3029537.0,3842885.0,4106095.0,1537085.0,6040883.0,7585624.0,13759710.0,6304977.0,2274700.0,5550134.0,989991.0,1994021.0,1701290.0,1339186.0,12910890.0,1768148.0,26775074.0,6827952.0,683331.0,12630491.0,3413742.0,3477420.0,15184431.0,1185534.0,3874045.0,747462.0,4390879.0,23091567.0,2187279.0,1022546.0,7345090.0,6667626.0,2053981.0,6724752.0,660079.0,4140537.0,1206195.0,4675296.0,2567380.0,39183018.0,4359021.0,5024673.0,934530.0,706938.0,15595671.0,9207163.0,1279125.0,1310960.0,14688777.0,7656749.0,3589705.0,3207670.0,3938009.0,4443468.0,1611926.0,6521269.0,7726497.0,14712250.0,6672384.0,2400660.0,5990499.0,1035636.0,2062836.0,1906860.0,1420100.0,13786951.0,1913783.0,27900803.0,7516979.0,731384.0,13577343.0,3559980.0,3892091.0,15671363.0,1255280.0,4109130.0,793101.0,4757639.0,24485263.0,2295870.0,1089658.0,7723744.0,6928738.0,2178936.0,7083655.0,703280.0,4471546.0,1243227.0,5085826.0,2684966.0,41393435.0,4740254.0,5460213.0,1004472.0,758072.0,17093036.0,10380164.0,1328572.0,1405250.0,16208970.0,8167164.0,3740509.0,3390596.0,4188131.0,4641847.0,1708133.0,6850334.0,8388120.0,15248112.0,6949149.0,2532681.0,6238901.0,1049369.0,2212104.0,2089048.0,1498286.0,14977501.0,2068337.0,30215370.0,8476795.0,770094.0,14507056.0,3788901.0,4080653.0,16361921.0,1358566.0,4365352.0,825851.0,5059587.0,26096023.0,2425600.0,1147600.0,8331336.0,7288143.0,2190420.0,7415243.0,780875.0,4885917.0,1313510.0,5479168.0,2844855.0,46628207.0,5073266.0,5884078.0,1098555.0,881423.0,17558787.0,11197766.0,1404895.0,1452222.0,17595047.0,8489991.0,3822452.0,3518271.0,4330089.0,4785331.0,1792390.0,7419047.0,9464271.0,15939477.0,7344747.0,2743284.0,6675260.0,1104935.0,2263952.0,2252416.0,1586869.0,15651060.0,2191695.0,31906526.0,9064700.0,812982.0,15327834.0,3906833.0,4369400.0,17090654.0,1464820.0,4690418.0,868161.0,5338531.0,28918934.0,2546642.0,1211370.0,8911426.0,7620930.0,2243151.0,7848352.0,787323.0,4832946.0,1325498.0,5916342.0,2974588.0,53288943.0,5372784.0,6331569.0,1153831.0,1042261.0,18467090.0,12271962.0,1682332.0,1571348.0,18534372.0,9124748.0,4068110.0,3681845.0,4536133.0,4982369.0,1914551.0,7864290.0,10613329.0,16772419.0,7836617.0,2823151.0,7081783.0,1139959.0,2355374.0,2381897.0,1757828.0,16854895.0,2373143.0,34373567.0,9670620.0,818139.0,16693845.0,4257128.0,4561948.0,17792997.0,1592622.0,5437615.0,886661.0,5560822.0,30868844.0,2741771.0,1300273.0,9493862.0,7936037.0,2321731.0,8363904.0,804297.0,5128559.0,1377767.0,6192222.0,3147921.0,54727056.0,5849588.0,6644334.0,1180255.0,1138126.0,18541689.0,13042229.0,1889600.0,1625444.0,19084554.0,9273957.0,4191217.0,3823261.0,4621025.0,5229238.0,2041986.0,8430663.0,11217085.0,18055855.0,8065042.0,3029559.0,7455539.0,1168799.0,2528312.0,2592064.0,1887115.0,18071365.0,2537261.0,35748163.0,9701231.0,846759.0,17589983.0,4370415.0,4772603.0,18586743.0,1633707.0,5627004.0,930874.0,5785857.0,32802734.0,2865058.0,1387074.0,9914221.0,8250593.0,2413744.0,8624767.0,908719.0,5196054.0,1425948.0,6529894.0,3241275.0,59815855.0,6297242.0,6959891.0,1242436.0,1114061.0,19549835.0,13524807.0,2078877.0,1685984.0,19627346.0,8246076.0,4374803.0,4068800.0,4872025.0,5478321.0,2162605.0,8700979.0,11591832.0,18488359.0,8484497.0,3260771.0,7622601.0,1205602.0,2600831.0,2778564.0,2028602.0,19785039.0,2626262.0,38033080.0,9907235.0,882913.0,18018740.0,4426835.0,4592019.0,19811545.0,1728055.0,5709707.0,965778.0,5994756.0,35143236.0,2875622.0,1451171.0,10504167.0,8565636.0,2497707.0,8931497.0,962240.0,5356113.0,1477152.0,7117923.0,3385818.0,60162326.0,6527456.0,7276945.0,1334523.0,1081501.0,21623923.0,14136215.0,2138137.0,1733838.0,21082441.0,10423578.0,4396136.0,4377709.0,5135262.0,5713792.0,2228749.0,9123493.0,11979937.0,18663799.0,8688315.0,3481643.0,7893957.0,1270790.0,2734724.0,3069531.0,2194562.0,21398391.0,2855893.0,40820776.0,10569600.0,925393.0,18878773.0,4622080.0,5086083.0,21104028.0,1836758.0,5961494.0,1007135.0,6349101.0,36055119.0,2997200.0,1525776.0,11151172.0,8790531.0,2585084.0,9183588.0,974888.0,5889966.0,1599739.0,7550109.0,3978240.0,62171797.0,6910296.0,7898694.0,1431710.0,1109605.0,23216404.0,14724731.0,2274166.0,1796035.0,21611180.0,11653165.0,4638125.0,4223632.0,5444309.0,5975074.0,2324789.0,9906219.0,12976279.0,19106382.0,8777363.0,3639643.0,8340865.0,1293070.0,2895640.0,3381646.0,2332695.0,23026334.0,2982991.0,43936450.0,11098165.0,969520.0,19746239.0,4892548.0,5022050.0,22657782.0,1903472.0,6337711.0,1053504.0,6806262.0,37783715.0,3181279.0,1628681.0,12182657.0,9141383.0,2701056.0,9584108.0,1132160.0,6364028.0,1625138.0,8084068.0,4247664.0,66302860.0,7295561.0,8436197.0,1544615.0,1092863.0,25423686.0,16165924.0,2705532.0,1875346.0,22724326.0,11578988.0,4898509.0,4648920.0,6002056.0,6780668.0,2381908.0,10697117.0,14160242.0,19714584.0,9314477.0,4279581.0,8846493.0,1375638.0,3107061.0,3691628.0,2459051.0,23915685.0,3094036.0,47018793.0,11709885.0,1008339.0,20957714.0,5120286.0,5429145.0,23950553.0,2004709.0,6752813.0,1086433.0,7195519.0,41142403.0,3381146.0,1725093.0,13153845.0,9679682.0,2814536.0,9855692.0,1150345.0,7069040.0,1800616.0,8724434.0,4415981.0,72516936.0,7689014.0,8913149.0,1694929.0,1148358.0,28898362.0,17755989.0,2985593.0,2011951.0,23897153.0,10458932.0,5194536.0,5038100.0,6226696.0,7048732.0,2538161.0,11674965.0,14407777.0,20576110.0,9693509.0,4220926.0,8908844.0,1474306.0,3234014.0,4006081.0,2600123.0,25293076.0,3272953.0,50762544.0,13063307.0,1045678.0,22142424.0,5491931.0,5648586.0,25334577.0,2100679.0,7130274.0,1136570.0,7617488.0,44355326.0,3656090.0,1836316.0,14176385.0,10350748.0,2905489.0,10154985.0,1477891.0,7726213.0,2188587.0,9272152.0,4608356.0,74626928.0,8070129.0,9322225.0,1694998.0,1224312.0,30001821.0,18683630.0,2541703.0,2151476.0,25431714.0,11340157.0,5496908.0,5378095.0,6637062.0,7751886.0,2594335.0,13098112.0,14633578.0,20441973.0,10118118.0,4449009.0,9335599.0,1562815.0,3383157.0,4338601.0,2715463.0,25916004.0,3569311.0,53147343.0,13610326.0,1104803.0,22746589.0,5780151.0,6107684.0,26357235.0,2173888.0,7743317.0,1190917.0,8086152.0,46245975.0,4198001.0,1888635.0,14768120.0,11195224.0,2965828.0,10619354.0,1602514.0,7186390.0,2158970.0,8802515.0,4753142.0,73958896.0,8310673.0,9681268.0,1718993.0,801008.0,26494500.0,17972839.0,2689758.0,2182273.0,26987426.0,12999357.0,5732319.0,5615208.0,6706922.0,7984550.0,2623127.0,13147931.0,15298022.0,19616665.0,10353784.0,4392101.0,9472520.0,1607935.0,3522481.0,4442101.0,2816162.0,26510413.0,3703477.0,55885116.0,15410564.0,1150142.0,22779344.0,6029807.0,6158756.0,26755585.0,2179714.0,7669733.0,1258876.0,8112895.0,48087531.0,4238943.0,1683034.0,15251481.0,12025012.0,3097212.0,10991081.0,1675761.0,7281058.0,2230338.0,8828122.0,5069272.0,67356719.0,8793676.0,9726922.0,1733458.0,1195934.0,26231141.0,17839851.0,2564856.0,2177999.0,28253620.0,14023240.0,5744872.0,5454128.0,6881951.0,8091029.0,2721365.0,13327770.0,14919763.0,19393461.0,10383935.0,4466377.0,9587703.0,1623971.0,3720560.0,4262471.0,2906573.0,26676217.0,3638606.0,55453300.0,16621268.0,1308214.0,23247907.0,5778507.0,6219779.0,27883991.0,2207123.0,7755419.0,1292742.0,8405025.0,50559500.0,4250259.0,1749898.0,14937195.0,11919090.0,3176874.0,11289720.0,1718605.0,7376725.0,2357828.0,8429186.0,5176362.0,70953331.0,8747471.0,9783168.0,1759170.0,1283071.0,26453693.0,18030043.0,2499513.0,2089982.0,29507584.0,12125155.0,6098470.0,5538869.0,7104589.0,8022917.0,2654366.0,13443940.0,15396681.0,19374026.0,10912368.0,4516742.0,9915356.0,1631810.0,3879388.0,4146577.0,2947007.0,26242376.0,3591330.0,57753776.0,14409515.0,1309044.0,23488657.0,5835133.0,6112484.0,28492510.0,2212352.0,7772777.0,1297661.0,8679893.0,51023159.0,4141253.0,1686499.0,14655345.0,11905941.0,3475642.0,11664303.0,1650621.0,7136949.0,2383402.0,7934798.0,5169926.0,69016392.0,8616009.0,10070907.0,1855867.0,1331006.0,24139266.0,17559894.0,2535038.0,1981482.0,29900021.0,12395432.0,6262807.0,5613619.0,7192430.0,8477993.0,2611056.0,13752912.0,15763456.0,18622316.0,10681609.0,4477828.0,10022622.0,1628318.0,3764056.0,4053945.0,2963221.0,27574528.0,3478709.0,58981073.0,12788659.0,1345371.0,22799205.0,5824963.0,6124872.0,27881568.0,2208278.0,7889771.0,1298723.0,8983224.0,49979753.0,4217360.0,1754161.0,14940479.0,11955582.0,3970941.0,11139967.0,1664983.0,7197439.0,2545117.0,8164324.0,5067546.0,68868516.0,8826868.0,10319361.0,1930466.0,1300036.0,24681548.0,17459504.0,2331770.0,2015534.0,30057886.0,12236713.0,6281345.0,5667223.0,7216175.0,8121179.0,2650346.0,13814727.0,16114783.0,18270327.0,10848720.0,4444064.0,10103589.0,1671053.0,3870164.0,4131800.0,2976317.0,28070096.0,3518621.0,59623918.0,12729402.0,1405349.0,22536516.0,5878111.0,6077498.0,28484645.0,2282659.0,8254462.0,1316613.0,9008032.0,49734537.0,4300793.0,1817307.0,15322318.0,12242231.0,3486366.0,11097447.0,1695967.0,7357267.0,2663647.0,8361708.0,5193218.0,72389126.0,9162406.0,10743919.0,1954374.0,1342220.0,26077462.0,17821620.0,2696766.0,2084970.0,31085621.0,12399402.0,6455928.0,5813985.0,7229857.0,8352703.0,2675648.0,13982544.0,16609204.0,18457253.0,11168633.0,4480105.0,10256615.0,1729712.0,4005091.0,4203255.0,3042994.0,28454548.0,3601387.0,61337112.0,13462754.0,1568997.0,23297509.0,6034336.0,6621363.0,29068069.0,2313010.0,8417698.0,1345549.0,9237782.0,52776853.0,4405929.0,1895044.0,15347862.0,13040197.0,3514889.0,11330253.0,1772633.0,7360222.0,2920986.0,8230507.0,5308625.0,78248042.0,9648297.0,11099837.0,2017075.0,1382282.0,26971491.0,18584666.0,2703683.0,2167967.0,32096832.0,12456571.0,6714410.0,5991731.0,7548871.0,8448743.0,2739589.0,14491642.0,16985185.0,19025996.0,11684249.0,4592343.0,10623391.0,1804339.0,4248695.0,4345419.0,3093061.0,29335237.0,3789651.0,63712218.0,13146934.0,1644533.0,24378660.0,6121188.0,7111710.0,29967185.0,2367068.0,8759944.0,1415149.0,9455920.0,55582029.0,4705084.0,1996795.0,15857524.0,13709442.0,3478401.0,11637376.0,1962874.0,7498567.0,2494691.0,8503034.0,5401016.0,89217262.0,10123271.0,11419673.0,2043577.0,1329719.0,28125598.0,19403453.0,3030519.0,2266490.0,32908958.0,12732161.0,6919477.0,6069563.0,7745928.0,8397136.0,2845391.0,14409321.0,17484704.0,19416061.0,12186135.0,4755399.0,10893231.0,1800909.0,4398811.0,4482886.0,3150473.0,30012666.0,3765069.0,66912661.0,13448045.0,1788749.0,23766529.0,6103728.0,7418055.0,31077289.0,2401541.0,9161667.0,1455737.0,9585331.0,58284155.0,4952923.0,2112365.0,16259274.0,14964364.0,3391579.0,11697466.0,2044669.0,null,null,null,null,null,null,null,null,null,null,null,null,null,null,null,null,null,null,null,null,null,null,null,null],\"yaxis\":\"y\",\"type\":\"scattergl\"}],                        {\"template\":{\"data\":{\"histogram2dcontour\":[{\"type\":\"histogram2dcontour\",\"colorbar\":{\"outlinewidth\":0,\"ticks\":\"\"},\"colorscale\":[[0.0,\"#0d0887\"],[0.1111111111111111,\"#46039f\"],[0.2222222222222222,\"#7201a8\"],[0.3333333333333333,\"#9c179e\"],[0.4444444444444444,\"#bd3786\"],[0.5555555555555556,\"#d8576b\"],[0.6666666666666666,\"#ed7953\"],[0.7777777777777778,\"#fb9f3a\"],[0.8888888888888888,\"#fdca26\"],[1.0,\"#f0f921\"]]}],\"choropleth\":[{\"type\":\"choropleth\",\"colorbar\":{\"outlinewidth\":0,\"ticks\":\"\"}}],\"histogram2d\":[{\"type\":\"histogram2d\",\"colorbar\":{\"outlinewidth\":0,\"ticks\":\"\"},\"colorscale\":[[0.0,\"#0d0887\"],[0.1111111111111111,\"#46039f\"],[0.2222222222222222,\"#7201a8\"],[0.3333333333333333,\"#9c179e\"],[0.4444444444444444,\"#bd3786\"],[0.5555555555555556,\"#d8576b\"],[0.6666666666666666,\"#ed7953\"],[0.7777777777777778,\"#fb9f3a\"],[0.8888888888888888,\"#fdca26\"],[1.0,\"#f0f921\"]]}],\"heatmap\":[{\"type\":\"heatmap\",\"colorbar\":{\"outlinewidth\":0,\"ticks\":\"\"},\"colorscale\":[[0.0,\"#0d0887\"],[0.1111111111111111,\"#46039f\"],[0.2222222222222222,\"#7201a8\"],[0.3333333333333333,\"#9c179e\"],[0.4444444444444444,\"#bd3786\"],[0.5555555555555556,\"#d8576b\"],[0.6666666666666666,\"#ed7953\"],[0.7777777777777778,\"#fb9f3a\"],[0.8888888888888888,\"#fdca26\"],[1.0,\"#f0f921\"]]}],\"heatmapgl\":[{\"type\":\"heatmapgl\",\"colorbar\":{\"outlinewidth\":0,\"ticks\":\"\"},\"colorscale\":[[0.0,\"#0d0887\"],[0.1111111111111111,\"#46039f\"],[0.2222222222222222,\"#7201a8\"],[0.3333333333333333,\"#9c179e\"],[0.4444444444444444,\"#bd3786\"],[0.5555555555555556,\"#d8576b\"],[0.6666666666666666,\"#ed7953\"],[0.7777777777777778,\"#fb9f3a\"],[0.8888888888888888,\"#fdca26\"],[1.0,\"#f0f921\"]]}],\"contourcarpet\":[{\"type\":\"contourcarpet\",\"colorbar\":{\"outlinewidth\":0,\"ticks\":\"\"}}],\"contour\":[{\"type\":\"contour\",\"colorbar\":{\"outlinewidth\":0,\"ticks\":\"\"},\"colorscale\":[[0.0,\"#0d0887\"],[0.1111111111111111,\"#46039f\"],[0.2222222222222222,\"#7201a8\"],[0.3333333333333333,\"#9c179e\"],[0.4444444444444444,\"#bd3786\"],[0.5555555555555556,\"#d8576b\"],[0.6666666666666666,\"#ed7953\"],[0.7777777777777778,\"#fb9f3a\"],[0.8888888888888888,\"#fdca26\"],[1.0,\"#f0f921\"]]}],\"surface\":[{\"type\":\"surface\",\"colorbar\":{\"outlinewidth\":0,\"ticks\":\"\"},\"colorscale\":[[0.0,\"#0d0887\"],[0.1111111111111111,\"#46039f\"],[0.2222222222222222,\"#7201a8\"],[0.3333333333333333,\"#9c179e\"],[0.4444444444444444,\"#bd3786\"],[0.5555555555555556,\"#d8576b\"],[0.6666666666666666,\"#ed7953\"],[0.7777777777777778,\"#fb9f3a\"],[0.8888888888888888,\"#fdca26\"],[1.0,\"#f0f921\"]]}],\"mesh3d\":[{\"type\":\"mesh3d\",\"colorbar\":{\"outlinewidth\":0,\"ticks\":\"\"}}],\"scatter\":[{\"fillpattern\":{\"fillmode\":\"overlay\",\"size\":10,\"solidity\":0.2},\"type\":\"scatter\"}],\"parcoords\":[{\"type\":\"parcoords\",\"line\":{\"colorbar\":{\"outlinewidth\":0,\"ticks\":\"\"}}}],\"scatterpolargl\":[{\"type\":\"scatterpolargl\",\"marker\":{\"colorbar\":{\"outlinewidth\":0,\"ticks\":\"\"}}}],\"bar\":[{\"error_x\":{\"color\":\"#2a3f5f\"},\"error_y\":{\"color\":\"#2a3f5f\"},\"marker\":{\"line\":{\"color\":\"#E5ECF6\",\"width\":0.5},\"pattern\":{\"fillmode\":\"overlay\",\"size\":10,\"solidity\":0.2}},\"type\":\"bar\"}],\"scattergeo\":[{\"type\":\"scattergeo\",\"marker\":{\"colorbar\":{\"outlinewidth\":0,\"ticks\":\"\"}}}],\"scatterpolar\":[{\"type\":\"scatterpolar\",\"marker\":{\"colorbar\":{\"outlinewidth\":0,\"ticks\":\"\"}}}],\"histogram\":[{\"marker\":{\"pattern\":{\"fillmode\":\"overlay\",\"size\":10,\"solidity\":0.2}},\"type\":\"histogram\"}],\"scattergl\":[{\"type\":\"scattergl\",\"marker\":{\"colorbar\":{\"outlinewidth\":0,\"ticks\":\"\"}}}],\"scatter3d\":[{\"type\":\"scatter3d\",\"line\":{\"colorbar\":{\"outlinewidth\":0,\"ticks\":\"\"}},\"marker\":{\"colorbar\":{\"outlinewidth\":0,\"ticks\":\"\"}}}],\"scattermapbox\":[{\"type\":\"scattermapbox\",\"marker\":{\"colorbar\":{\"outlinewidth\":0,\"ticks\":\"\"}}}],\"scatterternary\":[{\"type\":\"scatterternary\",\"marker\":{\"colorbar\":{\"outlinewidth\":0,\"ticks\":\"\"}}}],\"scattercarpet\":[{\"type\":\"scattercarpet\",\"marker\":{\"colorbar\":{\"outlinewidth\":0,\"ticks\":\"\"}}}],\"carpet\":[{\"aaxis\":{\"endlinecolor\":\"#2a3f5f\",\"gridcolor\":\"white\",\"linecolor\":\"white\",\"minorgridcolor\":\"white\",\"startlinecolor\":\"#2a3f5f\"},\"baxis\":{\"endlinecolor\":\"#2a3f5f\",\"gridcolor\":\"white\",\"linecolor\":\"white\",\"minorgridcolor\":\"white\",\"startlinecolor\":\"#2a3f5f\"},\"type\":\"carpet\"}],\"table\":[{\"cells\":{\"fill\":{\"color\":\"#EBF0F8\"},\"line\":{\"color\":\"white\"}},\"header\":{\"fill\":{\"color\":\"#C8D4E3\"},\"line\":{\"color\":\"white\"}},\"type\":\"table\"}],\"barpolar\":[{\"marker\":{\"line\":{\"color\":\"#E5ECF6\",\"width\":0.5},\"pattern\":{\"fillmode\":\"overlay\",\"size\":10,\"solidity\":0.2}},\"type\":\"barpolar\"}],\"pie\":[{\"automargin\":true,\"type\":\"pie\"}]},\"layout\":{\"autotypenumbers\":\"strict\",\"colorway\":[\"#636efa\",\"#EF553B\",\"#00cc96\",\"#ab63fa\",\"#FFA15A\",\"#19d3f3\",\"#FF6692\",\"#B6E880\",\"#FF97FF\",\"#FECB52\"],\"font\":{\"color\":\"#2a3f5f\"},\"hovermode\":\"closest\",\"hoverlabel\":{\"align\":\"left\"},\"paper_bgcolor\":\"white\",\"plot_bgcolor\":\"#E5ECF6\",\"polar\":{\"bgcolor\":\"#E5ECF6\",\"angularaxis\":{\"gridcolor\":\"white\",\"linecolor\":\"white\",\"ticks\":\"\"},\"radialaxis\":{\"gridcolor\":\"white\",\"linecolor\":\"white\",\"ticks\":\"\"}},\"ternary\":{\"bgcolor\":\"#E5ECF6\",\"aaxis\":{\"gridcolor\":\"white\",\"linecolor\":\"white\",\"ticks\":\"\"},\"baxis\":{\"gridcolor\":\"white\",\"linecolor\":\"white\",\"ticks\":\"\"},\"caxis\":{\"gridcolor\":\"white\",\"linecolor\":\"white\",\"ticks\":\"\"}},\"coloraxis\":{\"colorbar\":{\"outlinewidth\":0,\"ticks\":\"\"}},\"colorscale\":{\"sequential\":[[0.0,\"#0d0887\"],[0.1111111111111111,\"#46039f\"],[0.2222222222222222,\"#7201a8\"],[0.3333333333333333,\"#9c179e\"],[0.4444444444444444,\"#bd3786\"],[0.5555555555555556,\"#d8576b\"],[0.6666666666666666,\"#ed7953\"],[0.7777777777777778,\"#fb9f3a\"],[0.8888888888888888,\"#fdca26\"],[1.0,\"#f0f921\"]],\"sequentialminus\":[[0.0,\"#0d0887\"],[0.1111111111111111,\"#46039f\"],[0.2222222222222222,\"#7201a8\"],[0.3333333333333333,\"#9c179e\"],[0.4444444444444444,\"#bd3786\"],[0.5555555555555556,\"#d8576b\"],[0.6666666666666666,\"#ed7953\"],[0.7777777777777778,\"#fb9f3a\"],[0.8888888888888888,\"#fdca26\"],[1.0,\"#f0f921\"]],\"diverging\":[[0,\"#8e0152\"],[0.1,\"#c51b7d\"],[0.2,\"#de77ae\"],[0.3,\"#f1b6da\"],[0.4,\"#fde0ef\"],[0.5,\"#f7f7f7\"],[0.6,\"#e6f5d0\"],[0.7,\"#b8e186\"],[0.8,\"#7fbc41\"],[0.9,\"#4d9221\"],[1,\"#276419\"]]},\"xaxis\":{\"gridcolor\":\"white\",\"linecolor\":\"white\",\"ticks\":\"\",\"title\":{\"standoff\":15},\"zerolinecolor\":\"white\",\"automargin\":true,\"zerolinewidth\":2},\"yaxis\":{\"gridcolor\":\"white\",\"linecolor\":\"white\",\"ticks\":\"\",\"title\":{\"standoff\":15},\"zerolinecolor\":\"white\",\"automargin\":true,\"zerolinewidth\":2},\"scene\":{\"xaxis\":{\"backgroundcolor\":\"#E5ECF6\",\"gridcolor\":\"white\",\"linecolor\":\"white\",\"showbackground\":true,\"ticks\":\"\",\"zerolinecolor\":\"white\",\"gridwidth\":2},\"yaxis\":{\"backgroundcolor\":\"#E5ECF6\",\"gridcolor\":\"white\",\"linecolor\":\"white\",\"showbackground\":true,\"ticks\":\"\",\"zerolinecolor\":\"white\",\"gridwidth\":2},\"zaxis\":{\"backgroundcolor\":\"#E5ECF6\",\"gridcolor\":\"white\",\"linecolor\":\"white\",\"showbackground\":true,\"ticks\":\"\",\"zerolinecolor\":\"white\",\"gridwidth\":2}},\"shapedefaults\":{\"line\":{\"color\":\"#2a3f5f\"}},\"annotationdefaults\":{\"arrowcolor\":\"#2a3f5f\",\"arrowhead\":0,\"arrowwidth\":1},\"geo\":{\"bgcolor\":\"white\",\"landcolor\":\"#E5ECF6\",\"subunitcolor\":\"white\",\"showland\":true,\"showlakes\":true,\"lakecolor\":\"white\"},\"title\":{\"x\":0.05},\"mapbox\":{\"style\":\"light\"}}},\"xaxis\":{\"anchor\":\"y\",\"domain\":[0.0,1.0],\"title\":{\"text\":\"YEAR\"}},\"yaxis\":{\"anchor\":\"x\",\"domain\":[0.0,1.0],\"title\":{\"text\":\"TOTAL_REVENUE\"}},\"legend\":{\"tracegroupgap\":0},\"title\":{\"text\":\"GANANCIA EN EDUCACION A TRAVES DEL TIEMPO\"}},                        {\"responsive\": true}                    ).then(function(){\n",
       "                            \n",
       "var gd = document.getElementById('711d35c2-c8e7-4037-a9d5-9f990c31bfd2');\n",
       "var x = new MutationObserver(function (mutations, observer) {{\n",
       "        var display = window.getComputedStyle(gd).display;\n",
       "        if (!display || display === 'none') {{\n",
       "            console.log([gd, 'removed!']);\n",
       "            Plotly.purge(gd);\n",
       "            observer.disconnect();\n",
       "        }}\n",
       "}});\n",
       "\n",
       "// Listen for the removal of the full notebook cells\n",
       "var notebookContainer = gd.closest('#notebook-container');\n",
       "if (notebookContainer) {{\n",
       "    x.observe(notebookContainer, {childList: true});\n",
       "}}\n",
       "\n",
       "// Listen for the clearing of the current output cell\n",
       "var outputEl = gd.closest('.output');\n",
       "if (outputEl) {{\n",
       "    x.observe(outputEl, {childList: true});\n",
       "}}\n",
       "\n",
       "                        })                };                });            </script>        </div>"
      ]
     },
     "metadata": {},
     "output_type": "display_data"
    }
   ],
   "source": [
    "educacion = pd.read_csv('states_all.csv', usecols=['STATE','YEAR', 'TOTAL_REVENUE'])\n",
    "\n",
    "px.line(\n",
    "    (educacion.query(\"1992 < YEAR < 2017\")),\n",
    "    x='YEAR',\n",
    "    y='TOTAL_REVENUE',\n",
    "    title='GANANCIA EN EDUCACION A TRAVES DEL TIEMPO'\n",
    ")"
   ]
  }
 ],
 "metadata": {
  "kernelspec": {
   "display_name": "Python 3 (ipykernel)",
   "language": "python",
   "name": "python3"
  },
  "language_info": {
   "codemirror_mode": {
    "name": "ipython",
    "version": 3
   },
   "file_extension": ".py",
   "mimetype": "text/x-python",
   "name": "python",
   "nbconvert_exporter": "python",
   "pygments_lexer": "ipython3",
   "version": "3.11.7"
  }
 },
 "nbformat": 4,
 "nbformat_minor": 5
}
