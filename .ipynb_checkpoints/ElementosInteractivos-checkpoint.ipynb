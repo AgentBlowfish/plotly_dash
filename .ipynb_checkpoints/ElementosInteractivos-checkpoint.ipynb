{
 "cells": [
  {
   "cell_type": "code",
   "execution_count": 2,
   "id": "9532e62f",
   "metadata": {},
   "outputs": [
    {
     "data": {
      "text/html": [
       "\n",
       "        <iframe\n",
       "            width=\"100%\"\n",
       "            height=\"650\"\n",
       "            src=\"http://127.0.0.1:8051/\"\n",
       "            frameborder=\"0\"\n",
       "            allowfullscreen\n",
       "            \n",
       "        ></iframe>\n",
       "        "
      ],
      "text/plain": [
       "<IPython.lib.display.IFrame at 0x1b4cbb93210>"
      ]
     },
     "metadata": {},
     "output_type": "display_data"
    }
   ],
   "source": [
    "#Múlti select Dropdowns\n",
    "#-------------------------------------------------\n",
    "from dash import Dash, dcc, html\n",
    "from dash.dependencies import Output, Input\n",
    "from dash.exceptions import PreventUpdate\n",
    "import pandas as pd\n",
    "import plotly.express as px\n",
    "\n",
    "education = pd.read_csv(\"Data/states_all.csv\", usecols=[\"STATE\", \"YEAR\", \"TOTAL_EXPENDITURE\"])\n",
    "\n",
    "app = Dash(__name__)\n",
    "\n",
    "app.layout = html.Div([\n",
    "   dcc.Dropdown(\n",
    "        id=\"filter\",\n",
    "        options=education[\"STATE\"].unique(),\n",
    "        value=[\"CALIFORNIA\", \"OREGON\"],\n",
    "        multi=True\n",
    "    ),\n",
    "    dcc.Graph(id=\"graph\"),\n",
    "])\n",
    "\n",
    "@app.callback(\n",
    "    Output('graph', 'figure'),Input(\"filter\", \"value\"))\n",
    "def plot_line(state):\n",
    "    fig = px.line(\n",
    "        (education\n",
    "         .query(\"STATE in @state and 1992 < YEAR < 2016\")\n",
    "         .reset_index()\n",
    "        ), \n",
    "        x=\"YEAR\", \n",
    "        y=\"TOTAL_EXPENDITURE\",\n",
    "        color=\"STATE\",\n",
    "        title = f\"Gasto a través del tiempo, Estados Seleccionados\",\n",
    "    ) \n",
    "    return fig\n",
    "\n",
    "\n",
    "if __name__==\"__main__\":\n",
    "    app.run_server(port=\"8051\")"
   ]
  },
  {
   "cell_type": "code",
   "execution_count": 4,
   "id": "8671d07f",
   "metadata": {
    "scrolled": true
   },
   "outputs": [
    {
     "data": {
      "text/html": [
       "\n",
       "        <iframe\n",
       "            width=\"100%\"\n",
       "            height=\"650\"\n",
       "            src=\"http://127.0.0.1:8051/\"\n",
       "            frameborder=\"0\"\n",
       "            allowfullscreen\n",
       "            \n",
       "        ></iframe>\n",
       "        "
      ],
      "text/plain": [
       "<IPython.lib.display.IFrame at 0x1b4cd585590>"
      ]
     },
     "metadata": {},
     "output_type": "display_data"
    }
   ],
   "source": [
    "#Checklists_1\n",
    "#-------------------------------------------------\n",
    "\n",
    "education = pd.read_csv(\"Data/states_all.csv\", usecols=[\"STATE\", \"YEAR\", \"TOTAL_EXPENDITURE\", \"AVG_MATH_4_SCORE\", \"AVG_MATH_8_SCORE\", \"AVG_READING_4_SCORE\",\"AVG_READING_8_SCORE\"])\n",
    "\n",
    "app = Dash(__name__)\n",
    "\n",
    "app.layout = html.Div([\n",
    "    dcc.Checklist(\n",
    "        id=\"scores\",\n",
    "        options=[\n",
    "            \"AVG_MATH_4_SCORE\",\n",
    "            \"AVG_MATH_8_SCORE\",\n",
    "            \"AVG_READING_4_SCORE\",\n",
    "            \"AVG_READING_8_SCORE\"\n",
    "        ],\n",
    "        value=[\"AVG_MATH_4_SCORE\"]\n",
    "    ),\n",
    "    dcc.Graph(id=\"graph\")    \n",
    "])\n",
    "\n",
    "@app.callback(\n",
    "    Output(\"graph\", \"figure\"),\n",
    "    Input(\"scores\", \"value\")\n",
    ")\n",
    "\n",
    "def plot_hist(scores):\n",
    "    fig = px.histogram(\n",
    "        education,\n",
    "        x=scores,\n",
    "        barmode=\"overlay\",\n",
    "        title=\"Distribución de Resultados\"\n",
    "    ).update_traces(opacity=.6)\n",
    "    \n",
    "    return fig\n",
    "\n",
    "app.run_server(port=\"8051\")"
   ]
  },
  {
   "cell_type": "code",
   "execution_count": 7,
   "id": "70f8ab34",
   "metadata": {},
   "outputs": [
    {
     "data": {
      "text/html": [
       "\n",
       "        <iframe\n",
       "            width=\"100%\"\n",
       "            height=\"650\"\n",
       "            src=\"http://127.0.0.1:8051/\"\n",
       "            frameborder=\"0\"\n",
       "            allowfullscreen\n",
       "            \n",
       "        ></iframe>\n",
       "        "
      ],
      "text/plain": [
       "<IPython.lib.display.IFrame at 0x1b4ccb93850>"
      ]
     },
     "metadata": {},
     "output_type": "display_data"
    }
   ],
   "source": [
    "#Checklists_2\n",
    "#-------------------------------------------------\n",
    "\n",
    "app = Dash(__name__)\n",
    "\n",
    "app.layout = html.Div([\n",
    "    dcc.Checklist(\n",
    "        id=\"filter\",\n",
    "#        options= [{\"label\": state.title(), \"value\": state} for state in education[\"STATE\"].unique()], #muchas opciones!\n",
    "        options = [\"CALIFORNIA\", \"TEXAS\", \"FLORIDA\", \"OREGON\"],\n",
    "        value=[\"CALIFORNIA\", \"TEXAS\"]\n",
    "    ),\n",
    "    dcc.Graph(id=\"graph\")    \n",
    "])\n",
    "\n",
    "\n",
    "\n",
    "@app.callback(\n",
    "    Output(\"graph\", \"figure\"),\n",
    "    Input(\"filter\", \"value\")\n",
    ")\n",
    "\n",
    "def exp_by_state(state):\n",
    "    fig = px.line(\n",
    "        (education\n",
    "         .query(\"STATE in @state and 1992 < YEAR < 2016 \")\n",
    "         .groupby([\"YEAR\", \"STATE\"])\n",
    "         .sum()\n",
    "         .reset_index()\n",
    "        ),\n",
    "        x=\"YEAR\",\n",
    "        y=\"TOTAL_EXPENDITURE\",\n",
    "        color=\"STATE\",\n",
    "        title=\"Gasto a través del tiempo, Estados Seleccionados\"\n",
    "    )\n",
    "\n",
    "    return fig\n",
    "\n",
    "if __name__ == \"__main__\":\n",
    "    app.run_server(port=\"8051\")"
   ]
  },
  {
   "cell_type": "code",
   "execution_count": 9,
   "id": "237b1717",
   "metadata": {
    "scrolled": true
   },
   "outputs": [
    {
     "data": {
      "text/html": [
       "\n",
       "        <iframe\n",
       "            width=\"100%\"\n",
       "            height=\"650\"\n",
       "            src=\"http://127.0.0.1:8051/\"\n",
       "            frameborder=\"0\"\n",
       "            allowfullscreen\n",
       "            \n",
       "        ></iframe>\n",
       "        "
      ],
      "text/plain": [
       "<IPython.lib.display.IFrame at 0x1b4cd5fbc10>"
      ]
     },
     "metadata": {},
     "output_type": "display_data"
    }
   ],
   "source": [
    "#Radio Button_1\n",
    "#-------------------------------------------------\n",
    "\n",
    "app = Dash(__name__)\n",
    "\n",
    "app.layout = html.Div([\n",
    "    dcc.RadioItems(\n",
    "        id=\"OLS Toggle\",\n",
    "        options=[\"Trendline On\", \"Trendline Off\"],\n",
    "        value=\"Trendline Off\"\n",
    "),\n",
    "    dcc.Graph(id=\"graph\"),\n",
    "])\n",
    "\n",
    "@app.callback(\n",
    "    Output('graph', 'figure'),\n",
    "    Input(\"OLS Toggle\", \"value\"),\n",
    ")\n",
    "\n",
    "def plot_scatter(ols):\n",
    "    fig = px.scatter(\n",
    "        education, \n",
    "        x=\"TOTAL_EXPENDITURE\", \n",
    "        y=\"AVG_MATH_8_SCORE\",\n",
    "        trendline=None if ols == \"Trendline Off\" else \"ols\",\n",
    "        title = \"Relación entre Gasto y Resultados de Evaluación\",\n",
    "        )\n",
    "    return fig\n",
    "\n",
    "if __name__ == \"__main__\":\n",
    "    app.run_server(port=\"8051\")"
   ]
  },
  {
   "cell_type": "code",
   "execution_count": 11,
   "id": "e25e9f86",
   "metadata": {},
   "outputs": [
    {
     "data": {
      "text/html": [
       "\n",
       "        <iframe\n",
       "            width=\"100%\"\n",
       "            height=\"650\"\n",
       "            src=\"http://127.0.0.1:8051/\"\n",
       "            frameborder=\"0\"\n",
       "            allowfullscreen\n",
       "            \n",
       "        ></iframe>\n",
       "        "
      ],
      "text/plain": [
       "<IPython.lib.display.IFrame at 0x1b4d15d6050>"
      ]
     },
     "metadata": {},
     "output_type": "display_data"
    }
   ],
   "source": [
    "#Radio Button_2\n",
    "#-------------------------------------------------\n",
    "\n",
    "app = Dash(__name__)\n",
    "\n",
    "app.layout = html.Div([\n",
    "    dcc.RadioItems(\n",
    "        id=\"aggfunc\",\n",
    "        options=[\"mean\", \"sum\", \"median\"],\n",
    "        value=\"mean\"\n",
    "    ),\n",
    "    dcc.Graph(id=\"graph\")\n",
    "])\n",
    "\n",
    "@app.callback(\n",
    "    Output(\"graph\", \"figure\"),\n",
    "    Input(\"aggfunc\", \"value\")\n",
    ")\n",
    "def plot_rev_metric(metric):\n",
    "    fig = px.bar(\n",
    "        (education\n",
    "        .query(\"STATE in ['CALIFORNIA', 'OREGON', 'WASHINGTON', 'IDAHO'] and 1992 < YEAR < 2016\")\n",
    "        .groupby([\"STATE\"])\n",
    "        .agg({\"TOTAL_EXPENDITURE\": metric})\n",
    "        .reset_index()\n",
    "        ),\n",
    "        x=\"STATE\",\n",
    "        y=\"TOTAL_EXPENDITURE\",\n",
    "        text_auto=True,\n",
    "        title = f\"Gasto por Estado: {metric.title()}\"\n",
    "    )\n",
    "    return fig\n",
    "\n",
    "if __name__ == \"__main__\":\n",
    "    app.run_server(port=\"8051\")"
   ]
  },
  {
   "cell_type": "code",
   "execution_count": 12,
   "id": "76338f4b",
   "metadata": {
    "scrolled": false
   },
   "outputs": [
    {
     "data": {
      "text/html": [
       "\n",
       "        <iframe\n",
       "            width=\"100%\"\n",
       "            height=\"650\"\n",
       "            src=\"http://127.0.0.1:8051/\"\n",
       "            frameborder=\"0\"\n",
       "            allowfullscreen\n",
       "            \n",
       "        ></iframe>\n",
       "        "
      ],
      "text/plain": [
       "<IPython.lib.display.IFrame at 0x1b4d226c9d0>"
      ]
     },
     "metadata": {},
     "output_type": "display_data"
    }
   ],
   "source": [
    "#Slider simple\n",
    "#-------------------------------------------------\n",
    "import numpy as np\n",
    "\n",
    "education = pd.read_csv(\"Data/states_all.csv\").assign(\n",
    "    expenditure_per_student = lambda x: x[\"TOTAL_EXPENDITURE\"] / x[\"GRADES_ALL_G\"],\n",
    "    above_avg_math8 = lambda x: np.where(x[\"AVG_MATH_8_SCORE\"] > 278.6,'Above Avg', 'Below Avg')\n",
    ")\n",
    "\n",
    "app = Dash(__name__)\n",
    "\n",
    "app.layout = html.Div([\n",
    "    dcc.Slider(id=\"spend\", min=0, max=30, step=2, value=18),\n",
    "    dcc.Graph(id=\"graph\"),\n",
    "])\n",
    "\n",
    "@app.callback(Output('graph', 'figure'), Input(\"spend\", \"value\"))\n",
    "\n",
    "def bar_chart(spending):\n",
    "    fig = px.bar(\n",
    "        (education\n",
    "         .query(\"expenditure_per_student > @spending\")\n",
    "         .groupby(\"YEAR\", as_index=False)\n",
    "         .count()),\n",
    "        x=\"YEAR\",\n",
    "        y=\"expenditure_per_student\",\n",
    "        title=f\"Estados que gastaron más de ${spending}K por estudiante\"      \n",
    "    )\n",
    "    fig.update_yaxes(title=\"Cuenta\", range=[0, 50])\n",
    "    fig.update_xaxes(range=[1991, 2017])\n",
    "    return fig\n",
    "\n",
    "if __name__ == \"__main__\":\n",
    "    app.run_server(port=\"8051\")"
   ]
  },
  {
   "cell_type": "code",
   "execution_count": 15,
   "id": "23287282",
   "metadata": {},
   "outputs": [
    {
     "data": {
      "text/html": [
       "\n",
       "        <iframe\n",
       "            width=\"100%\"\n",
       "            height=\"650\"\n",
       "            src=\"http://127.0.0.1:8051/\"\n",
       "            frameborder=\"0\"\n",
       "            allowfullscreen\n",
       "            \n",
       "        ></iframe>\n",
       "        "
      ],
      "text/plain": [
       "<IPython.lib.display.IFrame at 0x1b4d206f410>"
      ]
     },
     "metadata": {},
     "output_type": "display_data"
    }
   ],
   "source": [
    "#Slider Rango\n",
    "#-------------------------------------------------\n",
    "\n",
    "app = Dash(__name__)\n",
    "\n",
    "app.layout = html.Div([\n",
    "    dcc.RangeSlider(id=\"spend\", min=0, max=30, step=.5, value=[10, 14]),\n",
    "    dcc.Graph(id=\"graph\"),\n",
    "])\n",
    "\n",
    "@app.callback(Output('graph', 'figure'), Input(\"spend\", \"value\"))\n",
    "\n",
    "def bar_chart(spending):\n",
    "    fig = px.bar(\n",
    "        (education\n",
    "         .query(\"@spending[0] <= expenditure_per_student <= @spending[1]\")\n",
    "         .groupby(\"YEAR\", as_index=False)\n",
    "         .count()),\n",
    "        x=\"YEAR\",\n",
    "        y=\"expenditure_per_student\",\n",
    "        title=f\"Estados que gastaron entre ${spending[0]}-{spending[1]}K por estudiante\"      \n",
    "    )\n",
    "    fig.update_yaxes(title=\"Cuenta\", range=[0, 50])\n",
    "    fig.update_xaxes(range=[1991, 2017])\n",
    "    return fig\n",
    "\n",
    "if __name__ == \"__main__\":\n",
    "    app.run_server(port=\"8051\")"
   ]
  },
  {
   "cell_type": "code",
   "execution_count": 16,
   "id": "1c82d56c",
   "metadata": {},
   "outputs": [
    {
     "data": {
      "text/html": [
       "<div>\n",
       "<style scoped>\n",
       "    .dataframe tbody tr th:only-of-type {\n",
       "        vertical-align: middle;\n",
       "    }\n",
       "\n",
       "    .dataframe tbody tr th {\n",
       "        vertical-align: top;\n",
       "    }\n",
       "\n",
       "    .dataframe thead th {\n",
       "        text-align: right;\n",
       "    }\n",
       "</style>\n",
       "<table border=\"1\" class=\"dataframe\">\n",
       "  <thead>\n",
       "    <tr style=\"text-align: right;\">\n",
       "      <th></th>\n",
       "      <th>DATE</th>\n",
       "      <th>BOROUGH</th>\n",
       "      <th>COLLISIONS</th>\n",
       "    </tr>\n",
       "  </thead>\n",
       "  <tbody>\n",
       "    <tr>\n",
       "      <th>0</th>\n",
       "      <td>2021-01-01</td>\n",
       "      <td>BRONX</td>\n",
       "      <td>28</td>\n",
       "    </tr>\n",
       "    <tr>\n",
       "      <th>1</th>\n",
       "      <td>2021-01-01</td>\n",
       "      <td>BROOKLYN</td>\n",
       "      <td>72</td>\n",
       "    </tr>\n",
       "    <tr>\n",
       "      <th>2</th>\n",
       "      <td>2021-01-01</td>\n",
       "      <td>MANHATTAN</td>\n",
       "      <td>23</td>\n",
       "    </tr>\n",
       "    <tr>\n",
       "      <th>3</th>\n",
       "      <td>2021-01-01</td>\n",
       "      <td>QUEENS</td>\n",
       "      <td>44</td>\n",
       "    </tr>\n",
       "    <tr>\n",
       "      <th>4</th>\n",
       "      <td>2021-01-01</td>\n",
       "      <td>STATEN ISLAND</td>\n",
       "      <td>8</td>\n",
       "    </tr>\n",
       "  </tbody>\n",
       "</table>\n",
       "</div>"
      ],
      "text/plain": [
       "        DATE        BOROUGH  COLLISIONS\n",
       "0 2021-01-01          BRONX          28\n",
       "1 2021-01-01       BROOKLYN          72\n",
       "2 2021-01-01      MANHATTAN          23\n",
       "3 2021-01-01         QUEENS          44\n",
       "4 2021-01-01  STATEN ISLAND           8"
      ]
     },
     "execution_count": 16,
     "metadata": {},
     "output_type": "execute_result"
    }
   ],
   "source": [
    "#Dataframe a trabajar para DatePickers\n",
    "#-------------------------------------------------\n",
    "from datetime import datetime\n",
    "from datetime import date\n",
    "\n",
    "collisions = (\n",
    "    pd.read_csv(\"Data/NYC_Collisions.csv\")\n",
    "    .astype({\"ACCIDENT_DATE\": \"datetime64[ns]\"})\n",
    "    .loc[:,[\"ACCIDENT_DATE\", \"BOROUGH\", \"COLLISION_ID\"]]\n",
    "    .groupby([\"ACCIDENT_DATE\", \"BOROUGH\"], as_index=False)\n",
    "    .count()\n",
    "    .rename(columns={\n",
    "        \"COLLISION_ID\":\"COLLISIONS\",\n",
    "        \"ACCIDENT_DATE\":\"DATE\"})  \n",
    ")\n",
    "\n",
    "collisions.head()"
   ]
  },
  {
   "cell_type": "code",
   "execution_count": 18,
   "id": "9744d472",
   "metadata": {},
   "outputs": [
    {
     "data": {
      "text/html": [
       "\n",
       "        <iframe\n",
       "            width=\"100%\"\n",
       "            height=\"650\"\n",
       "            src=\"http://127.0.0.1:8051/\"\n",
       "            frameborder=\"0\"\n",
       "            allowfullscreen\n",
       "            \n",
       "        ></iframe>\n",
       "        "
      ],
      "text/plain": [
       "<IPython.lib.display.IFrame at 0x1b4d223b490>"
      ]
     },
     "metadata": {},
     "output_type": "display_data"
    }
   ],
   "source": [
    "#DatePicker Single\n",
    "#-------------------------------------------------\n",
    "\n",
    "app = Dash(__name__)\n",
    "\n",
    "\n",
    "app.layout = html.Div([\n",
    "    dcc.DatePickerSingle(\n",
    "        id=\"date picker\",\n",
    "        min_date_allowed=collisions[\"DATE\"].min(),\n",
    "        max_date_allowed=collisions[\"DATE\"].max(),\n",
    "        initial_visible_month=collisions[\"DATE\"].max(),\n",
    "        date=collisions[\"DATE\"].min(),\n",
    "    ),\n",
    "    dcc.Graph(id=\"graph\")\n",
    "])\n",
    "\n",
    "@app.callback(Output(\"graph\", \"figure\"),Input(\"date picker\", \"date\"))\n",
    "def plot_collisions_bar(date):\n",
    "    fig = px.bar(\n",
    "        (collisions\n",
    "         .loc[collisions[\"DATE\"].eq(date)]\n",
    "         .groupby(\"BOROUGH\", as_index=False)\n",
    "         .sum(numeric_only=True)\n",
    "        ),\n",
    "        x=\"COLLISIONS\",\n",
    "        y=\"BOROUGH\",\n",
    "        title=f\"Accidentes de Tráfico en NYC el día {date[:10]}\"\n",
    "    )\n",
    "    return fig\n",
    "\n",
    "if __name__ == \"__main__\":\n",
    "    app.run_server(width=\"60%\", port=\"8051\")"
   ]
  },
  {
   "cell_type": "code",
   "execution_count": 19,
   "id": "d09246f8",
   "metadata": {},
   "outputs": [
    {
     "data": {
      "text/html": [
       "\n",
       "        <iframe\n",
       "            width=\"100%\"\n",
       "            height=\"650\"\n",
       "            src=\"http://127.0.0.1:8051/\"\n",
       "            frameborder=\"0\"\n",
       "            allowfullscreen\n",
       "            \n",
       "        ></iframe>\n",
       "        "
      ],
      "text/plain": [
       "<IPython.lib.display.IFrame at 0x1b4cd7fbe50>"
      ]
     },
     "metadata": {},
     "output_type": "display_data"
    }
   ],
   "source": [
    "#DatePicker Range\n",
    "#-------------------------------------------------\n",
    "\n",
    "app = Dash(__name__)\n",
    "\n",
    "\n",
    "app.layout = html.Div([\n",
    "    dcc.DatePickerRange(\n",
    "        id=\"date picker\",\n",
    "        min_date_allowed=collisions[\"DATE\"].min(),\n",
    "        max_date_allowed=collisions[\"DATE\"].max(),\n",
    "        initial_visible_month=collisions[\"DATE\"].max(),\n",
    "        start_date=collisions[\"DATE\"].min(),\n",
    "        end_date=date(2022,1,1)\n",
    "    ),\n",
    "    dcc.Graph(id=\"graph\")\n",
    "])\n",
    "\n",
    "@app.callback(Output(\"graph\", \"figure\"), \n",
    "              [Input(\"date picker\", \"start_date\"),\n",
    "               Input(\"date picker\", \"end_date\"),])\n",
    "def plot_collisions_bar(start_date, end_date):\n",
    "    fig = px.bar(\n",
    "        (collisions\n",
    "         .loc[collisions[\"DATE\"].between(start_date, end_date)]\n",
    "         .groupby(\"BOROUGH\", as_index=False)\n",
    "         .sum(numeric_only=True)\n",
    "        ),\n",
    "        x=\"COLLISIONS\",\n",
    "        y=\"BOROUGH\",\n",
    "        title=f\"Accidentes de Tráfico en NYC entre {start_date[:10]} y {end_date[:10]}\"\n",
    "    )\n",
    "    return fig\n",
    "\n",
    "if __name__ == \"__main__\":\n",
    "    app.run_server(width=\"60%\",port=\"8051\")"
   ]
  },
  {
   "cell_type": "code",
   "execution_count": null,
   "id": "bb5ac091",
   "metadata": {
    "scrolled": true
   },
   "outputs": [],
   "source": [
    "#Múltiples input callbacks\n",
    "#-------------------------------------------------\n",
    "\n",
    "app = Dash(__name__)\n",
    "\n",
    "app.layout = html.Div([\n",
    "    dcc.Dropdown(\n",
    "        id=\"X Column Picker\",\n",
    "        options=list(education.select_dtypes(include='number').columns),\n",
    "        value=\"expenditure_per_student\"\n",
    "),\n",
    "    dcc.Dropdown(\n",
    "        id=\"Y Column Picker\",\n",
    "        options=list(education.select_dtypes(include='number').columns),\n",
    "        value=\"TOTAL_EXPENDITURE\"\n",
    "),\n",
    "    dcc.Graph(id=\"graph\"),\n",
    "])\n",
    "\n",
    "@app.callback(\n",
    "    Output('graph', 'figure'),\n",
    "    Input(\"X Column Picker\", \"value\"),\n",
    "    Input(\"Y Column Picker\", \"value\")\n",
    ")\n",
    "\n",
    "def plot_rev_scatter(x, y):\n",
    "    if not x:\n",
    "        raise PreventUpdate\n",
    "    if not y:\n",
    "        raise PreventUpdate\n",
    "    fig = px.scatter(\n",
    "        education, \n",
    "        x=x, \n",
    "        y=y,\n",
    "        trendline=\"ols\"\n",
    "        )\n",
    "    return fig\n",
    "\n",
    "\n",
    "if __name__ == \"__main__\":\n",
    "    app.run_server(height=600,width=\"80%\")"
   ]
  },
  {
   "cell_type": "code",
   "execution_count": null,
   "id": "bee0ab14",
   "metadata": {},
   "outputs": [],
   "source": [
    "#Múltiples output callbacks\n",
    "#-------------------------------------------------\n",
    "\n",
    "app = Dash(__name__)\n",
    "\n",
    "app.layout = html.Div([\n",
    "    html.H2(id=\"header\"),\n",
    "    dcc.Dropdown(\n",
    "        id=\"X Column Picker\",\n",
    "        options=list(education.select_dtypes(include='number').columns),\n",
    "        value=\"expenditure_per_student\"\n",
    "),\n",
    "    dcc.Dropdown(\n",
    "        id=\"Y Column Picker\",\n",
    "        options=list(education.select_dtypes(include='number').columns),\n",
    "        value=\"TOTAL_EXPENDITURE\"\n",
    "),\n",
    "    dcc.Graph(id=\"graph\"),\n",
    "])\n",
    "\n",
    "@app.callback(\n",
    "    Output('header', 'children'),\n",
    "    Output('graph', 'figure'),\n",
    "    Input(\"X Column Picker\", \"value\"),\n",
    "    Input(\"Y Column Picker\", \"value\")\n",
    ")\n",
    "\n",
    "def plot_rev_scatter(x, y):\n",
    "    if not x:\n",
    "        raise PreventUpdate\n",
    "    if not y:\n",
    "        raise PreventUpdate\n",
    "    fig = px.scatter(\n",
    "        education, \n",
    "        x=x, \n",
    "        y=y,\n",
    "        trendline=\"ols\",\n",
    "    )\n",
    "    \n",
    "    header = f\"{x.title().replace('_', ' ')} Vs. {y.title().replace('_', ' ')}\"\n",
    "    return header, fig\n",
    "\n",
    "if __name__ == \"__main__\":\n",
    "    app.run_server()"
   ]
  }
 ],
 "metadata": {
  "kernelspec": {
   "display_name": "Python 3 (ipykernel)",
   "language": "python",
   "name": "python3"
  },
  "language_info": {
   "codemirror_mode": {
    "name": "ipython",
    "version": 3
   },
   "file_extension": ".py",
   "mimetype": "text/x-python",
   "name": "python",
   "nbconvert_exporter": "python",
   "pygments_lexer": "ipython3",
   "version": "3.11.5"
  }
 },
 "nbformat": 4,
 "nbformat_minor": 5
}
