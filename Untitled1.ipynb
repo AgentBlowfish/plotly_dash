{
 "cells": [
  {
   "cell_type": "code",
   "execution_count": 5,
   "id": "682e5739-ac32-4b7b-a8ef-cb7061f6629d",
   "metadata": {},
   "outputs": [
    {
     "name": "stdout",
     "output_type": "stream",
     "text": [
      "Collecting vega-datasets\n",
      "  Downloading vega_datasets-0.9.0-py3-none-any.whl.metadata (5.5 kB)\n",
      "Requirement already satisfied: pandas in c:\\users\\gpcor\\anaconda3\\lib\\site-packages (from vega-datasets) (2.1.4)\n",
      "Requirement already satisfied: numpy<2,>=1.23.2 in c:\\users\\gpcor\\anaconda3\\lib\\site-packages (from pandas->vega-datasets) (1.26.4)\n",
      "Requirement already satisfied: python-dateutil>=2.8.2 in c:\\users\\gpcor\\anaconda3\\lib\\site-packages (from pandas->vega-datasets) (2.8.2)\n",
      "Requirement already satisfied: pytz>=2020.1 in c:\\users\\gpcor\\anaconda3\\lib\\site-packages (from pandas->vega-datasets) (2023.3.post1)\n",
      "Requirement already satisfied: tzdata>=2022.1 in c:\\users\\gpcor\\anaconda3\\lib\\site-packages (from pandas->vega-datasets) (2023.3)\n",
      "Requirement already satisfied: six>=1.5 in c:\\users\\gpcor\\anaconda3\\lib\\site-packages (from python-dateutil>=2.8.2->pandas->vega-datasets) (1.16.0)\n",
      "Downloading vega_datasets-0.9.0-py3-none-any.whl (210 kB)\n",
      "   ---------------------------------------- 0.0/210.8 kB ? eta -:--:--\n",
      "   ---------------------------------------- 0.0/210.8 kB ? eta -:--:--\n",
      "   --- ----------------------------------- 20.5/210.8 kB 330.3 kB/s eta 0:00:01\n",
      "   --------- ----------------------------- 51.2/210.8 kB 435.7 kB/s eta 0:00:01\n",
      "   -------------------------------------- - 204.8/210.8 kB 1.4 MB/s eta 0:00:01\n",
      "   ---------------------------------------- 210.8/210.8 kB 1.3 MB/s eta 0:00:00\n",
      "Installing collected packages: vega-datasets\n",
      "Successfully installed vega-datasets-0.9.0\n"
     ]
    }
   ],
   "source": [
    "!pip install vega-datasets"
   ]
  },
  {
   "cell_type": "code",
   "execution_count": 7,
   "id": "92d5f6ef-faf7-4226-b965-66fb50eef554",
   "metadata": {},
   "outputs": [
    {
     "data": {
      "text/html": [
       "\n",
       "        <iframe\n",
       "            width=\"100%\"\n",
       "            height=\"650\"\n",
       "            src=\"http://127.0.0.1:8001/\"\n",
       "            frameborder=\"0\"\n",
       "            allowfullscreen\n",
       "            \n",
       "        ></iframe>\n",
       "        "
      ],
      "text/plain": [
       "<IPython.lib.display.IFrame at 0x1a8fc6aa890>"
      ]
     },
     "metadata": {},
     "output_type": "display_data"
    },
    {
     "name": "stdout",
     "output_type": "stream",
     "text": [
      "User Seleceted this dropdown value: Horsepower\n"
     ]
    },
    {
     "name": "stderr",
     "output_type": "stream",
     "text": [
      "C:\\Users\\gpcor\\anaconda3\\Lib\\site-packages\\altair\\utils\\core.py:395: FutureWarning:\n",
      "\n",
      "the convert_dtype parameter is deprecated and will be removed in a future version.  Do ``ser.astype(object).apply()`` instead if you want ``convert_dtype=False``.\n",
      "\n",
      "C:\\Users\\gpcor\\anaconda3\\Lib\\site-packages\\altair\\utils\\core.py:395: FutureWarning:\n",
      "\n",
      "the convert_dtype parameter is deprecated and will be removed in a future version.  Do ``ser.astype(object).apply()`` instead if you want ``convert_dtype=False``.\n",
      "\n"
     ]
    },
    {
     "name": "stdout",
     "output_type": "stream",
     "text": [
      "User Seleceted this dropdown value: Horsepower\n"
     ]
    },
    {
     "name": "stderr",
     "output_type": "stream",
     "text": [
      "C:\\Users\\gpcor\\anaconda3\\Lib\\site-packages\\altair\\utils\\core.py:395: FutureWarning:\n",
      "\n",
      "the convert_dtype parameter is deprecated and will be removed in a future version.  Do ``ser.astype(object).apply()`` instead if you want ``convert_dtype=False``.\n",
      "\n",
      "C:\\Users\\gpcor\\anaconda3\\Lib\\site-packages\\altair\\utils\\core.py:395: FutureWarning:\n",
      "\n",
      "the convert_dtype parameter is deprecated and will be removed in a future version.  Do ``ser.astype(object).apply()`` instead if you want ``convert_dtype=False``.\n",
      "\n"
     ]
    },
    {
     "name": "stdout",
     "output_type": "stream",
     "text": [
      "User Seleceted this dropdown value: Miles_per_Gallon\n"
     ]
    },
    {
     "name": "stderr",
     "output_type": "stream",
     "text": [
      "C:\\Users\\gpcor\\anaconda3\\Lib\\site-packages\\altair\\utils\\core.py:395: FutureWarning:\n",
      "\n",
      "the convert_dtype parameter is deprecated and will be removed in a future version.  Do ``ser.astype(object).apply()`` instead if you want ``convert_dtype=False``.\n",
      "\n",
      "C:\\Users\\gpcor\\anaconda3\\Lib\\site-packages\\altair\\utils\\core.py:395: FutureWarning:\n",
      "\n",
      "the convert_dtype parameter is deprecated and will be removed in a future version.  Do ``ser.astype(object).apply()`` instead if you want ``convert_dtype=False``.\n",
      "\n"
     ]
    }
   ],
   "source": [
    "from dash import Dash, html, dcc, Input, Output  # pip install dash\n",
    "import dash_bootstrap_components as dbc\n",
    "from vega_datasets import data              # pip install vega-datasets\n",
    "\n",
    "import altair as alt                        # pip install altair\n",
    "\n",
    "import matplotlib.pyplot as plt             # pip install matplotlib\n",
    "import mpld3                                # pip install mpld3\n",
    "\n",
    "from bokeh.plotting import figure           # pip install Bokeh\n",
    "from bokeh.resources import CDN\n",
    "from bokeh.embed import file_html\n",
    "from bokeh.models import ColumnDataSource\n",
    "\n",
    "\n",
    "# bring data into app\n",
    "cars = data.cars()\n",
    "# print(cars.columns)\n",
    "\n",
    "# Set up Dash app\n",
    "app = Dash(__name__, external_stylesheets=[dbc.themes.BOOTSTRAP])\n",
    "\n",
    "# Set up the page layout\n",
    "app.layout = dbc.Container([\n",
    "    html.H1(\"Creating Interactive Altair, Matplotlib, Bokeh Visualizations with Dash\"),\n",
    "\n",
    "    html.Iframe(\n",
    "        id='scatterplots',\n",
    "        srcDoc=None, # here is where we will put the graph we make\n",
    "        style={'border-width': '5', 'width': '100%', 'height': '500px'}),\n",
    "\n",
    "    html.H5(\"Select Y column for graph\", className='mt-2'),\n",
    "    dcc.Dropdown(\n",
    "        id='mydropdown',\n",
    "        value='Horsepower',\n",
    "        options=[{'label': col, 'value': col} for col in cars.columns])\n",
    "])\n",
    "\n",
    "# Create interactivity between dropdown and graph\n",
    "@app.callback(\n",
    "    Output(component_id='scatterplots', component_property='srcDoc'),\n",
    "    Input(component_id='mydropdown', component_property='value'))\n",
    "def plot_data(selected_ycol):\n",
    "    print(f\"User Selected this dropdown value: {selected_ycol}\")\n",
    "\n",
    "    # Altair graphing library----------------------------------------------\n",
    "    chart = alt.Chart(cars).mark_circle().encode(\n",
    "        x='Displacement',\n",
    "        y=selected_ycol,\n",
    "        tooltip=selected_ycol).interactive()\n",
    "    html_altair = chart.to_html()\n",
    "\n",
    "    # Matplotlib graphing library------------------------------------------\n",
    "    # colvalue = cars[selected_ycol]\n",
    "    # fig, ax = plt.subplots()\n",
    "    # ax.scatter(x=cars.Displacement, y=colvalue)\n",
    "    # ax.set_xlabel(\"Displacement\")\n",
    "    # ax.set_ylabel(selected_ycol)\n",
    "    # ax.grid(color='lightgray', alpha=0.7)\n",
    "    # html_matplotlib = mpld3.fig_to_html(fig)\n",
    "\n",
    "    # Bokeh graphing library-----------------------------------------------\n",
    "    # sourcedata = ColumnDataSource(cars.copy())\n",
    "    # plot = figure(x_axis_label='Displacement', y_axis_label=selected_ycol)\n",
    "    # plot.scatter(x='Displacement', y=selected_ycol, source=sourcedata)\n",
    "    # html_bokeh = file_html(plot, CDN)\n",
    "\n",
    "    return html_altair\n",
    "\n",
    "if __name__ == '__main__':\n",
    "    app.run_server(debug=True, port='8001')"
   ]
  },
  {
   "cell_type": "code",
   "execution_count": 9,
   "id": "5eea694f-70dd-4d48-b0ae-99e93755ca30",
   "metadata": {},
   "outputs": [
    {
     "name": "stdout",
     "output_type": "stream",
     "text": [
      "   Year District   Code           Location  Robbery  Street_robbery  Injury  \\\n",
      "0  2012    Mitte  10111     Tiergarten Süd       70              46     586   \n",
      "1  2012    Mitte  10112  Regierungsviertel       65              29     474   \n",
      "2  2012    Mitte  10113     Alexanderplatz      242             136    1541   \n",
      "3  2012    Mitte  10114  Brunnenstraße Süd       52              25     254   \n",
      "4  2012    Mitte  10221        Moabit West      130              51     629   \n",
      "\n",
      "   Agg_assault  Threat  Theft  Car  From_car  Bike  Burglary  Fire  Arson  \\\n",
      "0          194     118   2263   18       328   120        68    16      4   \n",
      "1          123     142   3203   10       307   170        37    10      4   \n",
      "2          454     304   8988   81       792   822       275    49     27   \n",
      "3           60      66   1916   86       192   396       131    14      5   \n",
      "4          185     199   2470   94       410   325       161    42     22   \n",
      "\n",
      "   Damage  Graffiti  Drugs  Local  \n",
      "0     273        26    171   1032  \n",
      "1     380       124     98    870  \n",
      "2    1538       522    435   3108  \n",
      "3     428       122    213    752  \n",
      "4     516        64    259   1403  \n"
     ]
    },
    {
     "data": {
      "text/html": [
       "\n",
       "        <iframe\n",
       "            width=\"100%\"\n",
       "            height=\"650\"\n",
       "            src=\"http://127.0.0.1:8003/\"\n",
       "            frameborder=\"0\"\n",
       "            allowfullscreen\n",
       "            \n",
       "        ></iframe>\n",
       "        "
      ],
      "text/plain": [
       "<IPython.lib.display.IFrame at 0x1a883adac10>"
      ]
     },
     "metadata": {},
     "output_type": "display_data"
    }
   ],
   "source": [
    "from dash import Dash, html, dcc, Input, Output, dash_table  # pip install dash\n",
    "import dash_bootstrap_components as dbc\n",
    "import pandas as pd\n",
    "\n",
    "import matplotlib.pyplot as plt             # pip install matplotlib\n",
    "import mpld3                                # pip install mpld3\n",
    "\n",
    "\n",
    "df = pd.read_csv(\"https://raw.githubusercontent.com/Coding-with-Adam/Dash-by-Plotly/master/Bootstrap/Berlin_crimes.csv\")\n",
    "print(df.head())\n",
    "\n",
    "\n",
    "app = Dash(__name__, external_stylesheets=[dbc.themes.BOOTSTRAP])\n",
    "app.layout = dbc.Container([\n",
    "    html.H1(\"Interactive Matplotlib with Dash\", className='mb-2', style={'textAlign':'center'}),\n",
    "\n",
    "    dbc.Row([\n",
    "        dbc.Col([\n",
    "            dcc.Dropdown(\n",
    "                id='yeardropdown',\n",
    "                value=2012,\n",
    "                clearable=False,\n",
    "                options=[{'label': x, 'value': x} for x in df.Year.unique()])\n",
    "        ], width=6),\n",
    "        dbc.Col([\n",
    "            dcc.Dropdown(\n",
    "                id='distdropdown',\n",
    "                value='Mitte',\n",
    "                clearable=False,\n",
    "                options=[{'label': x, 'value': x} for x in\n",
    "                         sorted(df.District.unique())])\n",
    "        ], width=6),\n",
    "    ]),\n",
    "    dbc.Row([\n",
    "        dbc.Col([\n",
    "            html.Iframe(\n",
    "                id='scatter-plot',\n",
    "                srcDoc=None,  # here is where we will put the graph we make\n",
    "                style={'border-width': '5', 'width': '100%',\n",
    "                       'height': '500px'}),\n",
    "\n",
    "        ], width=6),\n",
    "        dbc.Col([\n",
    "            html.Iframe(\n",
    "                id='bar-plot',\n",
    "                srcDoc=None,  # here is where we will put the graph we make\n",
    "                style={'border-width': '5', 'width': '100%',\n",
    "                       'height': '500px'}),\n",
    "\n",
    "        ], width=6)\n",
    "    ]),\n",
    "    dbc.Row([\n",
    "        dbc.Col([\n",
    "            html.Div(id='table-placeholder', children=[])\n",
    "        ], width=12),\n",
    "    ]),\n",
    "\n",
    "])\n",
    "\n",
    "# Create interactivity between components and graph\n",
    "@app.callback(\n",
    "    Output('scatter-plot', 'srcDoc'),\n",
    "    Output('bar-plot', 'srcDoc'),\n",
    "    Output('table-placeholder', 'children'),\n",
    "    Input('yeardropdown', 'value'),\n",
    "    Input('distdropdown', 'value')\n",
    ")\n",
    "def plot_data(selected_year, selected_district):\n",
    "\n",
    "    # filter data based on user selection\n",
    "    dff = df[df.Year == selected_year]\n",
    "    dff = dff[dff.District == selected_district]\n",
    "\n",
    "    # build scatter plot\n",
    "    fig, ax = plt.subplots()\n",
    "    ax.scatter(x=dff.Damage, y=dff.Graffiti, s=dff.Drugs)\n",
    "    ax.set_xlabel(\"Damage\")\n",
    "    ax.set_ylabel(\"Graffiti\")\n",
    "    ax.grid(color='lightgray', alpha=0.7)\n",
    "    html_scatter = mpld3.fig_to_html(fig)\n",
    "\n",
    "    # build bar plot\n",
    "    fig, ax = plt.subplots()\n",
    "    ax.bar(x=dff.Location, height=dff.Robbery)\n",
    "    ax.set_xlabel(selected_district)\n",
    "    ax.set_ylabel(\"Robbery\")\n",
    "    ax.grid(color='lightgray', alpha=0.7)\n",
    "    html_bar = mpld3.fig_to_html(fig)\n",
    "\n",
    "    # build DataTable\n",
    "    mytable = dash_table.DataTable(\n",
    "        id='table',\n",
    "        columns=[{\"name\": i, \"id\": i} for i in dff.columns],\n",
    "        data=dff.to_dict('records'),\n",
    "    )\n",
    "\n",
    "    return html_scatter, html_bar, mytable\n",
    "\n",
    "\n",
    "if __name__ == '__main__':\n",
    "    app.run_server(debug=False, port=8003)"
   ]
  }
 ],
 "metadata": {
  "kernelspec": {
   "display_name": "Python 3 (ipykernel)",
   "language": "python",
   "name": "python3"
  },
  "language_info": {
   "codemirror_mode": {
    "name": "ipython",
    "version": 3
   },
   "file_extension": ".py",
   "mimetype": "text/x-python",
   "name": "python",
   "nbconvert_exporter": "python",
   "pygments_lexer": "ipython3",
   "version": "3.11.7"
  }
 },
 "nbformat": 4,
 "nbformat_minor": 5
}
