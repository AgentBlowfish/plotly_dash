{
 "cells": [
  {
   "cell_type": "code",
   "execution_count": 5,
   "id": "682e5739-ac32-4b7b-a8ef-cb7061f6629d",
   "metadata": {},
   "outputs": [
    {
     "name": "stdout",
     "output_type": "stream",
     "text": [
      "Collecting vega-datasets\n",
      "  Downloading vega_datasets-0.9.0-py3-none-any.whl.metadata (5.5 kB)\n",
      "Requirement already satisfied: pandas in c:\\users\\gpcor\\anaconda3\\lib\\site-packages (from vega-datasets) (2.1.4)\n",
      "Requirement already satisfied: numpy<2,>=1.23.2 in c:\\users\\gpcor\\anaconda3\\lib\\site-packages (from pandas->vega-datasets) (1.26.4)\n",
      "Requirement already satisfied: python-dateutil>=2.8.2 in c:\\users\\gpcor\\anaconda3\\lib\\site-packages (from pandas->vega-datasets) (2.8.2)\n",
      "Requirement already satisfied: pytz>=2020.1 in c:\\users\\gpcor\\anaconda3\\lib\\site-packages (from pandas->vega-datasets) (2023.3.post1)\n",
      "Requirement already satisfied: tzdata>=2022.1 in c:\\users\\gpcor\\anaconda3\\lib\\site-packages (from pandas->vega-datasets) (2023.3)\n",
      "Requirement already satisfied: six>=1.5 in c:\\users\\gpcor\\anaconda3\\lib\\site-packages (from python-dateutil>=2.8.2->pandas->vega-datasets) (1.16.0)\n",
      "Downloading vega_datasets-0.9.0-py3-none-any.whl (210 kB)\n",
      "   ---------------------------------------- 0.0/210.8 kB ? eta -:--:--\n",
      "   ---------------------------------------- 0.0/210.8 kB ? eta -:--:--\n",
      "   --- ----------------------------------- 20.5/210.8 kB 330.3 kB/s eta 0:00:01\n",
      "   --------- ----------------------------- 51.2/210.8 kB 435.7 kB/s eta 0:00:01\n",
      "   -------------------------------------- - 204.8/210.8 kB 1.4 MB/s eta 0:00:01\n",
      "   ---------------------------------------- 210.8/210.8 kB 1.3 MB/s eta 0:00:00\n",
      "Installing collected packages: vega-datasets\n",
      "Successfully installed vega-datasets-0.9.0\n"
     ]
    }
   ],
   "source": [
    "!pip install vega-datasets"
   ]
  },
  {
   "cell_type": "code",
   "execution_count": 6,
   "id": "92d5f6ef-faf7-4226-b965-66fb50eef554",
   "metadata": {},
   "outputs": [
    {
     "data": {
      "text/html": [
       "\n",
       "        <iframe\n",
       "            width=\"100%\"\n",
       "            height=\"650\"\n",
       "            src=\"http://127.0.0.1:8001/\"\n",
       "            frameborder=\"0\"\n",
       "            allowfullscreen\n",
       "            \n",
       "        ></iframe>\n",
       "        "
      ],
      "text/plain": [
       "<IPython.lib.display.IFrame at 0x1a881c19350>"
      ]
     },
     "metadata": {},
     "output_type": "display_data"
    },
    {
     "name": "stdout",
     "output_type": "stream",
     "text": [
      "User Seleceted this dropdown value: Horsepower\n"
     ]
    },
    {
     "name": "stderr",
     "output_type": "stream",
     "text": [
      "C:\\Users\\gpcor\\anaconda3\\Lib\\site-packages\\altair\\utils\\core.py:395: FutureWarning:\n",
      "\n",
      "the convert_dtype parameter is deprecated and will be removed in a future version.  Do ``ser.astype(object).apply()`` instead if you want ``convert_dtype=False``.\n",
      "\n",
      "C:\\Users\\gpcor\\anaconda3\\Lib\\site-packages\\altair\\utils\\core.py:395: FutureWarning:\n",
      "\n",
      "the convert_dtype parameter is deprecated and will be removed in a future version.  Do ``ser.astype(object).apply()`` instead if you want ``convert_dtype=False``.\n",
      "\n"
     ]
    },
    {
     "name": "stdout",
     "output_type": "stream",
     "text": [
      "User Seleceted this dropdown value: Cylinders\n"
     ]
    },
    {
     "name": "stderr",
     "output_type": "stream",
     "text": [
      "C:\\Users\\gpcor\\anaconda3\\Lib\\site-packages\\altair\\utils\\core.py:395: FutureWarning:\n",
      "\n",
      "the convert_dtype parameter is deprecated and will be removed in a future version.  Do ``ser.astype(object).apply()`` instead if you want ``convert_dtype=False``.\n",
      "\n",
      "C:\\Users\\gpcor\\anaconda3\\Lib\\site-packages\\altair\\utils\\core.py:395: FutureWarning:\n",
      "\n",
      "the convert_dtype parameter is deprecated and will be removed in a future version.  Do ``ser.astype(object).apply()`` instead if you want ``convert_dtype=False``.\n",
      "\n"
     ]
    },
    {
     "name": "stdout",
     "output_type": "stream",
     "text": [
      "User Seleceted this dropdown value: Horsepower\n"
     ]
    },
    {
     "name": "stderr",
     "output_type": "stream",
     "text": [
      "C:\\Users\\gpcor\\anaconda3\\Lib\\site-packages\\altair\\utils\\core.py:395: FutureWarning:\n",
      "\n",
      "the convert_dtype parameter is deprecated and will be removed in a future version.  Do ``ser.astype(object).apply()`` instead if you want ``convert_dtype=False``.\n",
      "\n",
      "C:\\Users\\gpcor\\anaconda3\\Lib\\site-packages\\altair\\utils\\core.py:395: FutureWarning:\n",
      "\n",
      "the convert_dtype parameter is deprecated and will be removed in a future version.  Do ``ser.astype(object).apply()`` instead if you want ``convert_dtype=False``.\n",
      "\n"
     ]
    },
    {
     "name": "stdout",
     "output_type": "stream",
     "text": [
      "User Seleceted this dropdown value: Weight_in_lbs\n"
     ]
    },
    {
     "name": "stderr",
     "output_type": "stream",
     "text": [
      "C:\\Users\\gpcor\\anaconda3\\Lib\\site-packages\\altair\\utils\\core.py:395: FutureWarning:\n",
      "\n",
      "the convert_dtype parameter is deprecated and will be removed in a future version.  Do ``ser.astype(object).apply()`` instead if you want ``convert_dtype=False``.\n",
      "\n",
      "C:\\Users\\gpcor\\anaconda3\\Lib\\site-packages\\altair\\utils\\core.py:395: FutureWarning:\n",
      "\n",
      "the convert_dtype parameter is deprecated and will be removed in a future version.  Do ``ser.astype(object).apply()`` instead if you want ``convert_dtype=False``.\n",
      "\n"
     ]
    },
    {
     "name": "stdout",
     "output_type": "stream",
     "text": [
      "User Seleceted this dropdown value: Displacement\n"
     ]
    },
    {
     "name": "stderr",
     "output_type": "stream",
     "text": [
      "C:\\Users\\gpcor\\anaconda3\\Lib\\site-packages\\altair\\utils\\core.py:395: FutureWarning:\n",
      "\n",
      "the convert_dtype parameter is deprecated and will be removed in a future version.  Do ``ser.astype(object).apply()`` instead if you want ``convert_dtype=False``.\n",
      "\n",
      "C:\\Users\\gpcor\\anaconda3\\Lib\\site-packages\\altair\\utils\\core.py:395: FutureWarning:\n",
      "\n",
      "the convert_dtype parameter is deprecated and will be removed in a future version.  Do ``ser.astype(object).apply()`` instead if you want ``convert_dtype=False``.\n",
      "\n"
     ]
    },
    {
     "name": "stdout",
     "output_type": "stream",
     "text": [
      "User Seleceted this dropdown value: Acceleration\n"
     ]
    },
    {
     "name": "stderr",
     "output_type": "stream",
     "text": [
      "C:\\Users\\gpcor\\anaconda3\\Lib\\site-packages\\altair\\utils\\core.py:395: FutureWarning:\n",
      "\n",
      "the convert_dtype parameter is deprecated and will be removed in a future version.  Do ``ser.astype(object).apply()`` instead if you want ``convert_dtype=False``.\n",
      "\n",
      "C:\\Users\\gpcor\\anaconda3\\Lib\\site-packages\\altair\\utils\\core.py:395: FutureWarning:\n",
      "\n",
      "the convert_dtype parameter is deprecated and will be removed in a future version.  Do ``ser.astype(object).apply()`` instead if you want ``convert_dtype=False``.\n",
      "\n"
     ]
    }
   ],
   "source": [
    "from dash import Dash, html, dcc, Input, Output  # pip install dash\n",
    "import dash_bootstrap_components as dbc\n",
    "from vega_datasets import data              # pip install vega-datasets\n",
    "\n",
    "import altair as alt                        # pip install altair\n",
    "\n",
    "import matplotlib.pyplot as plt             # pip install matplotlib\n",
    "import mpld3                                # pip install mpld3\n",
    "\n",
    "from bokeh.plotting import figure           # pip install Bokeh\n",
    "from bokeh.resources import CDN\n",
    "from bokeh.embed import file_html\n",
    "from bokeh.models import ColumnDataSource\n",
    "\n",
    "\n",
    "# bring data into app\n",
    "cars = data.cars()\n",
    "# print(cars.columns)\n",
    "\n",
    "# Set up Dash app\n",
    "app = Dash(__name__, external_stylesheets=[dbc.themes.BOOTSTRAP])\n",
    "\n",
    "# Set up the page layout\n",
    "app.layout = dbc.Container([\n",
    "    html.H1(\"Creating Interactive Altair, Matplotlib, Bokeh Visualizations with Dash\"),\n",
    "\n",
    "    html.Iframe(\n",
    "        id='scatterplots',\n",
    "        srcDoc=None, # here is where we will put the graph we make\n",
    "        style={'border-width': '5', 'width': '100%', 'height': '500px'}),\n",
    "\n",
    "    html.H5(\"Select Y column for graph\", className='mt-2'),\n",
    "    dcc.Dropdown(\n",
    "        id='mydropdown',\n",
    "        value='Horsepower',\n",
    "        options=[{'label': col, 'value': col} for col in cars.columns])\n",
    "])\n",
    "\n",
    "# Create interactivity between dropdown and graph\n",
    "@app.callback(\n",
    "    Output(component_id='scatterplots', component_property='srcDoc'),\n",
    "    Input(component_id='mydropdown', component_property='value'))\n",
    "def plot_data(selected_ycol):\n",
    "    print(f\"User Seleceted this dropdown value: {selected_ycol}\")\n",
    "\n",
    "    # Altair graphing library----------------------------------------------\n",
    "    chart = alt.Chart(cars).mark_circle().encode(\n",
    "        x='Displacement',\n",
    "        y=selected_ycol,\n",
    "        tooltip=selected_ycol).interactive()\n",
    "    html_altair = chart.to_html()\n",
    "\n",
    "    # Matplotlib graphing library------------------------------------------\n",
    "    # colvalue = cars[selected_ycol]\n",
    "    # fig, ax = plt.subplots()\n",
    "    # ax.scatter(x=cars.Displacement, y=colvalue)\n",
    "    # ax.set_xlabel(\"Displacement\")\n",
    "    # ax.set_ylabel(selected_ycol)\n",
    "    # ax.grid(color='lightgray', alpha=0.7)\n",
    "    # html_matplotlib = mpld3.fig_to_html(fig)\n",
    "\n",
    "    # Bokeh graphing library-----------------------------------------------\n",
    "    # sourcedata = ColumnDataSource(cars.copy())\n",
    "    # plot = figure(x_axis_label='Displacement', y_axis_label=selected_ycol)\n",
    "    # plot.scatter(x='Displacement', y=selected_ycol, source=sourcedata)\n",
    "    # html_bokeh = file_html(plot, CDN)\n",
    "\n",
    "    return html_altair\n",
    "\n",
    "if __name__ == '__main__':\n",
    "    app.run_server(debug=True, port=8001)"
   ]
  }
 ],
 "metadata": {
  "kernelspec": {
   "display_name": "Python 3 (ipykernel)",
   "language": "python",
   "name": "python3"
  },
  "language_info": {
   "codemirror_mode": {
    "name": "ipython",
    "version": 3
   },
   "file_extension": ".py",
   "mimetype": "text/x-python",
   "name": "python",
   "nbconvert_exporter": "python",
   "pygments_lexer": "ipython3",
   "version": "3.11.7"
  }
 },
 "nbformat": 4,
 "nbformat_minor": 5
}
